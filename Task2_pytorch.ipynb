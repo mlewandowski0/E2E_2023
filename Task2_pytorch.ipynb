{
  "nbformat": 4,
  "nbformat_minor": 0,
  "metadata": {
    "colab": {
      "provenance": [],
      "machine_shape": "hm"
    },
    "kernelspec": {
      "name": "python3",
      "display_name": "Python 3"
    },
    "language_info": {
      "name": "python"
    },
    "accelerator": "GPU",
    "gpuClass": "standard"
  },
  "cells": [
    {
      "cell_type": "markdown",
      "source": [
        "# Extra installs"
      ],
      "metadata": {
        "id": "HDTwBTzLcIPe"
      }
    },
    {
      "cell_type": "code",
      "source": [
        "#!pip install cloud-tpu-client==0.10 torch==1.13.0 https://storage.googleapis.com/tpu-pytorch/wheels/colab/torch_xla-1.13-cp38-cp38-linux_x86_64.whl\n",
        "!pip install torchsummary\n",
        "!pip install sparse"
      ],
      "metadata": {
        "colab": {
          "base_uri": "https://localhost:8080/"
        },
        "id": "Wjufz_R5cKoF",
        "outputId": "d68cfd08-e96e-4759-8874-1ed964fc2d15"
      },
      "execution_count": 2,
      "outputs": [
        {
          "output_type": "stream",
          "name": "stdout",
          "text": [
            "Looking in indexes: https://pypi.org/simple, https://us-python.pkg.dev/colab-wheels/public/simple/\n",
            "Requirement already satisfied: torchsummary in /usr/local/lib/python3.8/dist-packages (1.5.1)\n",
            "Looking in indexes: https://pypi.org/simple, https://us-python.pkg.dev/colab-wheels/public/simple/\n",
            "Collecting sparse\n",
            "  Downloading sparse-0.14.0-py2.py3-none-any.whl (80 kB)\n",
            "\u001b[2K     \u001b[90m━━━━━━━━━━━━━━━━━━━━━━━━━━━━━━━━━━━━━━━━\u001b[0m \u001b[32m81.0/81.0 KB\u001b[0m \u001b[31m2.7 MB/s\u001b[0m eta \u001b[36m0:00:00\u001b[0m\n",
            "\u001b[?25hRequirement already satisfied: scipy>=0.19 in /usr/local/lib/python3.8/dist-packages (from sparse) (1.10.1)\n",
            "Requirement already satisfied: numba>=0.49 in /usr/local/lib/python3.8/dist-packages (from sparse) (0.56.4)\n",
            "Requirement already satisfied: numpy>=1.17 in /usr/local/lib/python3.8/dist-packages (from sparse) (1.22.4)\n",
            "Requirement already satisfied: setuptools in /usr/local/lib/python3.8/dist-packages (from numba>=0.49->sparse) (57.4.0)\n",
            "Requirement already satisfied: llvmlite<0.40,>=0.39.0dev0 in /usr/local/lib/python3.8/dist-packages (from numba>=0.49->sparse) (0.39.1)\n",
            "Requirement already satisfied: importlib-metadata in /usr/local/lib/python3.8/dist-packages (from numba>=0.49->sparse) (6.0.0)\n",
            "Requirement already satisfied: zipp>=0.5 in /usr/local/lib/python3.8/dist-packages (from importlib-metadata->numba>=0.49->sparse) (3.15.0)\n",
            "Installing collected packages: sparse\n",
            "Successfully installed sparse-0.14.0\n"
          ]
        }
      ]
    },
    {
      "cell_type": "markdown",
      "source": [
        "# Imports"
      ],
      "metadata": {
        "id": "NlRKOenoEVbm"
      }
    },
    {
      "cell_type": "code",
      "execution_count": 3,
      "metadata": {
        "id": "wxuBCVTCEB50"
      },
      "outputs": [],
      "source": [
        "import os\n",
        "import time\n",
        "import torch.nn as nn\n",
        "from tqdm import tqdm\n",
        "import pyarrow.parquet as pq\n",
        "from collections import defaultdict, Counter\n",
        "import numpy as np\n",
        "import matplotlib.pyplot as plt\n",
        "import torch\n",
        "import sparse\n",
        "import torchvision\n",
        "from torchvision.datasets.folder import DatasetFolder\n",
        "# imports the torch_xla package\n",
        "from sklearn.metrics import roc_auc_score\n",
        "import torch.nn.functional as F\n",
        "from torchsummary import summary\n",
        "import torch.optim as pt_optim\n",
        "import torch.optim.lr_scheduler as pt_lr_scheduler\n",
        "from tqdm import tqdm"
      ]
    },
    {
      "cell_type": "markdown",
      "source": [
        "# Dataset"
      ],
      "metadata": {
        "id": "b-5PTuyqEYjB"
      }
    },
    {
      "cell_type": "code",
      "source": [
        "try:\n",
        "  import google.colab\n",
        "  COLAB_ENV = True\n",
        "except:\n",
        "  COLAB_ENV = False\n",
        "\n",
        "\n",
        "if COLAB_ENV:\n",
        "  data_filepath = \"/\" + os.path.join(\"content\",\"drive\",\"MyDrive\",\"datasets\", \"ML4SCI_GSOC23\")\n",
        "  from google.colab import drive\n",
        "  drive.mount('/content/drive')\n",
        "else:\n",
        "  data_filepath = \"data\""
      ],
      "metadata": {
        "colab": {
          "base_uri": "https://localhost:8080/"
        },
        "id": "sOML3_TBEYwz",
        "outputId": "a0064cdb-c21b-4689-e0e7-537f3920c0e0"
      },
      "execution_count": 4,
      "outputs": [
        {
          "output_type": "stream",
          "name": "stdout",
          "text": [
            "Mounted at /content/drive\n"
          ]
        }
      ]
    },
    {
      "cell_type": "code",
      "source": [
        "!ls /content/drive/MyDrive/datasets/ML4SCI_GSOC23/Task2"
      ],
      "metadata": {
        "colab": {
          "base_uri": "https://localhost:8080/"
        },
        "id": "6Ul4UZGfwI3R",
        "outputId": "69422bc3-5cf7-42ed-dfec-a261d8279bde"
      },
      "execution_count": 5,
      "outputs": [
        {
          "output_type": "stream",
          "name": "stdout",
          "text": [
            "Task2_large.zip  Task2.zip\n"
          ]
        }
      ]
    },
    {
      "cell_type": "code",
      "source": [
        "!rsync -P /content/drive/MyDrive/datasets/ML4SCI_GSOC23/Task2/Task2_large.zip ."
      ],
      "metadata": {
        "colab": {
          "base_uri": "https://localhost:8080/"
        },
        "id": "cDH2rgT6v3n1",
        "outputId": "6a44b3b6-9e5d-4075-b144-ad6477fa7086"
      },
      "execution_count": 6,
      "outputs": [
        {
          "output_type": "stream",
          "name": "stdout",
          "text": [
            "Task2_large.zip\n",
            "    511,755,972 100%  101.71MB/s    0:00:04 (xfr#1, to-chk=0/1)\n"
          ]
        }
      ]
    },
    {
      "cell_type": "code",
      "source": [
        "!unzip -q Task2_large.zip"
      ],
      "metadata": {
        "id": "a7uyKx_c2icC"
      },
      "execution_count": 10,
      "outputs": []
    },
    {
      "cell_type": "code",
      "source": [
        "!ls data/Task2"
      ],
      "metadata": {
        "colab": {
          "base_uri": "https://localhost:8080/"
        },
        "id": "8LWGZOov2nja",
        "outputId": "76e2272e-a9d8-406f-cf39-932d807091d0"
      },
      "execution_count": 11,
      "outputs": [
        {
          "output_type": "stream",
          "name": "stdout",
          "text": [
            "Gluon  Quark\n"
          ]
        }
      ]
    },
    {
      "cell_type": "code",
      "source": [
        "np_images_filepath = os.path.join(\"data\", \"Task2\")\n",
        "class_to_label = {0 : \"Gluon\",\n",
        "                  1 : \"Quark\"}\n",
        "\n",
        "model_save_folder = os.path.join(data_filepath, \"models\", \"Task2\")\n",
        "\n",
        "os.makedirs(model_save_folder, exist_ok=True)\n",
        "print(os.listdir(np_images_filepath))"
      ],
      "metadata": {
        "colab": {
          "base_uri": "https://localhost:8080/"
        },
        "id": "O6SvBWEb27EV",
        "outputId": "cb8b6ddf-1e24-47e0-9a4e-84ac0e5c006f"
      },
      "execution_count": 12,
      "outputs": [
        {
          "output_type": "stream",
          "name": "stdout",
          "text": [
            "['Quark', 'Gluon']\n"
          ]
        }
      ]
    },
    {
      "cell_type": "markdown",
      "source": [
        "# EDA"
      ],
      "metadata": {
        "id": "tEbv5XvQEbrI"
      }
    },
    {
      "cell_type": "code",
      "source": [
        "def get_n_random_from_class(_class : int, n : int) -> list:\n",
        "  class_filepath = os.path.join(np_images_filepath, class_to_label[_class])\n",
        "  files = [os.path.join(class_filepath, f) for f in os.listdir(class_filepath)]\n",
        "  idxes = np.random.permutation(np.arange(0, len(files)))[:n]\n",
        "\n",
        "  return [(_class, files[i]) for i in idxes]\n",
        "\n",
        "gluons = get_n_random_from_class(0, 5)\n",
        "quarks = get_n_random_from_class(1, 5)\n",
        "\n",
        "to_viz = gluons + quarks\n",
        "np.random.shuffle(to_viz)\n",
        "\n",
        "scale = 5\n",
        "n = len(to_viz)\n",
        "plt.figure(figsize=(scale, n* scale))\n",
        "for i, datapoint in enumerate(to_viz):\n",
        "  cls = datapoint[0]\n",
        "  #print(datapoint[1])\n",
        "  img = sparse.load_npz(datapoint[1]).todense()\n",
        "  plt.subplot(n, 1, i + 1)\n",
        "  plt.imshow(img)\n",
        "  plt.title(f\"class = {cls}\")\n",
        "\n",
        "plt.show()"
      ],
      "metadata": {
        "colab": {
          "base_uri": "https://localhost:8080/",
          "height": 1000
        },
        "id": "fJ1dqLKKEcNE",
        "outputId": "9ef2c182-cd7c-4d18-89cb-f17bdcc4038c"
      },
      "execution_count": 13,
      "outputs": [
        {
          "output_type": "stream",
          "name": "stderr",
          "text": [
            "WARNING:matplotlib.image:Clipping input data to the valid range for imshow with RGB data ([0..1] for floats or [0..255] for integers).\n",
            "WARNING:matplotlib.image:Clipping input data to the valid range for imshow with RGB data ([0..1] for floats or [0..255] for integers).\n",
            "WARNING:matplotlib.image:Clipping input data to the valid range for imshow with RGB data ([0..1] for floats or [0..255] for integers).\n",
            "WARNING:matplotlib.image:Clipping input data to the valid range for imshow with RGB data ([0..1] for floats or [0..255] for integers).\n",
            "WARNING:matplotlib.image:Clipping input data to the valid range for imshow with RGB data ([0..1] for floats or [0..255] for integers).\n",
            "WARNING:matplotlib.image:Clipping input data to the valid range for imshow with RGB data ([0..1] for floats or [0..255] for integers).\n",
            "WARNING:matplotlib.image:Clipping input data to the valid range for imshow with RGB data ([0..1] for floats or [0..255] for integers).\n",
            "WARNING:matplotlib.image:Clipping input data to the valid range for imshow with RGB data ([0..1] for floats or [0..255] for integers).\n",
            "WARNING:matplotlib.image:Clipping input data to the valid range for imshow with RGB data ([0..1] for floats or [0..255] for integers).\n",
            "WARNING:matplotlib.image:Clipping input data to the valid range for imshow with RGB data ([0..1] for floats or [0..255] for integers).\n"
          ]
        },
        {
          "output_type": "display_data",
          "data": {
            "text/plain": [
              "<Figure size 360x3600 with 10 Axes>"
            ],
            "image/png": "[encoded data removed]"
          },
          "metadata": {
            "needs_background": "light"
          }
        }
      ]
    },
    {
      "cell_type": "markdown",
      "source": [
        "# Pytorch Dataset Creation"
      ],
      "metadata": {
        "id": "zJo13ugxZJ-S"
      }
    },
    {
      "cell_type": "code",
      "source": [
        "device = torch.device(\"cuda:0\" if torch.cuda.is_available() else \"cpu\")\n",
        "print(f\"Device Used : {device}\")"
      ],
      "metadata": {
        "colab": {
          "base_uri": "https://localhost:8080/"
        },
        "id": "VufqRQCjcXeP",
        "outputId": "fb858445-167f-4b90-dbb0-db7626a2cb70"
      },
      "execution_count": 14,
      "outputs": [
        {
          "output_type": "stream",
          "name": "stdout",
          "text": [
            "Device Used : cuda:0\n"
          ]
        }
      ]
    },
    {
      "cell_type": "code",
      "source": [
        "from torch.utils.data import DataLoader\n",
        "\n",
        "\"\"\"\n",
        "# For small dataset \n",
        "mean = np.array([0.00782386,0.00482207,0.00304506])\n",
        "std = np.array([0.63704916,0.18686025,0.04598732])\n",
        "\"\"\"\n",
        "\n",
        "# Large dataset\n",
        "mean = np.array([0.00793777, 0.00491434, 0.00303773])\n",
        "std = np.array([1.89825445, 0.18734633, 0.04594031])\n",
        "\n",
        "def load_npy(path : str) -> torch.Tensor:\n",
        "    # load from sparse representation\n",
        "    img = sparse.load_npz(path).todense()\n",
        "    \n",
        "    # normalize the image\n",
        "    img = (img - mean) / std\n",
        "\n",
        "    # convert to pytorch representation\n",
        "    img = img.transpose(2, 0, 1)\n",
        "    \n",
        "    return torch.from_numpy( img )\n",
        "\n",
        "train_ds = DatasetFolder(np_images_filepath, extensions=[\".npz\"], loader=load_npy)\n",
        "train_dl = DataLoader(train_ds, batch_size=32, shuffle=True)"
      ],
      "metadata": {
        "id": "RW3KcQ6UJV9T"
      },
      "execution_count": 15,
      "outputs": []
    },
    {
      "cell_type": "code",
      "source": [
        "next(iter(train_dl))[0].shape"
      ],
      "metadata": {
        "colab": {
          "base_uri": "https://localhost:8080/"
        },
        "id": "ZgG2rchGb36P",
        "outputId": "27e2355c-a43a-4e44-d02b-3da71f5770fb"
      },
      "execution_count": 16,
      "outputs": [
        {
          "output_type": "execute_result",
          "data": {
            "text/plain": [
              "torch.Size([32, 3, 125, 125])"
            ]
          },
          "metadata": {},
          "execution_count": 16
        }
      ]
    },
    {
      "cell_type": "markdown",
      "source": [
        "# Test Run"
      ],
      "metadata": {
        "id": "pi-blR_ZbdZQ"
      }
    },
    {
      "cell_type": "code",
      "source": [
        "def training_epoch(model, criterion, optimizer, scheduler, dataloader, dataset_size, saveTo, num_epochs=25):\n",
        "    since = time.time()\n",
        "\n",
        "    returnDict = {\"trainingLoss\" : [], \"trainingAccuracy\" : [], \"epochs\" : [], \"trainingAUC\" : []}\n",
        "    best_acc = 0.0\n",
        "\n",
        "    for epoch in range(num_epochs):\n",
        "        print(f'Epoch {epoch}/{num_epochs - 1}')\n",
        "        print('-' * 10)\n",
        "        returnDict[\"epochs\"].append(epoch)\n",
        "\n",
        "        since2 = time.time()\n",
        "        model.train()  # Set model to training mode\n",
        "\n",
        "        running_loss = 0.0\n",
        "        running_corrects = 0\n",
        "        y = torch.Tensor()\n",
        "        pred_y = torch.Tensor()\n",
        "\n",
        "        i = 0\n",
        "        # Iterate over data.\n",
        "        for inputs, labels in tqdm(dataloader):\n",
        "            i += 1\n",
        "            inputs = inputs.to(device).float()\n",
        "            labels = labels.to(device)\n",
        "            labels = labels.long()\n",
        "\n",
        "            y = torch.cat([y, labels.cpu()])\n",
        "            # zero the parameter gradients\n",
        "            optimizer.zero_grad()\n",
        "\n",
        "            # forward\n",
        "            # track history if only in train\n",
        "            with torch.set_grad_enabled(True):\n",
        "                outputs = model(inputs)\n",
        "                pred_labels = (outputs >= 0.5).reshape(-1)\n",
        "\n",
        "                #print(outputs.shape)\n",
        "                loss = criterion(outputs, labels.reshape(-1, 1).to(torch.float32))\n",
        "\n",
        "                pred_y = torch.cat([pred_y, outputs.cpu()])\n",
        "\n",
        "                # backward + optimize only if in training phase\n",
        "                loss.backward()\n",
        "                optimizer.step()\n",
        "\n",
        "            # statistics\n",
        "            running_loss += loss.item() * inputs.size(0)\n",
        "            running_corrects += torch.sum(pred_labels == labels.data)\n",
        "            \n",
        "        scheduler.step()\n",
        "\n",
        "        epoch_loss = running_loss / dataset_size\n",
        "        epoch_acc = running_corrects.double() / dataset_size\n",
        "        AUC_ROC = roc_auc_score(y.detach().numpy(), pred_y.detach().numpy())  \n",
        "\n",
        "        returnDict[\"trainingLoss\"].append(epoch_loss)\n",
        "        returnDict[\"trainingAccuracy\"].append(epoch_acc.cpu().item())\n",
        "        returnDict[\"trainingAUC\"].append(AUC_ROC)\n",
        "\n",
        "        print(f'Loss: {epoch_loss:.4f} Acc: {epoch_acc:.4f} AUC ROC : {AUC_ROC:.4f} Time taken : {round(time.time() - since2, 2)}')\n",
        "        print()\n",
        "\n",
        "    time_elapsed = time.time() - since\n",
        "    print(f'Training complete in {time_elapsed // 60:.0f}m {time_elapsed % 60:.0f}s')\n",
        "\n",
        "    # load best model weights\n",
        "    returnDict[\"best_model\"] = model\n",
        "    return returnDict\n"
      ],
      "metadata": {
        "id": "0acw14tpZ3N9"
      },
      "execution_count": 22,
      "outputs": []
    },
    {
      "cell_type": "code",
      "source": [
        "def plotResults(results):\n",
        "    plt.figure(figsize=(16,12))\n",
        "    plt.subplot(3,1, 1)\n",
        "    plt.plot(results['epochs'], results['trainingLoss'], label=\"training Loss\")\n",
        "    #plt.plot(results['epochs'], results['validationLoss'], label=\"validation Loss\")\n",
        "    plt.legend()\n",
        "\n",
        "    plt.subplot(3,1, 2)\n",
        "    plt.plot(results['epochs'], results['trainingAccuracy'], label=\"training Accuracy\")\n",
        "    #plt.plot(results['epochs'], results['validationAccuracy'], label=\"validation Accuracy\")\n",
        "    plt.legend()\n",
        "  \n",
        "  \n",
        "    plt.subplot(3,1, 3)\n",
        "    plt.plot(results['epochs'], results['trainingAUC'], label=\"training ROC\")\n",
        "    #plt.plot(results['epochs'], results['validationAUC'], label=\"validation AUC ROC\")\n",
        "    #plt.plot([0, results['epochs'][-1]], [0.8, 0.8], \"--\", color='black')\n",
        "    plt.legend()\n",
        "\n",
        "    plt.show()"
      ],
      "metadata": {
        "id": "iUkVeaXCgkjp"
      },
      "execution_count": 23,
      "outputs": []
    },
    {
      "cell_type": "code",
      "source": [
        "def doExperiment(model_ft, epochs=10, learning_rate=1e-3, plot=True, _summary=True):\n",
        "  if _summary:\n",
        "    print(summary(model_ft, input_size=(3, 125, 125), device=\"cpu\"))\n",
        "  \n",
        "  model_ft = model_ft.to(device)\n",
        "  optim = pt_optim.Adam(model_ft.parameters(), lr=learning_rate)\n",
        "  lr_sched = pt_lr_scheduler.StepLR(optim, 10, 0.9)\n",
        "\n",
        "  dats = training_epoch(model_ft, F.binary_cross_entropy, optim, lr_sched, train_dl, \n",
        "                 len(train_ds) , \n",
        "                 os.path.join(model_save_folder, \"Simple.pt\"), \n",
        "                 num_epochs=epochs)\n",
        "  \n",
        "  if plot:\n",
        "    plotResults(dats)\n",
        "  return dats\n"
      ],
      "metadata": {
        "id": "gJfoeoHNgKJ-"
      },
      "execution_count": 24,
      "outputs": []
    },
    {
      "cell_type": "markdown",
      "source": [
        "# Basic CNN"
      ],
      "metadata": {
        "id": "ww4IjNd8gK4Z"
      }
    },
    {
      "cell_type": "code",
      "source": [
        "import torch.nn as nn\n",
        "\n",
        "class startingModel(nn.Module):\n",
        "    def __init__(self):\n",
        "        super(startingModel, self).__init__()\n",
        "        self.conv1 = nn.Conv2d(3, 64, 5, bias=False)       # output becomes 26x26\n",
        "        self.conv1_bn = nn.BatchNorm2d(64)\n",
        "        self.conv2 = nn.Conv2d(64, 64, 5, bias=False)      # output becomes 24x24\n",
        "        self.conv2_bn = nn.BatchNorm2d(64)\n",
        "        self.pool1 = nn.MaxPool2d(2)\n",
        "      \n",
        "        self.conv3 = nn.Conv2d(64, 64, 5, bias=False)      # output becomes 22x22\n",
        "        self.conv3_bn = nn.BatchNorm2d(64)\n",
        "        self.conv4 = nn.Conv2d(64, 64, 5, bias=False)      # output becomes 20x20\n",
        "        self.conv4_bn = nn.BatchNorm2d(64)\n",
        "        self.pool2 = nn.MaxPool2d(2)\n",
        "\n",
        "        self.conv5 = nn.Conv2d(64, 64, 5, bias=False)      # output becomes 22x22\n",
        "        self.conv5_bn = nn.BatchNorm2d(64)\n",
        "        self.conv6 = nn.Conv2d(64, 64, 5, bias=False)      # output becomes 20x20\n",
        "        self.conv6_bn = nn.BatchNorm2d(64)\n",
        "        self.pool3 = nn.MaxPool2d(2)\n",
        "\n",
        "        self.fc1 = nn.Linear(4096, 64, bias=False)\n",
        "        self.fc2 = nn.Linear(64, 1, bias=False)\n",
        "        self.sigmoid = nn.Sigmoid()\n",
        "    \n",
        "    def forward(self, x):\n",
        "        conv1 = F.relu(self.conv1_bn(self.conv1(x)))\n",
        "        conv2 = F.relu(self.conv2_bn(self.conv2(conv1)))\n",
        "        conv2 = self.pool1(conv2)\n",
        "\n",
        "        conv3 = F.relu(self.conv3_bn(self.conv3(conv2)))\n",
        "        conv4 = F.relu(self.conv4_bn(self.conv4(conv3)))\n",
        "        conv4 = self.pool2(conv4)\n",
        "\n",
        "        conv5 = F.relu(self.conv5_bn(self.conv5(conv4)))\n",
        "        conv6 = F.relu(self.conv6_bn(self.conv6(conv5)))\n",
        "        conv6 = self.pool3(conv6)\n",
        "\n",
        "        flat1 = torch.flatten(conv6.permute(0, 2, 3, 1), 1)\n",
        "        fc1 = F.relu(self.fc1(flat1))\n",
        "        logits = self.fc2(fc1)\n",
        "        return self.sigmoid(logits)\n",
        "\n",
        "\n",
        "doExperiment(startingModel())"
      ],
      "metadata": {
        "colab": {
          "base_uri": "https://localhost:8080/",
          "height": 1000
        },
        "id": "qngElFJqeJih",
        "outputId": "88e6b7b7-bf61-4121-9c04-396614290f91"
      },
      "execution_count": 25,
      "outputs": [
        {
          "output_type": "stream",
          "name": "stdout",
          "text": [
            "----------------------------------------------------------------\n",
            "        Layer (type)               Output Shape         Param #\n",
            "================================================================\n",
            "            Conv2d-1         [-1, 64, 121, 121]           4,800\n",
            "       BatchNorm2d-2         [-1, 64, 121, 121]             128\n",
            "            Conv2d-3         [-1, 64, 117, 117]         102,400\n",
            "       BatchNorm2d-4         [-1, 64, 117, 117]             128\n",
            "         MaxPool2d-5           [-1, 64, 58, 58]               0\n",
            "            Conv2d-6           [-1, 64, 54, 54]         102,400\n",
            "       BatchNorm2d-7           [-1, 64, 54, 54]             128\n",
            "            Conv2d-8           [-1, 64, 50, 50]         102,400\n",
            "       BatchNorm2d-9           [-1, 64, 50, 50]             128\n",
            "        MaxPool2d-10           [-1, 64, 25, 25]               0\n",
            "           Conv2d-11           [-1, 64, 21, 21]         102,400\n",
            "      BatchNorm2d-12           [-1, 64, 21, 21]             128\n",
            "           Conv2d-13           [-1, 64, 17, 17]         102,400\n",
            "      BatchNorm2d-14           [-1, 64, 17, 17]             128\n",
            "        MaxPool2d-15             [-1, 64, 8, 8]               0\n",
            "           Linear-16                   [-1, 64]         262,144\n",
            "           Linear-17                    [-1, 1]              64\n",
            "          Sigmoid-18                    [-1, 1]               0\n",
            "================================================================\n",
            "Total params: 779,776\n",
            "Trainable params: 779,776\n",
            "Non-trainable params: 0\n",
            "----------------------------------------------------------------\n",
            "Input size (MB): 0.18\n",
            "Forward/backward pass size (MB): 35.65\n",
            "Params size (MB): 2.97\n",
            "Estimated Total Size (MB): 38.80\n",
            "----------------------------------------------------------------\n",
            "None\n",
            "Epoch 0/9\n",
            "----------\n"
          ]
        },
        {
          "output_type": "stream",
          "name": "stderr",
          "text": [
            "100%|██████████| 4354/4354 [10:59<00:00,  6.60it/s]\n"
          ]
        },
        {
          "output_type": "stream",
          "name": "stdout",
          "text": [
            "Loss: 0.5708 Acc: 0.7143 AUC ROC : 0.7757 Time taken : 659.76\n",
            "\n",
            "Epoch 1/9\n",
            "----------\n"
          ]
        },
        {
          "output_type": "stream",
          "name": "stderr",
          "text": [
            "100%|██████████| 4354/4354 [10:48<00:00,  6.71it/s]\n"
          ]
        },
        {
          "output_type": "stream",
          "name": "stdout",
          "text": [
            "Loss: 0.5583 Acc: 0.7230 AUC ROC : 0.7876 Time taken : 648.88\n",
            "\n",
            "Epoch 2/9\n",
            "----------\n"
          ]
        },
        {
          "output_type": "stream",
          "name": "stderr",
          "text": [
            "100%|██████████| 4354/4354 [10:46<00:00,  6.73it/s]\n"
          ]
        },
        {
          "output_type": "stream",
          "name": "stdout",
          "text": [
            "Loss: 0.5546 Acc: 0.7251 AUC ROC : 0.7911 Time taken : 647.02\n",
            "\n",
            "Epoch 3/9\n",
            "----------\n"
          ]
        },
        {
          "output_type": "stream",
          "name": "stderr",
          "text": [
            "100%|██████████| 4354/4354 [10:44<00:00,  6.75it/s]\n"
          ]
        },
        {
          "output_type": "stream",
          "name": "stdout",
          "text": [
            "Loss: 0.5507 Acc: 0.7273 AUC ROC : 0.7946 Time taken : 645.06\n",
            "\n",
            "Epoch 4/9\n",
            "----------\n"
          ]
        },
        {
          "output_type": "stream",
          "name": "stderr",
          "text": [
            "100%|██████████| 4354/4354 [10:44<00:00,  6.76it/s]\n"
          ]
        },
        {
          "output_type": "stream",
          "name": "stdout",
          "text": [
            "Loss: 0.5479 Acc: 0.7301 AUC ROC : 0.7972 Time taken : 644.56\n",
            "\n",
            "Epoch 5/9\n",
            "----------\n"
          ]
        },
        {
          "output_type": "stream",
          "name": "stderr",
          "text": [
            "100%|██████████| 4354/4354 [10:45<00:00,  6.75it/s]\n"
          ]
        },
        {
          "output_type": "stream",
          "name": "stdout",
          "text": [
            "Loss: 0.5461 Acc: 0.7313 AUC ROC : 0.7988 Time taken : 645.62\n",
            "\n",
            "Epoch 6/9\n",
            "----------\n"
          ]
        },
        {
          "output_type": "stream",
          "name": "stderr",
          "text": [
            "100%|██████████| 4354/4354 [10:48<00:00,  6.71it/s]\n"
          ]
        },
        {
          "output_type": "stream",
          "name": "stdout",
          "text": [
            "Loss: 0.5441 Acc: 0.7329 AUC ROC : 0.8005 Time taken : 648.83\n",
            "\n",
            "Epoch 7/9\n",
            "----------\n"
          ]
        },
        {
          "output_type": "stream",
          "name": "stderr",
          "text": [
            "100%|██████████| 4354/4354 [10:49<00:00,  6.71it/s]\n"
          ]
        },
        {
          "output_type": "stream",
          "name": "stdout",
          "text": [
            "Loss: 0.5421 Acc: 0.7339 AUC ROC : 0.8024 Time taken : 649.39\n",
            "\n",
            "Epoch 8/9\n",
            "----------\n"
          ]
        },
        {
          "output_type": "stream",
          "name": "stderr",
          "text": [
            "100%|██████████| 4354/4354 [10:48<00:00,  6.71it/s]\n"
          ]
        },
        {
          "output_type": "stream",
          "name": "stdout",
          "text": [
            "Loss: 0.5402 Acc: 0.7344 AUC ROC : 0.8041 Time taken : 648.61\n",
            "\n",
            "Epoch 9/9\n",
            "----------\n"
          ]
        },
        {
          "output_type": "stream",
          "name": "stderr",
          "text": [
            "100%|██████████| 4354/4354 [10:48<00:00,  6.72it/s]\n"
          ]
        },
        {
          "output_type": "stream",
          "name": "stdout",
          "text": [
            "Loss: 0.5383 Acc: 0.7362 AUC ROC : 0.8057 Time taken : 648.42\n",
            "\n",
            "Training complete in 108m 6s\n"
          ]
        },
        {
          "output_type": "display_data",
          "data": {
            "text/plain": [
              "<Figure size 1152x864 with 3 Axes>"
            ],
            "image/png": "[encoded data removed]"
          },
          "metadata": {
            "needs_background": "light"
          }
        },
        {
          "output_type": "execute_result",
          "data": {
            "text/plain": [
              "{'trainingLoss': [0.5707973253692217,\n",
              "  0.5583022600323971,\n",
              "  0.5546226909822509,\n",
              "  0.5507420692526273,\n",
              "  0.5478940853776075,\n",
              "  0.5460528650958203,\n",
              "  0.5441357950471064,\n",
              "  0.5421375901385387,\n",
              "  0.5402071731711092,\n",
              "  0.5382839746104378],\n",
              " 'trainingAccuracy': [0.7142836633023704,\n",
              "  0.7230126484142823,\n",
              "  0.7250728611832944,\n",
              "  0.7273125349949033,\n",
              "  0.7301193057011184,\n",
              "  0.7312606779320345,\n",
              "  0.7329476117324452,\n",
              "  0.7339238798041722,\n",
              "  0.7343976569566278,\n",
              "  0.736228159591116],\n",
              " 'epochs': [0, 1, 2, 3, 4, 5, 6, 7, 8, 9],\n",
              " 'trainingAUC': [0.7756740633385086,\n",
              "  0.7876186953758917,\n",
              "  0.7911177106512275,\n",
              "  0.794603459418491,\n",
              "  0.7971552756369096,\n",
              "  0.7988253671577323,\n",
              "  0.8005056496685978,\n",
              "  0.8023694759459644,\n",
              "  0.8041152172540835,\n",
              "  0.8056934822698288],\n",
              " 'best_model': startingModel(\n",
              "   (conv1): Conv2d(3, 64, kernel_size=(5, 5), stride=(1, 1), bias=False)\n",
              "   (conv1_bn): BatchNorm2d(64, eps=1e-05, momentum=0.1, affine=True, track_running_stats=True)\n",
              "   (conv2): Conv2d(64, 64, kernel_size=(5, 5), stride=(1, 1), bias=False)\n",
              "   (conv2_bn): BatchNorm2d(64, eps=1e-05, momentum=0.1, affine=True, track_running_stats=True)\n",
              "   (pool1): MaxPool2d(kernel_size=2, stride=2, padding=0, dilation=1, ceil_mode=False)\n",
              "   (conv3): Conv2d(64, 64, kernel_size=(5, 5), stride=(1, 1), bias=False)\n",
              "   (conv3_bn): BatchNorm2d(64, eps=1e-05, momentum=0.1, affine=True, track_running_stats=True)\n",
              "   (conv4): Conv2d(64, 64, kernel_size=(5, 5), stride=(1, 1), bias=False)\n",
              "   (conv4_bn): BatchNorm2d(64, eps=1e-05, momentum=0.1, affine=True, track_running_stats=True)\n",
              "   (pool2): MaxPool2d(kernel_size=2, stride=2, padding=0, dilation=1, ceil_mode=False)\n",
              "   (conv5): Conv2d(64, 64, kernel_size=(5, 5), stride=(1, 1), bias=False)\n",
              "   (conv5_bn): BatchNorm2d(64, eps=1e-05, momentum=0.1, affine=True, track_running_stats=True)\n",
              "   (conv6): Conv2d(64, 64, kernel_size=(5, 5), stride=(1, 1), bias=False)\n",
              "   (conv6_bn): BatchNorm2d(64, eps=1e-05, momentum=0.1, affine=True, track_running_stats=True)\n",
              "   (pool3): MaxPool2d(kernel_size=2, stride=2, padding=0, dilation=1, ceil_mode=False)\n",
              "   (fc1): Linear(in_features=4096, out_features=64, bias=False)\n",
              "   (fc2): Linear(in_features=64, out_features=1, bias=False)\n",
              "   (sigmoid): Sigmoid()\n",
              " )}"
            ]
          },
          "metadata": {},
          "execution_count": 25
        }
      ]
    },
    {
      "cell_type": "markdown",
      "source": [
        "## Resnet"
      ],
      "metadata": {
        "id": "ejOTpEmCfpds"
      }
    },
    {
      "cell_type": "code",
      "source": [
        "from typing import Any, Callable, List, Optional, Type, Union\n",
        "from torch import Tensor\n",
        "\n",
        "\n",
        "def conv3x3(in_planes: int, out_planes: int, stride: int = 1, groups: int = 1, dilation: int = 1) -> nn.Conv2d:\n",
        "    \"\"\"3x3 convolution with padding\"\"\"\n",
        "    return nn.Conv2d(\n",
        "        in_planes,\n",
        "        out_planes,\n",
        "        kernel_size=3,\n",
        "        stride=stride,\n",
        "        padding=dilation,\n",
        "        groups=groups,\n",
        "        bias=False,\n",
        "        dilation=dilation,\n",
        "    )\n",
        "\n",
        "\n",
        "def conv1x1(in_planes: int, out_planes: int, stride: int = 1) -> nn.Conv2d:\n",
        "    \"\"\"1x1 convolution\"\"\"\n",
        "    return nn.Conv2d(in_planes, out_planes, kernel_size=1, stride=stride, bias=False)\n",
        "\n",
        "\n",
        "class BasicBlock(nn.Module):\n",
        "    expansion: int = 1\n",
        "\n",
        "    def __init__(\n",
        "        self,\n",
        "        inplanes: int,\n",
        "        planes: int,\n",
        "        stride: int = 1,\n",
        "        downsample: Optional[nn.Module] = None,\n",
        "        groups: int = 1,\n",
        "        base_width: int = 64,\n",
        "        dilation: int = 1,\n",
        "        norm_layer: Optional[Callable[..., nn.Module]] = None,\n",
        "    ) -> None:\n",
        "        super().__init__()\n",
        "        if norm_layer is None:\n",
        "            norm_layer = nn.BatchNorm2d\n",
        "        if groups != 1 or base_width != 64:\n",
        "            raise ValueError(\"BasicBlock only supports groups=1 and base_width=64\")\n",
        "        if dilation > 1:\n",
        "            raise NotImplementedError(\"Dilation > 1 not supported in BasicBlock\")\n",
        "        # Both self.conv1 and self.downsample layers downsample the input when stride != 1\n",
        "        self.conv1 = conv3x3(inplanes, planes, stride)\n",
        "        self.bn1 = norm_layer(planes)\n",
        "        self.relu = nn.ReLU(inplace=True)\n",
        "        self.conv2 = conv3x3(planes, planes)\n",
        "        self.bn2 = norm_layer(planes)\n",
        "        self.downsample = downsample\n",
        "        self.stride = stride\n",
        "\n",
        "    def forward(self, x: Tensor) -> Tensor:\n",
        "        identity = x\n",
        "\n",
        "        out = self.conv1(x)\n",
        "        out = self.bn1(out)\n",
        "        out = self.relu(out)\n",
        "\n",
        "        out = self.conv2(out)\n",
        "        out = self.bn2(out)\n",
        "\n",
        "        if self.downsample is not None:\n",
        "            identity = self.downsample(x)\n",
        "\n",
        "        out += identity\n",
        "        out = self.relu(out)\n",
        "\n",
        "        return out\n",
        "\n",
        "\n",
        "class Bottleneck(nn.Module):\n",
        "    # Bottleneck in torchvision places the stride for downsampling at 3x3 convolution(self.conv2)\n",
        "    # while original implementation places the stride at the first 1x1 convolution(self.conv1)\n",
        "    # according to \"Deep residual learning for image recognition\" https://arxiv.org/abs/1512.03385.\n",
        "    # This variant is also known as ResNet V1.5 and improves accuracy according to\n",
        "    # https://ngc.nvidia.com/catalog/model-scripts/nvidia:resnet_50_v1_5_for_pytorch.\n",
        "\n",
        "    expansion: int = 4\n",
        "\n",
        "    def __init__(\n",
        "        self,\n",
        "        inplanes: int,\n",
        "        planes: int,\n",
        "        stride: int = 1,\n",
        "        downsample: Optional[nn.Module] = None,\n",
        "        groups: int = 1,\n",
        "        base_width: int = 64,\n",
        "        dilation: int = 1,\n",
        "        norm_layer: Optional[Callable[..., nn.Module]] = None,\n",
        "    ) -> None:\n",
        "        super().__init__()\n",
        "        if norm_layer is None:\n",
        "            norm_layer = nn.BatchNorm2d\n",
        "        width = int(planes * (base_width / 64.0)) * groups\n",
        "        # Both self.conv2 and self.downsample layers downsample the input when stride != 1\n",
        "        self.conv1 = conv1x1(inplanes, width)\n",
        "        self.bn1 = norm_layer(width)\n",
        "        self.conv2 = conv3x3(width, width, stride, groups, dilation)\n",
        "        self.bn2 = norm_layer(width)\n",
        "        self.conv3 = conv1x1(width, planes * self.expansion)\n",
        "        self.bn3 = norm_layer(planes * self.expansion)\n",
        "        self.relu = nn.ReLU(inplace=True)\n",
        "        self.downsample = downsample\n",
        "        self.stride = stride\n",
        "\n",
        "    def forward(self, x: Tensor) -> Tensor:\n",
        "        identity = x\n",
        "\n",
        "        out = self.conv1(x)\n",
        "        out = self.bn1(out)\n",
        "        out = self.relu(out)\n",
        "\n",
        "        out = self.conv2(out)\n",
        "        out = self.bn2(out)\n",
        "        out = self.relu(out)\n",
        "\n",
        "        out = self.conv3(out)\n",
        "        out = self.bn3(out)\n",
        "\n",
        "        if self.downsample is not None:\n",
        "            identity = self.downsample(x)\n",
        "\n",
        "        out += identity\n",
        "        out = self.relu(out)\n",
        "\n",
        "        return \n",
        "\n",
        "class ResNet(nn.Module):\n",
        "    def __init__(\n",
        "        self,\n",
        "        block: Type[Union[BasicBlock, Bottleneck]],\n",
        "        layers: List[int],\n",
        "        zero_init_residual: bool = False,\n",
        "        groups: int = 1,\n",
        "        width_per_group: int = 64,\n",
        "        replace_stride_with_dilation: Optional[List[bool]] = None,\n",
        "        norm_layer: Optional[Callable[..., nn.Module]] = None,\n",
        "    ) -> None:\n",
        "        super().__init__()\n",
        "        if norm_layer is None:\n",
        "            norm_layer = nn.BatchNorm2d\n",
        "        self._norm_layer = norm_layer\n",
        "\n",
        "        self.inplanes = 64\n",
        "        self.dilation = 1\n",
        "        if replace_stride_with_dilation is None:\n",
        "            # each element in the tuple indicates if we should replace\n",
        "            # the 2x2 stride with a dilated convolution instead\n",
        "            replace_stride_with_dilation = [False, False, False]\n",
        "        if len(replace_stride_with_dilation) != 3:\n",
        "            raise ValueError(\n",
        "                \"replace_stride_with_dilation should be None \"\n",
        "                f\"or a 3-element tuple, got {replace_stride_with_dilation}\"\n",
        "            )\n",
        "        self.groups = groups\n",
        "        self.base_width = width_per_group\n",
        "        self.conv1 = nn.Conv2d(3, self.inplanes, kernel_size=7, stride=2, padding=3, bias=False)\n",
        "        self.bn1 = norm_layer(self.inplanes)\n",
        "        self.relu = nn.ReLU(inplace=True)\n",
        "        self.maxpool = nn.MaxPool2d(kernel_size=3, stride=2, padding=1)\n",
        "        self.layer1 = self._make_layer(block, 64, layers[0])\n",
        "        self.layer2 = self._make_layer(block, 128, layers[1], stride=2, dilate=replace_stride_with_dilation[0])\n",
        "        self.layer3 = self._make_layer(block, 256, layers[2], stride=2, dilate=replace_stride_with_dilation[1])\n",
        "        self.layer4 = self._make_layer(block, 512, layers[3], stride=2, dilate=replace_stride_with_dilation[2])\n",
        "        self.avgpool = nn.AdaptiveAvgPool2d((1, 1))\n",
        "        self.logits = nn.Linear(512 * block.expansion, 1)\n",
        "        self.activ_head = nn.Sigmoid()\n",
        "\n",
        "        for m in self.modules():\n",
        "            if isinstance(m, nn.Conv2d):\n",
        "                nn.init.kaiming_normal_(m.weight, mode=\"fan_out\", nonlinearity=\"relu\")\n",
        "            elif isinstance(m, (nn.BatchNorm2d, nn.GroupNorm)):\n",
        "                nn.init.constant_(m.weight, 1)\n",
        "                nn.init.constant_(m.bias, 0)\n",
        "\n",
        "        # Zero-initialize the last BN in each residual branch,\n",
        "        # so that the residual branch starts with zeros, and each residual block behaves like an identity.\n",
        "        # This improves the model by 0.2~0.3% according to https://arxiv.org/abs/1706.02677\n",
        "        if zero_init_residual:\n",
        "            for m in self.modules():\n",
        "                if isinstance(m, Bottleneck) and m.bn3.weight is not None:\n",
        "                    nn.init.constant_(m.bn3.weight, 0)  # type: ignore[arg-type]\n",
        "                elif isinstance(m, BasicBlock) and m.bn2.weight is not None:\n",
        "                    nn.init.constant_(m.bn2.weight, 0)  # type: ignore[arg-type]\n",
        "\n",
        "    def _make_layer(\n",
        "        self,\n",
        "        block: Type[Union[BasicBlock, Bottleneck]],\n",
        "        planes: int,\n",
        "        blocks: int,\n",
        "        stride: int = 1,\n",
        "        dilate: bool = False,\n",
        "    ) -> nn.Sequential:\n",
        "        norm_layer = self._norm_layer\n",
        "        downsample = None\n",
        "        previous_dilation = self.dilation\n",
        "        if dilate:\n",
        "            self.dilation *= stride\n",
        "            stride = 1\n",
        "        if stride != 1 or self.inplanes != planes * block.expansion:\n",
        "            downsample = nn.Sequential(\n",
        "                conv1x1(self.inplanes, planes * block.expansion, stride),\n",
        "                norm_layer(planes * block.expansion),\n",
        "            )\n",
        "\n",
        "        layers = []\n",
        "        layers.append(\n",
        "            block(\n",
        "                self.inplanes, planes, stride, downsample, self.groups, self.base_width, previous_dilation, norm_layer\n",
        "            )\n",
        "        )\n",
        "        self.inplanes = planes * block.expansion\n",
        "        for _ in range(1, blocks):\n",
        "            layers.append(\n",
        "                block(\n",
        "                    self.inplanes,\n",
        "                    planes,\n",
        "                    groups=self.groups,\n",
        "                    base_width=self.base_width,\n",
        "                    dilation=self.dilation,\n",
        "                    norm_layer=norm_layer,\n",
        "                )\n",
        "            )\n",
        "\n",
        "        return nn.Sequential(*layers)\n",
        "\n",
        "    def _forward_impl(self, x: Tensor) -> Tensor:\n",
        "        # See note [TorchScript super()]\n",
        "        x = self.conv1(x)\n",
        "        x = self.bn1(x)\n",
        "        x = self.relu(x)\n",
        "        x = self.maxpool(x)\n",
        "\n",
        "        x = self.layer1(x)\n",
        "        x = self.layer2(x)\n",
        "        x = self.layer3(x)\n",
        "        x = self.layer4(x)\n",
        "\n",
        "        x = self.avgpool(x)\n",
        "        x = torch.flatten(x, 1)\n",
        "        x = self.logits(x)\n",
        "\n",
        "        return x\n",
        "\n",
        "    def forward(self, x: Tensor) -> Tensor:\n",
        "        return self.activ_head(self._forward_impl(x))\n",
        "\n",
        "\n",
        "doExperiment(ResNet(BasicBlock, [2, 2, 2, 2]))"
      ],
      "metadata": {
        "id": "a0y13my9et7r",
        "colab": {
          "base_uri": "https://localhost:8080/",
          "height": 1000
        },
        "outputId": "977ca767-65a4-4ba8-cec8-435364fb6e1c"
      },
      "execution_count": 26,
      "outputs": [
        {
          "output_type": "stream",
          "name": "stdout",
          "text": [
            "----------------------------------------------------------------\n",
            "        Layer (type)               Output Shape         Param #\n",
            "================================================================\n",
            "            Conv2d-1           [-1, 64, 63, 63]           9,408\n",
            "       BatchNorm2d-2           [-1, 64, 63, 63]             128\n",
            "              ReLU-3           [-1, 64, 63, 63]               0\n",
            "         MaxPool2d-4           [-1, 64, 32, 32]               0\n",
            "            Conv2d-5           [-1, 64, 32, 32]          36,864\n",
            "       BatchNorm2d-6           [-1, 64, 32, 32]             128\n",
            "              ReLU-7           [-1, 64, 32, 32]               0\n",
            "            Conv2d-8           [-1, 64, 32, 32]          36,864\n",
            "       BatchNorm2d-9           [-1, 64, 32, 32]             128\n",
            "             ReLU-10           [-1, 64, 32, 32]               0\n",
            "       BasicBlock-11           [-1, 64, 32, 32]               0\n",
            "           Conv2d-12           [-1, 64, 32, 32]          36,864\n",
            "      BatchNorm2d-13           [-1, 64, 32, 32]             128\n",
            "             ReLU-14           [-1, 64, 32, 32]               0\n",
            "           Conv2d-15           [-1, 64, 32, 32]          36,864\n",
            "      BatchNorm2d-16           [-1, 64, 32, 32]             128\n",
            "             ReLU-17           [-1, 64, 32, 32]               0\n",
            "       BasicBlock-18           [-1, 64, 32, 32]               0\n",
            "           Conv2d-19          [-1, 128, 16, 16]          73,728\n",
            "      BatchNorm2d-20          [-1, 128, 16, 16]             256\n",
            "             ReLU-21          [-1, 128, 16, 16]               0\n",
            "           Conv2d-22          [-1, 128, 16, 16]         147,456\n",
            "      BatchNorm2d-23          [-1, 128, 16, 16]             256\n",
            "           Conv2d-24          [-1, 128, 16, 16]           8,192\n",
            "      BatchNorm2d-25          [-1, 128, 16, 16]             256\n",
            "             ReLU-26          [-1, 128, 16, 16]               0\n",
            "       BasicBlock-27          [-1, 128, 16, 16]               0\n",
            "           Conv2d-28          [-1, 128, 16, 16]         147,456\n",
            "      BatchNorm2d-29          [-1, 128, 16, 16]             256\n",
            "             ReLU-30          [-1, 128, 16, 16]               0\n",
            "           Conv2d-31          [-1, 128, 16, 16]         147,456\n",
            "      BatchNorm2d-32          [-1, 128, 16, 16]             256\n",
            "             ReLU-33          [-1, 128, 16, 16]               0\n",
            "       BasicBlock-34          [-1, 128, 16, 16]               0\n",
            "           Conv2d-35            [-1, 256, 8, 8]         294,912\n",
            "      BatchNorm2d-36            [-1, 256, 8, 8]             512\n",
            "             ReLU-37            [-1, 256, 8, 8]               0\n",
            "           Conv2d-38            [-1, 256, 8, 8]         589,824\n",
            "      BatchNorm2d-39            [-1, 256, 8, 8]             512\n",
            "           Conv2d-40            [-1, 256, 8, 8]          32,768\n",
            "      BatchNorm2d-41            [-1, 256, 8, 8]             512\n",
            "             ReLU-42            [-1, 256, 8, 8]               0\n",
            "       BasicBlock-43            [-1, 256, 8, 8]               0\n",
            "           Conv2d-44            [-1, 256, 8, 8]         589,824\n",
            "      BatchNorm2d-45            [-1, 256, 8, 8]             512\n",
            "             ReLU-46            [-1, 256, 8, 8]               0\n",
            "           Conv2d-47            [-1, 256, 8, 8]         589,824\n",
            "      BatchNorm2d-48            [-1, 256, 8, 8]             512\n",
            "             ReLU-49            [-1, 256, 8, 8]               0\n",
            "       BasicBlock-50            [-1, 256, 8, 8]               0\n",
            "           Conv2d-51            [-1, 512, 4, 4]       1,179,648\n",
            "      BatchNorm2d-52            [-1, 512, 4, 4]           1,024\n",
            "             ReLU-53            [-1, 512, 4, 4]               0\n",
            "           Conv2d-54            [-1, 512, 4, 4]       2,359,296\n",
            "      BatchNorm2d-55            [-1, 512, 4, 4]           1,024\n",
            "           Conv2d-56            [-1, 512, 4, 4]         131,072\n",
            "      BatchNorm2d-57            [-1, 512, 4, 4]           1,024\n",
            "             ReLU-58            [-1, 512, 4, 4]               0\n",
            "       BasicBlock-59            [-1, 512, 4, 4]               0\n",
            "           Conv2d-60            [-1, 512, 4, 4]       2,359,296\n",
            "      BatchNorm2d-61            [-1, 512, 4, 4]           1,024\n",
            "             ReLU-62            [-1, 512, 4, 4]               0\n",
            "           Conv2d-63            [-1, 512, 4, 4]       2,359,296\n",
            "      BatchNorm2d-64            [-1, 512, 4, 4]           1,024\n",
            "             ReLU-65            [-1, 512, 4, 4]               0\n",
            "       BasicBlock-66            [-1, 512, 4, 4]               0\n",
            "AdaptiveAvgPool2d-67            [-1, 512, 1, 1]               0\n",
            "           Linear-68                    [-1, 1]             513\n",
            "          Sigmoid-69                    [-1, 1]               0\n",
            "================================================================\n",
            "Total params: 11,177,025\n",
            "Trainable params: 11,177,025\n",
            "Non-trainable params: 0\n",
            "----------------------------------------------------------------\n",
            "Input size (MB): 0.18\n",
            "Forward/backward pass size (MB): 20.32\n",
            "Params size (MB): 42.64\n",
            "Estimated Total Size (MB): 63.13\n",
            "----------------------------------------------------------------\n",
            "None\n",
            "Epoch 0/9\n",
            "----------\n"
          ]
        },
        {
          "output_type": "stream",
          "name": "stderr",
          "text": [
            "100%|██████████| 4354/4354 [07:46<00:00,  9.34it/s]\n"
          ]
        },
        {
          "output_type": "stream",
          "name": "stdout",
          "text": [
            "Loss: 0.5767 Acc: 0.7100 AUC ROC : 0.7706 Time taken : 466.31\n",
            "\n",
            "Epoch 1/9\n",
            "----------\n"
          ]
        },
        {
          "output_type": "stream",
          "name": "stderr",
          "text": [
            "100%|██████████| 4354/4354 [07:45<00:00,  9.36it/s]\n"
          ]
        },
        {
          "output_type": "stream",
          "name": "stdout",
          "text": [
            "Loss: 0.5598 Acc: 0.7209 AUC ROC : 0.7863 Time taken : 465.51\n",
            "\n",
            "Epoch 2/9\n",
            "----------\n"
          ]
        },
        {
          "output_type": "stream",
          "name": "stderr",
          "text": [
            "100%|██████████| 4354/4354 [07:45<00:00,  9.35it/s]\n"
          ]
        },
        {
          "output_type": "stream",
          "name": "stdout",
          "text": [
            "Loss: 0.5542 Acc: 0.7265 AUC ROC : 0.7913 Time taken : 465.95\n",
            "\n",
            "Epoch 3/9\n",
            "----------\n"
          ]
        },
        {
          "output_type": "stream",
          "name": "stderr",
          "text": [
            "100%|██████████| 4354/4354 [07:44<00:00,  9.37it/s]\n"
          ]
        },
        {
          "output_type": "stream",
          "name": "stdout",
          "text": [
            "Loss: 0.5504 Acc: 0.7286 AUC ROC : 0.7948 Time taken : 464.91\n",
            "\n",
            "Epoch 4/9\n",
            "----------\n"
          ]
        },
        {
          "output_type": "stream",
          "name": "stderr",
          "text": [
            "100%|██████████| 4354/4354 [07:45<00:00,  9.35it/s]\n"
          ]
        },
        {
          "output_type": "stream",
          "name": "stdout",
          "text": [
            "Loss: 0.5470 Acc: 0.7310 AUC ROC : 0.7980 Time taken : 465.82\n",
            "\n",
            "Epoch 5/9\n",
            "----------\n"
          ]
        },
        {
          "output_type": "stream",
          "name": "stderr",
          "text": [
            "100%|██████████| 4354/4354 [07:44<00:00,  9.36it/s]\n"
          ]
        },
        {
          "output_type": "stream",
          "name": "stdout",
          "text": [
            "Loss: 0.5436 Acc: 0.7333 AUC ROC : 0.8009 Time taken : 465.21\n",
            "\n",
            "Epoch 6/9\n",
            "----------\n"
          ]
        },
        {
          "output_type": "stream",
          "name": "stderr",
          "text": [
            "100%|██████████| 4354/4354 [07:46<00:00,  9.33it/s]\n"
          ]
        },
        {
          "output_type": "stream",
          "name": "stdout",
          "text": [
            "Loss: 0.5404 Acc: 0.7361 AUC ROC : 0.8037 Time taken : 467.16\n",
            "\n",
            "Epoch 7/9\n",
            "----------\n"
          ]
        },
        {
          "output_type": "stream",
          "name": "stderr",
          "text": [
            "100%|██████████| 4354/4354 [07:49<00:00,  9.28it/s]\n"
          ]
        },
        {
          "output_type": "stream",
          "name": "stdout",
          "text": [
            "Loss: 0.5371 Acc: 0.7379 AUC ROC : 0.8066 Time taken : 469.44\n",
            "\n",
            "Epoch 8/9\n",
            "----------\n"
          ]
        },
        {
          "output_type": "stream",
          "name": "stderr",
          "text": [
            "100%|██████████| 4354/4354 [07:49<00:00,  9.27it/s]\n"
          ]
        },
        {
          "output_type": "stream",
          "name": "stdout",
          "text": [
            "Loss: 0.5347 Acc: 0.7400 AUC ROC : 0.8088 Time taken : 469.99\n",
            "\n",
            "Epoch 9/9\n",
            "----------\n"
          ]
        },
        {
          "output_type": "stream",
          "name": "stderr",
          "text": [
            "100%|██████████| 4354/4354 [07:47<00:00,  9.31it/s]\n"
          ]
        },
        {
          "output_type": "stream",
          "name": "stdout",
          "text": [
            "Loss: 0.5304 Acc: 0.7426 AUC ROC : 0.8124 Time taken : 468.13\n",
            "\n",
            "Training complete in 77m 48s\n"
          ]
        },
        {
          "output_type": "display_data",
          "data": {
            "text/plain": [
              "<Figure size 1152x864 with 3 Axes>"
            ],
            "image/png": "[encoded data removed]"
          },
          "metadata": {
            "needs_background": "light"
          }
        },
        {
          "output_type": "execute_result",
          "data": {
            "text/plain": [
              "{'trainingLoss': [0.5766633521839973,\n",
              "  0.559762529749101,\n",
              "  0.5541523791185454,\n",
              "  0.5503978975494908,\n",
              "  0.5470091848040155,\n",
              "  0.5436150168143036,\n",
              "  0.540435780131507,\n",
              "  0.5371142912288048,\n",
              "  0.5346548597205901,\n",
              "  0.5304204080090554],\n",
              " 'trainingAccuracy': [0.7100412042553803,\n",
              "  0.7208878296699353,\n",
              "  0.7265013710823655,\n",
              "  0.7286405467101202,\n",
              "  0.7310094324723989,\n",
              "  0.7332562847257118,\n",
              "  0.736055876990223,\n",
              "  0.7379007365081188,\n",
              "  0.7399968414856504,\n",
              "  0.7425523667322298],\n",
              " 'epochs': [0, 1, 2, 3, 4, 5, 6, 7, 8, 9],\n",
              " 'trainingAUC': [0.7705657100299337,\n",
              "  0.7862739113588613,\n",
              "  0.7913447205093659,\n",
              "  0.7948134067577135,\n",
              "  0.7979625424366945,\n",
              "  0.8008994999385977,\n",
              "  0.8037466259718831,\n",
              "  0.8066002967306214,\n",
              "  0.8088107811532813,\n",
              "  0.812393163970862],\n",
              " 'best_model': ResNet(\n",
              "   (conv1): Conv2d(3, 64, kernel_size=(7, 7), stride=(2, 2), padding=(3, 3), bias=False)\n",
              "   (bn1): BatchNorm2d(64, eps=1e-05, momentum=0.1, affine=True, track_running_stats=True)\n",
              "   (relu): ReLU(inplace=True)\n",
              "   (maxpool): MaxPool2d(kernel_size=3, stride=2, padding=1, dilation=1, ceil_mode=False)\n",
              "   (layer1): Sequential(\n",
              "     (0): BasicBlock(\n",
              "       (conv1): Conv2d(64, 64, kernel_size=(3, 3), stride=(1, 1), padding=(1, 1), bias=False)\n",
              "       (bn1): BatchNorm2d(64, eps=1e-05, momentum=0.1, affine=True, track_running_stats=True)\n",
              "       (relu): ReLU(inplace=True)\n",
              "       (conv2): Conv2d(64, 64, kernel_size=(3, 3), stride=(1, 1), padding=(1, 1), bias=False)\n",
              "       (bn2): BatchNorm2d(64, eps=1e-05, momentum=0.1, affine=True, track_running_stats=True)\n",
              "     )\n",
              "     (1): BasicBlock(\n",
              "       (conv1): Conv2d(64, 64, kernel_size=(3, 3), stride=(1, 1), padding=(1, 1), bias=False)\n",
              "       (bn1): BatchNorm2d(64, eps=1e-05, momentum=0.1, affine=True, track_running_stats=True)\n",
              "       (relu): ReLU(inplace=True)\n",
              "       (conv2): Conv2d(64, 64, kernel_size=(3, 3), stride=(1, 1), padding=(1, 1), bias=False)\n",
              "       (bn2): BatchNorm2d(64, eps=1e-05, momentum=0.1, affine=True, track_running_stats=True)\n",
              "     )\n",
              "   )\n",
              "   (layer2): Sequential(\n",
              "     (0): BasicBlock(\n",
              "       (conv1): Conv2d(64, 128, kernel_size=(3, 3), stride=(2, 2), padding=(1, 1), bias=False)\n",
              "       (bn1): BatchNorm2d(128, eps=1e-05, momentum=0.1, affine=True, track_running_stats=True)\n",
              "       (relu): ReLU(inplace=True)\n",
              "       (conv2): Conv2d(128, 128, kernel_size=(3, 3), stride=(1, 1), padding=(1, 1), bias=False)\n",
              "       (bn2): BatchNorm2d(128, eps=1e-05, momentum=0.1, affine=True, track_running_stats=True)\n",
              "       (downsample): Sequential(\n",
              "         (0): Conv2d(64, 128, kernel_size=(1, 1), stride=(2, 2), bias=False)\n",
              "         (1): BatchNorm2d(128, eps=1e-05, momentum=0.1, affine=True, track_running_stats=True)\n",
              "       )\n",
              "     )\n",
              "     (1): BasicBlock(\n",
              "       (conv1): Conv2d(128, 128, kernel_size=(3, 3), stride=(1, 1), padding=(1, 1), bias=False)\n",
              "       (bn1): BatchNorm2d(128, eps=1e-05, momentum=0.1, affine=True, track_running_stats=True)\n",
              "       (relu): ReLU(inplace=True)\n",
              "       (conv2): Conv2d(128, 128, kernel_size=(3, 3), stride=(1, 1), padding=(1, 1), bias=False)\n",
              "       (bn2): BatchNorm2d(128, eps=1e-05, momentum=0.1, affine=True, track_running_stats=True)\n",
              "     )\n",
              "   )\n",
              "   (layer3): Sequential(\n",
              "     (0): BasicBlock(\n",
              "       (conv1): Conv2d(128, 256, kernel_size=(3, 3), stride=(2, 2), padding=(1, 1), bias=False)\n",
              "       (bn1): BatchNorm2d(256, eps=1e-05, momentum=0.1, affine=True, track_running_stats=True)\n",
              "       (relu): ReLU(inplace=True)\n",
              "       (conv2): Conv2d(256, 256, kernel_size=(3, 3), stride=(1, 1), padding=(1, 1), bias=False)\n",
              "       (bn2): BatchNorm2d(256, eps=1e-05, momentum=0.1, affine=True, track_running_stats=True)\n",
              "       (downsample): Sequential(\n",
              "         (0): Conv2d(128, 256, kernel_size=(1, 1), stride=(2, 2), bias=False)\n",
              "         (1): BatchNorm2d(256, eps=1e-05, momentum=0.1, affine=True, track_running_stats=True)\n",
              "       )\n",
              "     )\n",
              "     (1): BasicBlock(\n",
              "       (conv1): Conv2d(256, 256, kernel_size=(3, 3), stride=(1, 1), padding=(1, 1), bias=False)\n",
              "       (bn1): BatchNorm2d(256, eps=1e-05, momentum=0.1, affine=True, track_running_stats=True)\n",
              "       (relu): ReLU(inplace=True)\n",
              "       (conv2): Conv2d(256, 256, kernel_size=(3, 3), stride=(1, 1), padding=(1, 1), bias=False)\n",
              "       (bn2): BatchNorm2d(256, eps=1e-05, momentum=0.1, affine=True, track_running_stats=True)\n",
              "     )\n",
              "   )\n",
              "   (layer4): Sequential(\n",
              "     (0): BasicBlock(\n",
              "       (conv1): Conv2d(256, 512, kernel_size=(3, 3), stride=(2, 2), padding=(1, 1), bias=False)\n",
              "       (bn1): BatchNorm2d(512, eps=1e-05, momentum=0.1, affine=True, track_running_stats=True)\n",
              "       (relu): ReLU(inplace=True)\n",
              "       (conv2): Conv2d(512, 512, kernel_size=(3, 3), stride=(1, 1), padding=(1, 1), bias=False)\n",
              "       (bn2): BatchNorm2d(512, eps=1e-05, momentum=0.1, affine=True, track_running_stats=True)\n",
              "       (downsample): Sequential(\n",
              "         (0): Conv2d(256, 512, kernel_size=(1, 1), stride=(2, 2), bias=False)\n",
              "         (1): BatchNorm2d(512, eps=1e-05, momentum=0.1, affine=True, track_running_stats=True)\n",
              "       )\n",
              "     )\n",
              "     (1): BasicBlock(\n",
              "       (conv1): Conv2d(512, 512, kernel_size=(3, 3), stride=(1, 1), padding=(1, 1), bias=False)\n",
              "       (bn1): BatchNorm2d(512, eps=1e-05, momentum=0.1, affine=True, track_running_stats=True)\n",
              "       (relu): ReLU(inplace=True)\n",
              "       (conv2): Conv2d(512, 512, kernel_size=(3, 3), stride=(1, 1), padding=(1, 1), bias=False)\n",
              "       (bn2): BatchNorm2d(512, eps=1e-05, momentum=0.1, affine=True, track_running_stats=True)\n",
              "     )\n",
              "   )\n",
              "   (avgpool): AdaptiveAvgPool2d(output_size=(1, 1))\n",
              "   (logits): Linear(in_features=512, out_features=1, bias=True)\n",
              "   (activ_head): Sigmoid()\n",
              " )}"
            ]
          },
          "metadata": {},
          "execution_count": 26
        }
      ]
    },
    {
      "cell_type": "code",
      "source": [],
      "metadata": {
        "id": "BXMdSclqpIYt"
      },
      "execution_count": null,
      "outputs": []
    }
  ]
}