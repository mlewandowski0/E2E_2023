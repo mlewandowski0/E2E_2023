{
  "nbformat": 4,
  "nbformat_minor": 0,
  "metadata": {
    "colab": {
      "provenance": [],
      "machine_shape": "hm"
    },
    "kernelspec": {
      "name": "python3",
      "display_name": "Python 3"
    },
    "language_info": {
      "name": "python"
    },
    "accelerator": "GPU",
    "gpuClass": "standard"
  },
  "cells": [
    {
      "cell_type": "markdown",
      "source": [
        "# Extra installs"
      ],
      "metadata": {
        "id": "HDTwBTzLcIPe"
      }
    },
    {
      "cell_type": "code",
      "source": [
        "#!pip install cloud-tpu-client==0.10 torch==1.13.0 https://storage.googleapis.com/tpu-pytorch/wheels/colab/torch_xla-1.13-cp38-cp38-linux_x86_64.whl\n",
        "!pip install torchsummary\n",
        "!pip install sparse"
      ],
      "metadata": {
        "colab": {
          "base_uri": "https://localhost:8080/"
        },
        "id": "Wjufz_R5cKoF",
        "outputId": "f7fe7ad9-fd83-4cd7-d883-c28bd1141708"
      },
      "execution_count": 1,
      "outputs": [
        {
          "output_type": "stream",
          "name": "stdout",
          "text": [
            "Looking in indexes: https://pypi.org/simple, https://us-python.pkg.dev/colab-wheels/public/simple/\n",
            "Requirement already satisfied: torchsummary in /usr/local/lib/python3.8/dist-packages (1.5.1)\n",
            "Looking in indexes: https://pypi.org/simple, https://us-python.pkg.dev/colab-wheels/public/simple/\n",
            "Collecting sparse\n",
            "  Downloading sparse-0.14.0-py2.py3-none-any.whl (80 kB)\n",
            "\u001b[2K     \u001b[90m━━━━━━━━━━━━━━━━━━━━━━━━━━━━━━━━━━━━━━━\u001b[0m \u001b[32m81.0/81.0 KB\u001b[0m \u001b[31m577.3 kB/s\u001b[0m eta \u001b[36m0:00:00\u001b[0m\n",
            "\u001b[?25hRequirement already satisfied: numba>=0.49 in /usr/local/lib/python3.8/dist-packages (from sparse) (0.56.4)\n",
            "Requirement already satisfied: numpy>=1.17 in /usr/local/lib/python3.8/dist-packages (from sparse) (1.22.4)\n",
            "Requirement already satisfied: scipy>=0.19 in /usr/local/lib/python3.8/dist-packages (from sparse) (1.10.1)\n",
            "Requirement already satisfied: llvmlite<0.40,>=0.39.0dev0 in /usr/local/lib/python3.8/dist-packages (from numba>=0.49->sparse) (0.39.1)\n",
            "Requirement already satisfied: importlib-metadata in /usr/local/lib/python3.8/dist-packages (from numba>=0.49->sparse) (6.0.0)\n",
            "Requirement already satisfied: setuptools in /usr/local/lib/python3.8/dist-packages (from numba>=0.49->sparse) (57.4.0)\n",
            "Requirement already satisfied: zipp>=0.5 in /usr/local/lib/python3.8/dist-packages (from importlib-metadata->numba>=0.49->sparse) (3.15.0)\n",
            "Installing collected packages: sparse\n",
            "Successfully installed sparse-0.14.0\n"
          ]
        }
      ]
    },
    {
      "cell_type": "markdown",
      "source": [
        "# Imports"
      ],
      "metadata": {
        "id": "NlRKOenoEVbm"
      }
    },
    {
      "cell_type": "code",
      "execution_count": 2,
      "metadata": {
        "id": "wxuBCVTCEB50"
      },
      "outputs": [],
      "source": [
        "import os\n",
        "import time\n",
        "import torch.nn as nn\n",
        "from tqdm import tqdm\n",
        "import pyarrow.parquet as pq\n",
        "from collections import defaultdict, Counter\n",
        "import numpy as np\n",
        "import matplotlib.pyplot as plt\n",
        "import torch\n",
        "import sparse\n",
        "import torchvision\n",
        "from torchvision.datasets.folder import DatasetFolder\n",
        "# imports the torch_xla package\n",
        "from sklearn.metrics import roc_auc_score\n",
        "import torch.nn.functional as F\n",
        "from torchsummary import summary\n",
        "import torch.optim as pt_optim\n",
        "import torch.optim.lr_scheduler as pt_lr_scheduler"
      ]
    },
    {
      "cell_type": "markdown",
      "source": [
        "# Dataset"
      ],
      "metadata": {
        "id": "b-5PTuyqEYjB"
      }
    },
    {
      "cell_type": "code",
      "source": [
        "try:\n",
        "  import google.colab\n",
        "  COLAB_ENV = True\n",
        "except:\n",
        "  COLAB_ENV = False\n",
        "\n",
        "\n",
        "if COLAB_ENV:\n",
        "  data_filepath = \"/\" + os.path.join(\"content\",\"drive\",\"MyDrive\",\"datasets\", \"ML4SCI_GSOC23\")\n",
        "  from google.colab import drive\n",
        "  drive.mount('/content/drive')\n",
        "else:\n",
        "  data_filepath = \"data\""
      ],
      "metadata": {
        "colab": {
          "base_uri": "https://localhost:8080/"
        },
        "id": "sOML3_TBEYwz",
        "outputId": "3df3a288-62d6-4076-cb6d-c082725c47a1"
      },
      "execution_count": 3,
      "outputs": [
        {
          "output_type": "stream",
          "name": "stdout",
          "text": [
            "Mounted at /content/drive\n"
          ]
        }
      ]
    },
    {
      "cell_type": "code",
      "source": [
        "!ls /content/drive/MyDrive/datasets/ML4SCI_GSOC23/Task2"
      ],
      "metadata": {
        "colab": {
          "base_uri": "https://localhost:8080/"
        },
        "id": "6Ul4UZGfwI3R",
        "outputId": "acbd168a-2f27-4b0c-b05c-d3b1857b4546"
      },
      "execution_count": 4,
      "outputs": [
        {
          "output_type": "stream",
          "name": "stdout",
          "text": [
            "Task2.zip\n"
          ]
        }
      ]
    },
    {
      "cell_type": "code",
      "source": [
        "!rsync -P /content/drive/MyDrive/datasets/ML4SCI_GSOC23/Task2/Task2.zip ."
      ],
      "metadata": {
        "colab": {
          "base_uri": "https://localhost:8080/"
        },
        "id": "cDH2rgT6v3n1",
        "outputId": "e2f40a99-b092-472b-828c-7dd42885c18c"
      },
      "execution_count": 5,
      "outputs": [
        {
          "output_type": "stream",
          "name": "stdout",
          "text": [
            "Task2.zip\n",
            "    130,457,996 100%  139.13MB/s    0:00:00 (xfr#1, to-chk=0/1)\n"
          ]
        }
      ]
    },
    {
      "cell_type": "code",
      "source": [
        "!unzip -q Task2.zip"
      ],
      "metadata": {
        "id": "a7uyKx_c2icC"
      },
      "execution_count": 6,
      "outputs": []
    },
    {
      "cell_type": "code",
      "source": [
        "!ls data/Task2"
      ],
      "metadata": {
        "colab": {
          "base_uri": "https://localhost:8080/"
        },
        "id": "8LWGZOov2nja",
        "outputId": "b6fd04db-7bf7-41b3-ba9b-53f9e3a240e0"
      },
      "execution_count": 7,
      "outputs": [
        {
          "output_type": "stream",
          "name": "stdout",
          "text": [
            "Gluon  Quark\n"
          ]
        }
      ]
    },
    {
      "cell_type": "code",
      "source": [
        "np_images_filepath = os.path.join(\"data\", \"Task2\")\n",
        "class_to_label = {0 : \"Gluon\",\n",
        "                  1 : \"Quark\"}\n",
        "\n",
        "model_save_folder = os.path.join(data_filepath, \"models\", \"Task2\")\n",
        "\n",
        "os.makedirs(model_save_folder, exist_ok=True)\n",
        "print(os.listdir(np_images_filepath))"
      ],
      "metadata": {
        "colab": {
          "base_uri": "https://localhost:8080/"
        },
        "id": "O6SvBWEb27EV",
        "outputId": "c96f16d9-86f6-4139-e0bc-4dad6956321e"
      },
      "execution_count": 8,
      "outputs": [
        {
          "output_type": "stream",
          "name": "stdout",
          "text": [
            "['Quark', 'Gluon']\n"
          ]
        }
      ]
    },
    {
      "cell_type": "markdown",
      "source": [
        "# EDA"
      ],
      "metadata": {
        "id": "tEbv5XvQEbrI"
      }
    },
    {
      "cell_type": "code",
      "source": [
        "def get_n_random_from_class(_class : int, n : int) -> list:\n",
        "  class_filepath = os.path.join(np_images_filepath, class_to_label[_class])\n",
        "  files = [os.path.join(class_filepath, f) for f in os.listdir(class_filepath)]\n",
        "  idxes = np.random.permutation(np.arange(0, len(files)))[:n]\n",
        "\n",
        "  return [(_class, files[i]) for i in idxes]\n",
        "\n",
        "gluons = get_n_random_from_class(0, 5)\n",
        "quarks = get_n_random_from_class(1, 5)\n",
        "\n",
        "to_viz = gluons + quarks\n",
        "np.random.shuffle(to_viz)\n",
        "\n",
        "scale = 5\n",
        "n = len(to_viz)\n",
        "plt.figure(figsize=(scale, n* scale))\n",
        "for i, datapoint in enumerate(to_viz):\n",
        "  cls = datapoint[0]\n",
        "  #print(datapoint[1])\n",
        "  img = sparse.load_npz(datapoint[1]).todense()\n",
        "  plt.subplot(n, 1, i + 1)\n",
        "  plt.imshow(img)\n",
        "  plt.title(f\"class = {cls}\")\n",
        "\n",
        "plt.show()"
      ],
      "metadata": {
        "colab": {
          "base_uri": "https://localhost:8080/",
          "height": 1000
        },
        "id": "fJ1dqLKKEcNE",
        "outputId": "6720b862-c9ba-4c83-e824-b96fc7d1aa6c"
      },
      "execution_count": 9,
      "outputs": [
        {
          "output_type": "stream",
          "name": "stderr",
          "text": [
            "WARNING:matplotlib.image:Clipping input data to the valid range for imshow with RGB data ([0..1] for floats or [0..255] for integers).\n",
            "WARNING:matplotlib.image:Clipping input data to the valid range for imshow with RGB data ([0..1] for floats or [0..255] for integers).\n",
            "WARNING:matplotlib.image:Clipping input data to the valid range for imshow with RGB data ([0..1] for floats or [0..255] for integers).\n",
            "WARNING:matplotlib.image:Clipping input data to the valid range for imshow with RGB data ([0..1] for floats or [0..255] for integers).\n",
            "WARNING:matplotlib.image:Clipping input data to the valid range for imshow with RGB data ([0..1] for floats or [0..255] for integers).\n",
            "WARNING:matplotlib.image:Clipping input data to the valid range for imshow with RGB data ([0..1] for floats or [0..255] for integers).\n",
            "WARNING:matplotlib.image:Clipping input data to the valid range for imshow with RGB data ([0..1] for floats or [0..255] for integers).\n",
            "WARNING:matplotlib.image:Clipping input data to the valid range for imshow with RGB data ([0..1] for floats or [0..255] for integers).\n",
            "WARNING:matplotlib.image:Clipping input data to the valid range for imshow with RGB data ([0..1] for floats or [0..255] for integers).\n",
            "WARNING:matplotlib.image:Clipping input data to the valid range for imshow with RGB data ([0..1] for floats or [0..255] for integers).\n"
          ]
        },
        {
          "output_type": "display_data",
          "data": {
            "text/plain": [
              "<Figure size 360x3600 with 10 Axes>"
            ],
            "image/png": "[encoded data removed]"
          },
          "metadata": {
            "needs_background": "light"
          }
        }
      ]
    },
    {
      "cell_type": "markdown",
      "source": [
        "# Pytorch Dataset Creation"
      ],
      "metadata": {
        "id": "zJo13ugxZJ-S"
      }
    },
    {
      "cell_type": "code",
      "source": [
        "device = torch.device(\"cuda:0\" if torch.cuda.is_available() else \"cpu\")\n",
        "print(f\"Device Used : {device}\")"
      ],
      "metadata": {
        "colab": {
          "base_uri": "https://localhost:8080/"
        },
        "id": "VufqRQCjcXeP",
        "outputId": "874f15ec-dd06-4b73-af56-3ed8a3a9701a"
      },
      "execution_count": 10,
      "outputs": [
        {
          "output_type": "stream",
          "name": "stdout",
          "text": [
            "Device Used : cuda:0\n"
          ]
        }
      ]
    },
    {
      "cell_type": "code",
      "source": [
        "from torch.utils.data import DataLoader\n",
        "\n",
        "mean = np.array([0.00782386,0.00482207,0.00304506])\n",
        "std = np.array([0.63704916,0.18686025,0.04598732])\n",
        "\n",
        "def load_npy(path : str) -> torch.Tensor:\n",
        "    # load from sparse representation\n",
        "    img = sparse.load_npz(path).todense()\n",
        "    \n",
        "    # normalize the image\n",
        "    img = (img - mean) / std\n",
        "\n",
        "    # convert to pytorch representation\n",
        "    img = img.transpose(2, 0, 1)\n",
        "    \n",
        "    return torch.from_numpy( img )\n",
        "\n",
        "train_ds = DatasetFolder(np_images_filepath, extensions=[\".npz\"], loader=load_npy)\n",
        "train_dl = DataLoader(train_ds, batch_size=32, shuffle=True)"
      ],
      "metadata": {
        "id": "RW3KcQ6UJV9T"
      },
      "execution_count": 25,
      "outputs": []
    },
    {
      "cell_type": "code",
      "source": [
        "next(iter(train_dl))[0].shape"
      ],
      "metadata": {
        "colab": {
          "base_uri": "https://localhost:8080/"
        },
        "id": "ZgG2rchGb36P",
        "outputId": "e0b625fc-e1ba-4c2d-f170-c8dff3fd1205"
      },
      "execution_count": 26,
      "outputs": [
        {
          "output_type": "execute_result",
          "data": {
            "text/plain": [
              "torch.Size([32, 3, 125, 125])"
            ]
          },
          "metadata": {},
          "execution_count": 26
        }
      ]
    },
    {
      "cell_type": "code",
      "source": [
        "next(iter(train_dl))[1]"
      ],
      "metadata": {
        "colab": {
          "base_uri": "https://localhost:8080/"
        },
        "id": "tUq5HpLCYh5y",
        "outputId": "56400a36-095d-4c5d-e9a4-b3fdcf879a91"
      },
      "execution_count": 27,
      "outputs": [
        {
          "output_type": "execute_result",
          "data": {
            "text/plain": [
              "tensor([1, 1, 0, 0, 0, 1, 0, 0, 1, 1, 0, 0, 0, 1, 0, 0, 0, 1, 1, 0, 1, 1, 0, 1,\n",
              "        1, 1, 0, 1, 0, 0, 1, 1])"
            ]
          },
          "metadata": {},
          "execution_count": 27
        }
      ]
    },
    {
      "cell_type": "markdown",
      "source": [
        "# Test Run"
      ],
      "metadata": {
        "id": "pi-blR_ZbdZQ"
      }
    },
    {
      "cell_type": "code",
      "source": [
        "def training_epoch(model, criterion, optimizer, scheduler, dataloader, dataset_size, saveTo, num_epochs=25):\n",
        "    since = time.time()\n",
        "\n",
        "    returnDict = {\"trainingLoss\" : [], \"trainingAccuracy\" : [], \"epochs\" : [], \"trainingAUC\" : []}\n",
        "    best_acc = 0.0\n",
        "\n",
        "    for epoch in range(num_epochs):\n",
        "        print(f'Epoch {epoch}/{num_epochs - 1}')\n",
        "        print('-' * 10)\n",
        "        returnDict[\"epochs\"].append(epoch)\n",
        "\n",
        "        since2 = time.time()\n",
        "        model.train()  # Set model to training mode\n",
        "\n",
        "        running_loss = 0.0\n",
        "        running_corrects = 0\n",
        "        y = torch.Tensor()\n",
        "        pred_y = torch.Tensor()\n",
        "\n",
        "        i = 0\n",
        "        # Iterate over data.\n",
        "        for inputs, labels in dataloader:\n",
        "            i += 1\n",
        "            inputs = inputs.to(device).float()\n",
        "            labels = labels.to(device)\n",
        "            labels = labels.long()\n",
        "\n",
        "            y = torch.cat([y, labels.cpu()])\n",
        "            # zero the parameter gradients\n",
        "            optimizer.zero_grad()\n",
        "\n",
        "            # forward\n",
        "            # track history if only in train\n",
        "            with torch.set_grad_enabled(True):\n",
        "                outputs = model(inputs)\n",
        "                pred_labels = (outputs >= 0.5).reshape(-1)\n",
        "\n",
        "                #print(outputs.shape)\n",
        "                loss = criterion(outputs, labels.reshape(-1, 1).to(torch.float32))\n",
        "\n",
        "                pred_y = torch.cat([pred_y, outputs.cpu()])\n",
        "\n",
        "                # backward + optimize only if in training phase\n",
        "                loss.backward()\n",
        "                optimizer.step()\n",
        "\n",
        "            # statistics\n",
        "            running_loss += loss.item() * inputs.size(0)\n",
        "            running_corrects += torch.sum(pred_labels == labels.data)\n",
        "            \n",
        "        scheduler.step()\n",
        "\n",
        "        epoch_loss = running_loss / dataset_size\n",
        "        epoch_acc = running_corrects.double() / dataset_size\n",
        "        AUC_ROC = roc_auc_score(y.detach().numpy(), pred_y.detach().numpy())  \n",
        "\n",
        "        returnDict[\"trainingLoss\"].append(epoch_loss)\n",
        "        returnDict[\"trainingAccuracy\"].append(epoch_acc.cpu().item())\n",
        "        returnDict[\"trainingAUC\"].append(AUC_ROC)\n",
        "\n",
        "        print(f'Loss: {epoch_loss:.4f} Acc: {epoch_acc:.4f} AUC ROC : {AUC_ROC:.4f} Time taken : {round(time.time() - since2, 2)}')\n",
        "        print()\n",
        "\n",
        "    time_elapsed = time.time() - since\n",
        "    print(f'Training complete in {time_elapsed // 60:.0f}m {time_elapsed % 60:.0f}s')\n",
        "\n",
        "    # load best model weights\n",
        "    returnDict[\"best_model\"] = model\n",
        "    return returnDict\n"
      ],
      "metadata": {
        "id": "0acw14tpZ3N9"
      },
      "execution_count": 28,
      "outputs": []
    },
    {
      "cell_type": "code",
      "source": [
        "def plotResults(results):\n",
        "    plt.figure(figsize=(16,12))\n",
        "    plt.subplot(3,1, 1)\n",
        "    plt.plot(results['epochs'], results['trainingLoss'], label=\"training Loss\")\n",
        "    plt.plot(results['epochs'], results['validationLoss'], label=\"validation Loss\")\n",
        "    plt.legend()\n",
        "\n",
        "    plt.subplot(3,1, 2)\n",
        "    plt.plot(results['epochs'], results['trainingAccuracy'], label=\"training Accuracy\")\n",
        "    plt.plot(results['epochs'], results['validationAccuracy'], label=\"validation Accuracy\")\n",
        "    plt.legend()\n",
        "  \n",
        "  \n",
        "    plt.subplot(3,1, 3)\n",
        "    plt.plot(results['epochs'], results['trainingAUC'], label=\"training ROC\")\n",
        "    plt.plot(results['epochs'], results['validationAUC'], label=\"validation AUC ROC\")\n",
        "    plt.plot([0, results['epochs'][-1]], [0.8, 0.8], \"--\", color='black')\n",
        "    plt.legend()\n",
        "\n",
        "    plt.show()"
      ],
      "metadata": {
        "id": "iUkVeaXCgkjp"
      },
      "execution_count": 32,
      "outputs": []
    },
    {
      "cell_type": "code",
      "source": [
        "def doExperiment(model_ft, epochs=10, learning_rate=1e-3, plot=True, _summary=True):\n",
        "  if _summary:\n",
        "    print(summary(model_ft, input_size=(3, 125, 125), device=\"cpu\"))\n",
        "  \n",
        "  model_ft = model_ft.to(device)\n",
        "  optim = pt_optim.Adam(model_ft.parameters(), lr=learning_rate)\n",
        "  lr_sched = pt_lr_scheduler.StepLR(optim, 10, 0.9)\n",
        "\n",
        "  dats = training_epoch(model_ft, F.binary_cross_entropy, optim, lr_sched, train_dl, \n",
        "                 len(train_ds) , \n",
        "                 os.path.join(model_save_folder, \"Simple.pt\"), \n",
        "                 num_epochs=epochs)\n",
        "  \n",
        "  if plot:\n",
        "    plotResults(dats)\n",
        "  return dats\n"
      ],
      "metadata": {
        "id": "gJfoeoHNgKJ-"
      },
      "execution_count": 37,
      "outputs": []
    },
    {
      "cell_type": "markdown",
      "source": [
        "# Basic CNN"
      ],
      "metadata": {
        "id": "ww4IjNd8gK4Z"
      }
    },
    {
      "cell_type": "code",
      "source": [
        "import torch.nn as nn\n",
        "\n",
        "class startingModel(nn.Module):\n",
        "    def __init__(self):\n",
        "        super(startingModel, self).__init__()\n",
        "        self.conv1 = nn.Conv2d(3, 64, 5, bias=False)       # output becomes 26x26\n",
        "        self.conv1_bn = nn.BatchNorm2d(64)\n",
        "        self.conv2 = nn.Conv2d(64, 64, 5, bias=False)      # output becomes 24x24\n",
        "        self.conv2_bn = nn.BatchNorm2d(64)\n",
        "        self.pool1 = nn.MaxPool2d(2)\n",
        "      \n",
        "        self.conv3 = nn.Conv2d(64, 64, 5, bias=False)      # output becomes 22x22\n",
        "        self.conv3_bn = nn.BatchNorm2d(64)\n",
        "        self.conv4 = nn.Conv2d(64, 64, 5, bias=False)      # output becomes 20x20\n",
        "        self.conv4_bn = nn.BatchNorm2d(64)\n",
        "        self.pool2 = nn.MaxPool2d(2)\n",
        "\n",
        "        self.conv5 = nn.Conv2d(64, 64, 5, bias=False)      # output becomes 22x22\n",
        "        self.conv5_bn = nn.BatchNorm2d(64)\n",
        "        self.conv6 = nn.Conv2d(64, 64, 5, bias=False)      # output becomes 20x20\n",
        "        self.conv6_bn = nn.BatchNorm2d(64)\n",
        "        self.pool3 = nn.MaxPool2d(2)\n",
        "\n",
        "        self.fc1 = nn.Linear(4096, 64, bias=False)\n",
        "        self.fc2 = nn.Linear(64, 1, bias=False)\n",
        "        self.sigmoid = nn.Sigmoid()\n",
        "    \n",
        "    def forward(self, x):\n",
        "        conv1 = F.relu(self.conv1_bn(self.conv1(x)))\n",
        "        conv2 = F.relu(self.conv2_bn(self.conv2(conv1)))\n",
        "        conv2 = self.pool1(conv2)\n",
        "\n",
        "        conv3 = F.relu(self.conv3_bn(self.conv3(conv2)))\n",
        "        conv4 = F.relu(self.conv4_bn(self.conv4(conv3)))\n",
        "        conv4 = self.pool2(conv4)\n",
        "\n",
        "        conv5 = F.relu(self.conv5_bn(self.conv5(conv4)))\n",
        "        conv6 = F.relu(self.conv6_bn(self.conv6(conv5)))\n",
        "        conv6 = self.pool3(conv6)\n",
        "\n",
        "        flat1 = torch.flatten(conv6.permute(0, 2, 3, 1), 1)\n",
        "        fc1 = F.relu(self.fc1(flat1))\n",
        "        logits = self.fc2(fc1)\n",
        "        return self.sigmoid(logits)\n",
        "\n",
        "\n",
        "doExperiment(startingModel())"
      ],
      "metadata": {
        "colab": {
          "base_uri": "https://localhost:8080/"
        },
        "id": "qngElFJqeJih",
        "outputId": "dc17aaf1-29ea-422f-a3b2-95940fbb4cb3"
      },
      "execution_count": null,
      "outputs": [
        {
          "output_type": "stream",
          "name": "stdout",
          "text": [
            "----------------------------------------------------------------\n",
            "        Layer (type)               Output Shape         Param #\n",
            "================================================================\n",
            "            Conv2d-1         [-1, 64, 121, 121]           4,800\n",
            "       BatchNorm2d-2         [-1, 64, 121, 121]             128\n",
            "            Conv2d-3         [-1, 64, 117, 117]         102,400\n",
            "       BatchNorm2d-4         [-1, 64, 117, 117]             128\n",
            "         MaxPool2d-5           [-1, 64, 58, 58]               0\n",
            "            Conv2d-6           [-1, 64, 54, 54]         102,400\n",
            "       BatchNorm2d-7           [-1, 64, 54, 54]             128\n",
            "            Conv2d-8           [-1, 64, 50, 50]         102,400\n",
            "       BatchNorm2d-9           [-1, 64, 50, 50]             128\n",
            "        MaxPool2d-10           [-1, 64, 25, 25]               0\n",
            "           Conv2d-11           [-1, 64, 21, 21]         102,400\n",
            "      BatchNorm2d-12           [-1, 64, 21, 21]             128\n",
            "           Conv2d-13           [-1, 64, 17, 17]         102,400\n",
            "      BatchNorm2d-14           [-1, 64, 17, 17]             128\n",
            "        MaxPool2d-15             [-1, 64, 8, 8]               0\n",
            "           Linear-16                   [-1, 64]         262,144\n",
            "           Linear-17                    [-1, 1]              64\n",
            "          Sigmoid-18                    [-1, 1]               0\n",
            "================================================================\n",
            "Total params: 779,776\n",
            "Trainable params: 779,776\n",
            "Non-trainable params: 0\n",
            "----------------------------------------------------------------\n",
            "Input size (MB): 0.18\n",
            "Forward/backward pass size (MB): 35.65\n",
            "Params size (MB): 2.97\n",
            "Estimated Total Size (MB): 38.80\n",
            "----------------------------------------------------------------\n",
            "None\n",
            "Epoch 0/9\n",
            "----------\n",
            "Loss: 0.5823 Acc: 0.7019 AUC ROC : 0.7645 Time taken : 169.72\n",
            "\n",
            "Epoch 1/9\n",
            "----------\n",
            "Loss: 0.5658 Acc: 0.7186 AUC ROC : 0.7804 Time taken : 169.84\n",
            "\n",
            "Epoch 2/9\n",
            "----------\n"
          ]
        }
      ]
    },
    {
      "cell_type": "markdown",
      "source": [
        "## Resnet"
      ],
      "metadata": {
        "id": "ejOTpEmCfpds"
      }
    },
    {
      "cell_type": "code",
      "source": [
        "class ResNet(nn.Module):\n",
        "    def __init__(self, block, layers, num_classes = 1):\n",
        "        super(ResNet, self).__init__()\n",
        "        self.inplanes = 64\n",
        "        self.conv1 = nn.Sequential(\n",
        "                        nn.Conv2d(3, 64, kernel_size = 7, stride = 2, padding = 3),\n",
        "                        nn.BatchNorm2d(64),\n",
        "                        nn.ReLU())\n",
        "        self.maxpool = nn.MaxPool2d(kernel_size = 3, stride = 2, padding = 1)\n",
        "        self.layer0 = self._make_layer(block, 64, layers[0], stride = 1)\n",
        "        self.layer1 = self._make_layer(block, 128, layers[1], stride = 2)\n",
        "        self.layer2 = self._make_layer(block, 256, layers[2], stride = 2)\n",
        "        self.layer3 = self._make_layer(block, 512, layers[3], stride = 2)\n",
        "        self.avgpool = nn.AvgPool2d(7, stride=1)\n",
        "        self.fc = nn.Linear(512, num_classes)\n",
        "        self.head_activ = nn.Sigmoid()\n",
        "        \n",
        "    def _make_layer(self, block, planes, blocks, stride=1):\n",
        "        downsample = None\n",
        "        if stride != 1 or self.inplanes != planes:\n",
        "            \n",
        "            downsample = nn.Sequential(\n",
        "                nn.Conv2d(self.inplanes, planes, kernel_size=1, stride=stride),\n",
        "                nn.BatchNorm2d(planes),\n",
        "            )\n",
        "        layers = []\n",
        "        layers.append(block(self.inplanes, planes, stride, downsample))\n",
        "        self.inplanes = planes\n",
        "        for i in range(1, blocks):\n",
        "            layers.append(block(self.inplanes, planes))\n",
        "\n",
        "        return nn.Sequential(*layers)\n",
        "    \n",
        "    \n",
        "    def forward(self, x):\n",
        "        x = self.conv1(x)\n",
        "        x = self.maxpool(x)\n",
        "        x = self.layer0(x)\n",
        "        x = self.layer1(x)\n",
        "        x = self.layer2(x)\n",
        "        x = self.layer3(x)\n",
        "\n",
        "        x = self.avgpool(x)\n",
        "        x = x.view(x.size(0), -1)\n",
        "        x = self.fc(x)\n",
        "\n",
        "        return self.head_activ(x)\n",
        "        "
      ],
      "metadata": {
        "id": "a0y13my9et7r"
      },
      "execution_count": null,
      "outputs": []
    }
  ]
}