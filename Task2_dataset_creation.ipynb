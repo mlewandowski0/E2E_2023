{
  "cells": [
    {
      "cell_type": "markdown",
      "metadata": {
        "id": "fjCNGNagTiRX"
      },
      "source": [
        "# Extra dependencies installation"
      ]
    },
    {
      "cell_type": "code",
      "source": [
        "!pip install sparse"
      ],
      "metadata": {
        "colab": {
          "base_uri": "https://localhost:8080/"
        },
        "id": "ek4QYi59ln2b",
        "outputId": "e244631f-fa08-45e5-d2ae-e103e9103e43"
      },
      "execution_count": 1,
      "outputs": [
        {
          "output_type": "stream",
          "name": "stdout",
          "text": [
            "Looking in indexes: https://pypi.org/simple, https://us-python.pkg.dev/colab-wheels/public/simple/\n",
            "Collecting sparse\n",
            "  Downloading sparse-0.14.0-py2.py3-none-any.whl (80 kB)\n",
            "\u001b[2K     \u001b[90m━━━━━━━━━━━━━━━━━━━━━━━━━━━━━━━━━━━━━━━━\u001b[0m \u001b[32m81.0/81.0 KB\u001b[0m \u001b[31m2.3 MB/s\u001b[0m eta \u001b[36m0:00:00\u001b[0m\n",
            "\u001b[?25hRequirement already satisfied: numba>=0.49 in /usr/local/lib/python3.8/dist-packages (from sparse) (0.56.4)\n",
            "Requirement already satisfied: numpy>=1.17 in /usr/local/lib/python3.8/dist-packages (from sparse) (1.22.4)\n",
            "Requirement already satisfied: scipy>=0.19 in /usr/local/lib/python3.8/dist-packages (from sparse) (1.10.1)\n",
            "Requirement already satisfied: llvmlite<0.40,>=0.39.0dev0 in /usr/local/lib/python3.8/dist-packages (from numba>=0.49->sparse) (0.39.1)\n",
            "Requirement already satisfied: setuptools in /usr/local/lib/python3.8/dist-packages (from numba>=0.49->sparse) (57.4.0)\n",
            "Requirement already satisfied: importlib-metadata in /usr/local/lib/python3.8/dist-packages (from numba>=0.49->sparse) (6.0.0)\n",
            "Requirement already satisfied: zipp>=0.5 in /usr/local/lib/python3.8/dist-packages (from importlib-metadata->numba>=0.49->sparse) (3.15.0)\n",
            "Installing collected packages: sparse\n",
            "Successfully installed sparse-0.14.0\n"
          ]
        }
      ]
    },
    {
      "cell_type": "markdown",
      "metadata": {
        "id": "re67wELGTpCf"
      },
      "source": [
        "# Imports"
      ]
    },
    {
      "cell_type": "code",
      "execution_count": 2,
      "metadata": {
        "id": "IwJhjcunTpT-"
      },
      "outputs": [],
      "source": [
        "import os\n",
        "from tqdm import tqdm\n",
        "import pyarrow.parquet as pq\n",
        "from collections import defaultdict, Counter\n",
        "import numpy as np\n",
        "import scipy\n",
        "import sparse"
      ]
    },
    {
      "cell_type": "markdown",
      "metadata": {
        "id": "mHwZUxahTl_8"
      },
      "source": [
        "# Setup dataset "
      ]
    },
    {
      "cell_type": "code",
      "execution_count": 3,
      "metadata": {
        "colab": {
          "base_uri": "https://localhost:8080/"
        },
        "id": "L_JynXRHMYk4",
        "outputId": "3e26c5d7-b944-4b46-bb26-d711fdd6bceb"
      },
      "outputs": [
        {
          "output_type": "stream",
          "name": "stdout",
          "text": [
            "Mounted at /content/drive\n"
          ]
        },
        {
          "output_type": "execute_result",
          "data": {
            "text/plain": [
              "['SinglePhotonPt50_IMGCROPS_n249k_RHv1.hdf5',\n",
              " 'SingleElectronPt50_IMGCROPS_n249k_RHv1.hdf5',\n",
              " 'QCDToGGQQ_IMGjet_RH1all_jet0_run0_n36272.test.snappy.parquet',\n",
              " 'QCDToGGQQ_IMGjet_RH1all_jet0_run1_n47540.test.snappy.parquet',\n",
              " 'QCDToGGQQ_IMGjet_RH1all_jet0_run2_n55494.test.snappy.parquet',\n",
              " 'models',\n",
              " 'tensorboard',\n",
              " 'gravitational-lensing',\n",
              " 'Task2']"
            ]
          },
          "metadata": {},
          "execution_count": 3
        }
      ],
      "source": [
        "try:\n",
        "  import google.colab\n",
        "  COLAB_ENV = True\n",
        "except:\n",
        "  COLAB_ENV = False\n",
        "\n",
        "\n",
        "if COLAB_ENV:\n",
        "  data_filepath = \"/\" + os.path.join(\"content\",\"drive\",\"MyDrive\",\"datasets\", \"ML4SCI_GSOC23\")\n",
        "  from google.colab import drive\n",
        "  drive.mount('/content/drive')\n",
        "else:\n",
        "  data_filepath = \"data\"\n",
        "\n",
        "\n",
        "os.listdir(data_filepath)"
      ]
    },
    {
      "cell_type": "markdown",
      "source": [
        "# Important Hyperparameters"
      ],
      "metadata": {
        "id": "6NnPMf6iBbEg"
      }
    },
    {
      "cell_type": "code",
      "source": [
        "CREATE_DATASET_FROM_PARQUET = True\n",
        "\n",
        "data_path_img = data_filepath\n",
        "data_path_img_local = \"data\"\n",
        "\n",
        "np_images_filepath = os.path.join(data_path_img_local, \"Task2\")\n",
        "class_to_label = {0 : \"Gluon\",\n",
        "                  1 : \"Quark\"}"
      ],
      "metadata": {
        "id": "pwlUq_ahBdpD"
      },
      "execution_count": 4,
      "outputs": []
    },
    {
      "cell_type": "markdown",
      "source": [
        "# Dataset Creation"
      ],
      "metadata": {
        "id": "9128Ah63BhT0"
      }
    },
    {
      "cell_type": "code",
      "source": [
        "def read_and_process_parquet(name):\n",
        "  print(\"-\"*64)\n",
        "  print(name)\n",
        "  filepath = os.path.join(data_filepath, name)\n",
        "  df = pq.read_table(filepath)\n",
        "  print(df.schema)\n",
        "  print(Counter(list(df['y'])))\n",
        "\n",
        "\n",
        "def read_parquet(name):\n",
        "  filepath = os.path.join(data_filepath, name)\n",
        "  return pq.read_table(filepath)\n",
        "\n",
        "def save_as_np_images(parquet_file, data_root, class_to_filename, starts = defaultdict(int), debug=False, imgs = -1):\n",
        "  filepath = os.path.join(data_filepath, parquet_file)\n",
        "  df = pq.read_table(filepath)\n",
        "  \n",
        "  class_to_filename = {k: os.path.join(data_root,v) for k,v in class_to_filename.items()}\n",
        "  i = 0\n",
        "  counters = starts\n",
        "\n",
        "  os.makedirs(data_root,exist_ok=True)\n",
        "  for k, v in class_to_filename.items():\n",
        "    os.makedirs(v, exist_ok=True)\n",
        "\n",
        "  for batch in tqdm(df.to_batches(max_chunksize=None)):\n",
        "    _dict = batch.to_pydict()\n",
        "    x, y, m0, pt = np.array(_dict[\"X_jets\"])[0], _dict[\"y\"][0], _dict[\"m0\"][0], _dict[\"pt\"][0]\n",
        "\n",
        "    x = x.transpose(1, 2, 0)\n",
        "    x = sparse.COO(x)\n",
        "\n",
        "    filename = os.path.join(class_to_filename[y], f\"{counters[y]}.npz\")\n",
        "    i += 1\n",
        "    counters[y] += 1\n",
        "    \n",
        "    sparse.save_npz(filename, x)\n",
        "    \n",
        "    if imgs != -1 and i == imgs:\n",
        "        break\n",
        "\n",
        "    if debug:\n",
        "      print(\"\")\n",
        "      print(y)\n",
        "      print(f\"saving file to {filename}\")\n",
        "      if i % 1 == 0:\n",
        "       break\n",
        "\n",
        "  return counters\n"
      ],
      "metadata": {
        "id": "ossI_wRgnChK"
      },
      "execution_count": 5,
      "outputs": []
    },
    {
      "cell_type": "code",
      "source": [
        "parquet_files = [\"QCDToGGQQ_IMGjet_RH1all_jet0_run0_n36272.test.snappy.parquet\", \n",
        "                 \"QCDToGGQQ_IMGjet_RH1all_jet0_run1_n47540.test.snappy.parquet\",\n",
        "                 \"QCDToGGQQ_IMGjet_RH1all_jet0_run2_n55494.test.snappy.parquet\"]\n",
        "\n",
        "if CREATE_DATASET_FROM_PARQUET:\n",
        "  saved = save_as_np_images(parquet_files[0], \n",
        "                    np_images_filepath,\n",
        "                    class_to_label)"
      ],
      "metadata": {
        "colab": {
          "base_uri": "https://localhost:8080/"
        },
        "id": "Qreoa91b1AP4",
        "outputId": "1b78b664-04d7-45fd-d186-68ba28a272a9"
      },
      "execution_count": 6,
      "outputs": [
        {
          "output_type": "stream",
          "name": "stderr",
          "text": [
            "100%|██████████| 36272/36272 [22:00<00:00, 27.47it/s]\n"
          ]
        }
      ]
    },
    {
      "cell_type": "code",
      "source": [
        "print(len(os.listdir(\"data/Task2/Gluon\")))\n",
        "print(len(os.listdir(\"data/Task2/Quark\")))"
      ],
      "metadata": {
        "colab": {
          "base_uri": "https://localhost:8080/"
        },
        "id": "avZ-RUDqtA5L",
        "outputId": "1be29dc9-38c1-4c93-c655-e704c864cba1"
      },
      "execution_count": 12,
      "outputs": [
        {
          "output_type": "stream",
          "name": "stdout",
          "text": [
            "18136\n",
            "18136\n"
          ]
        }
      ]
    },
    {
      "cell_type": "code",
      "source": [
        "print(data_path_img)"
      ],
      "metadata": {
        "colab": {
          "base_uri": "https://localhost:8080/"
        },
        "id": "Zrnn8KvNsxLK",
        "outputId": "1da33b87-c381-4aa7-e5b3-e3737a018eda"
      },
      "execution_count": 13,
      "outputs": [
        {
          "output_type": "stream",
          "name": "stdout",
          "text": [
            "/content/drive/MyDrive/datasets/ML4SCI_GSOC23\n"
          ]
        }
      ]
    },
    {
      "cell_type": "code",
      "source": [
        "!zip -rq Task2.zip data/"
      ],
      "metadata": {
        "id": "6lVxH6_ivHx0"
      },
      "execution_count": 14,
      "outputs": []
    },
    {
      "cell_type": "code",
      "source": [
        "!rsync -Prv Task2.zip /content/drive/MyDrive/datasets/ML4SCI_GSOC23/Task2"
      ],
      "metadata": {
        "colab": {
          "base_uri": "https://localhost:8080/"
        },
        "id": "9wih0ceLs1Kq",
        "outputId": "ccb41236-1b00-462e-887b-0b16103dc9ac"
      },
      "execution_count": 10,
      "outputs": [
        {
          "output_type": "stream",
          "name": "stdout",
          "text": [
            "sending incremental file list\n",
            "Task2.zip\n",
            "    130,457,996 100%   72.57MB/s    0:00:01 (xfr#1, to-chk=0/1)\n",
            "\n",
            "sent 130,489,934 bytes  received 35 bytes  52,195,987.60 bytes/sec\n",
            "total size is 130,457,996  speedup is 1.00\n"
          ]
        }
      ]
    },
    {
      "cell_type": "code",
      "source": [
        "!ls /content/drive/MyDrive/datasets/ML4SCI_GSOC23/Task2"
      ],
      "metadata": {
        "colab": {
          "base_uri": "https://localhost:8080/"
        },
        "id": "wjUtnJkMvZ7r",
        "outputId": "9651782d-e074-40ba-8835-07dd14215fed"
      },
      "execution_count": 11,
      "outputs": [
        {
          "output_type": "stream",
          "name": "stdout",
          "text": [
            "Task2.zip\n"
          ]
        }
      ]
    },
    {
      "cell_type": "code",
      "source": [
        "def get_statistics_of_data(parquet_file, starts = defaultdict(int), debug=False, imgs = -1):\n",
        "  filepath = os.path.join(data_filepath, parquet_file)\n",
        "  df = pq.read_table(filepath)\n",
        "  \n",
        "  total = 0\n",
        "  non_zero = 0\n",
        "  i = 0\n",
        "  for batch in tqdm(df.to_batches(max_chunksize=None)):\n",
        "    _dict = batch.to_pydict()\n",
        "    x, y, m0, pt = np.array(_dict[\"X_jets\"])[0], _dict[\"y\"][0], _dict[\"m0\"][0], _dict[\"pt\"][0]\n",
        "    \n",
        "    x = x.transpose(1, 2, 0)\n",
        "    non_zero += (x != 0).reshape(3, -1).sum(axis=1)\n",
        "    total +=  np.array([1,1,1]) * (np.prod(x.shape) / 3)\n",
        "    i += 1\n",
        "\n",
        "  return {\"total\" : total, \"non_zero\" : non_zero}\n"
      ],
      "metadata": {
        "id": "dIyUyuyPUZ-d"
      },
      "execution_count": 18,
      "outputs": []
    },
    {
      "cell_type": "code",
      "source": [
        "stats = get_statistics_of_data(parquet_files[0])\n",
        "print(stats)"
      ],
      "metadata": {
        "colab": {
          "base_uri": "https://localhost:8080/"
        },
        "id": "Trr41qEVePID",
        "outputId": "d19a6fc3-1fc7-4efd-f1ba-9102f2dfe3e6"
      },
      "execution_count": 19,
      "outputs": [
        {
          "output_type": "stream",
          "name": "stderr",
          "text": [
            "100%|██████████| 36272/36272 [14:22<00:00, 42.08it/s]\n"
          ]
        },
        {
          "output_type": "stream",
          "name": "stdout",
          "text": [
            "{'total': array([5.6675e+08, 5.6675e+08, 5.6675e+08]), 'non_zero': array([ 5096054, 19670601,  4981334])}\n"
          ]
        }
      ]
    },
    {
      "cell_type": "code",
      "source": [
        "100 * stats[\"non_zero\"] / stats[\"total\"]"
      ],
      "metadata": {
        "colab": {
          "base_uri": "https://localhost:8080/"
        },
        "id": "3cE_9F1DfJxE",
        "outputId": "e5ff1d91-5111-4ed3-e34e-1ba67df4cf2c"
      },
      "execution_count": 21,
      "outputs": [
        {
          "output_type": "execute_result",
          "data": {
            "text/plain": [
              "array([0.89917142, 3.47077212, 0.87892969])"
            ]
          },
          "metadata": {},
          "execution_count": 21
        }
      ]
    },
    {
      "cell_type": "code",
      "source": [
        "print(data_path_img)"
      ],
      "metadata": {
        "colab": {
          "base_uri": "https://localhost:8080/"
        },
        "id": "SR7an-BapfYT",
        "outputId": "c7f6ee8a-0f97-4794-f3e7-223fdecb587a"
      },
      "execution_count": 37,
      "outputs": [
        {
          "output_type": "stream",
          "name": "stdout",
          "text": [
            "data\n"
          ]
        }
      ]
    },
    {
      "cell_type": "code",
      "source": [
        "sparse.load_npz"
      ],
      "metadata": {
        "colab": {
          "base_uri": "https://localhost:8080/"
        },
        "id": "K7o2aLGLpcSI",
        "outputId": "44ff4aae-594b-40eb-b4d7-d7f068c30421"
      },
      "execution_count": 15,
      "outputs": [
        {
          "output_type": "execute_result",
          "data": {
            "text/plain": [
              "<module 'sparse' from '/usr/local/lib/python3.8/dist-packages/sparse/__init__.py'>"
            ]
          },
          "metadata": {},
          "execution_count": 15
        }
      ]
    },
    {
      "cell_type": "code",
      "source": [],
      "metadata": {
        "id": "TaKX8owK3VMz"
      },
      "execution_count": null,
      "outputs": []
    }
  ],
  "metadata": {
    "colab": {
      "machine_shape": "hm",
      "provenance": []
    },
    "gpuClass": "standard",
    "kernelspec": {
      "display_name": "Python 3 (ipykernel)",
      "language": "python",
      "name": "python3"
    },
    "language_info": {
      "codemirror_mode": {
        "name": "ipython",
        "version": 3
      },
      "file_extension": ".py",
      "mimetype": "text/x-python",
      "name": "python",
      "nbconvert_exporter": "python",
      "pygments_lexer": "ipython3",
      "version": "3.10.6"
    },
    "vscode": {
      "interpreter": {
        "hash": "916dbcbb3f70747c44a77c7bcd40155683ae19c65e1c03b4aa3499c5328201f1"
      }
    }
  },
  "nbformat": 4,
  "nbformat_minor": 0
}