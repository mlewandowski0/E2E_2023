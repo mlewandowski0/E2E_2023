{
  "cells": [
    {
      "cell_type": "markdown",
      "metadata": {
        "id": "fjCNGNagTiRX"
      },
      "source": [
        "# Extra dependencies installation"
      ]
    },
    {
      "cell_type": "markdown",
      "metadata": {
        "id": "re67wELGTpCf"
      },
      "source": [
        "# Imports"
      ]
    },
    {
      "cell_type": "code",
      "execution_count": 5,
      "metadata": {
        "id": "IwJhjcunTpT-"
      },
      "outputs": [],
      "source": [
        "import os\n",
        "from tqdm import tqdm\n",
        "import pyarrow.parquet as pq\n",
        "from collections import defaultdict, Counter\n",
        "import numpy as np"
      ]
    },
    {
      "cell_type": "markdown",
      "metadata": {
        "id": "mHwZUxahTl_8"
      },
      "source": [
        "# Setup dataset "
      ]
    },
    {
      "cell_type": "code",
      "execution_count": 2,
      "metadata": {
        "colab": {
          "base_uri": "https://localhost:8080/"
        },
        "id": "L_JynXRHMYk4",
        "outputId": "eb2b3d77-4796-49b2-b526-c107dbde4685"
      },
      "outputs": [
        {
          "output_type": "stream",
          "name": "stdout",
          "text": [
            "Mounted at /content/drive\n"
          ]
        },
        {
          "output_type": "execute_result",
          "data": {
            "text/plain": [
              "['SinglePhotonPt50_IMGCROPS_n249k_RHv1.hdf5',\n",
              " 'SingleElectronPt50_IMGCROPS_n249k_RHv1.hdf5',\n",
              " 'QCDToGGQQ_IMGjet_RH1all_jet0_run0_n36272.test.snappy.parquet',\n",
              " 'QCDToGGQQ_IMGjet_RH1all_jet0_run1_n47540.test.snappy.parquet',\n",
              " 'QCDToGGQQ_IMGjet_RH1all_jet0_run2_n55494.test.snappy.parquet',\n",
              " 'models',\n",
              " 'tensorboard',\n",
              " 'gravitational-lensing']"
            ]
          },
          "metadata": {},
          "execution_count": 2
        }
      ],
      "source": [
        "try:\n",
        "  import google.colab\n",
        "  COLAB_ENV = True\n",
        "except:\n",
        "  COLAB_ENV = False\n",
        "\n",
        "\n",
        "if COLAB_ENV:\n",
        "  data_filepath = \"/\" + os.path.join(\"content\",\"drive\",\"MyDrive\",\"datasets\", \"ML4SCI_GSOC23\")\n",
        "  from google.colab import drive\n",
        "  drive.mount('/content/drive')\n",
        "else:\n",
        "  data_filepath = \"data\"\n",
        "\n",
        "\n",
        "os.listdir(data_filepath)"
      ]
    },
    {
      "cell_type": "markdown",
      "source": [
        "# Important Hyperparameters"
      ],
      "metadata": {
        "id": "6NnPMf6iBbEg"
      }
    },
    {
      "cell_type": "code",
      "source": [
        "CREATE_DATASET_FROM_PARQUET = True\n",
        "np_images_filepath = os.path.join(data_filepath, \"Task2\")\n",
        "class_to_label = {0 : \"Gluon\",\n",
        "                  1 : \"Quark\"}"
      ],
      "metadata": {
        "id": "pwlUq_ahBdpD"
      },
      "execution_count": 3,
      "outputs": []
    },
    {
      "cell_type": "markdown",
      "source": [
        "# Dataset Creation"
      ],
      "metadata": {
        "id": "9128Ah63BhT0"
      }
    },
    {
      "cell_type": "code",
      "source": [
        "def read_and_process_parquet(name):\n",
        "  print(\"-\"*64)\n",
        "  print(name)\n",
        "  filepath = os.path.join(data_filepath, name)\n",
        "  df = pq.read_table(filepath)\n",
        "  print(df.schema)\n",
        "  print(Counter(list(df['y'])))\n",
        "\n",
        "\n",
        "def read_parquet(name):\n",
        "  filepath = os.path.join(data_filepath, name)\n",
        "  return pq.read_table(filepath)\n",
        "\n",
        "def save_as_np_images(parquet_file, data_root, class_to_filename, starts = defaultdict(int), debug=False, imgs = -1):\n",
        "  filepath = os.path.join(data_filepath, parquet_file)\n",
        "  df = pq.read_table(filepath)\n",
        "  \n",
        "  class_to_filename = {k: os.path.join(data_root,v) for k,v in class_to_filename.items()}\n",
        "  i = 0\n",
        "  counters = starts\n",
        "\n",
        "  os.makedirs(data_root,exist_ok=True)\n",
        "  for k, v in class_to_filename.items():\n",
        "    os.makedirs(v, exist_ok=True)\n",
        "\n",
        "  for batch in tqdm(df.to_batches(max_chunksize=None)):\n",
        "    _dict = batch.to_pydict()\n",
        "    x, y, m0, pt = np.array(_dict[\"X_jets\"])[0], _dict[\"y\"][0], _dict[\"m0\"][0], _dict[\"pt\"][0]\n",
        "\n",
        "    x = x.transpose(1, 2, 0)\n",
        "\n",
        "    filename = os.path.join(class_to_filename[y], f\"{counters[y]}.npy\")\n",
        "    i += 1\n",
        "    counters[y] += 1\n",
        "    \n",
        "    np.save(filename, x)\n",
        "    \n",
        "    if imgs != -1 and i == imgs:\n",
        "        break\n",
        "\n",
        "    if debug:\n",
        "      print(\"\")\n",
        "      print(y)\n",
        "      print(f\"saving file to {filename}\")\n",
        "      if i % 1 == 0:\n",
        "       break\n",
        "\n",
        "  return counters\n"
      ],
      "metadata": {
        "id": "ossI_wRgnChK"
      },
      "execution_count": 6,
      "outputs": []
    },
    {
      "cell_type": "code",
      "source": [
        "parquet_files = [\"QCDToGGQQ_IMGjet_RH1all_jet0_run0_n36272.test.snappy.parquet\", \n",
        "                 \"QCDToGGQQ_IMGjet_RH1all_jet0_run1_n47540.test.snappy.parquet\",\n",
        "                 \"QCDToGGQQ_IMGjet_RH1all_jet0_run2_n55494.test.snappy.parquet\"]\n",
        "\n",
        "if CREATE_DATASET_FROM_PARQUET:\n",
        "  saved = save_as_np_images(parquet_files[0], \n",
        "                    np_images_filepath,\n",
        "                    class_to_label)"
      ],
      "metadata": {
        "colab": {
          "base_uri": "https://localhost:8080/"
        },
        "id": "Qreoa91b1AP4",
        "outputId": "99463ae3-ecc5-4622-e8ac-a62360371785"
      },
      "execution_count": 7,
      "outputs": [
        {
          "output_type": "stream",
          "name": "stderr",
          "text": [
            "100%|██████████| 36272/36272 [24:48<00:00, 24.37it/s]\n"
          ]
        }
      ]
    }
  ],
  "metadata": {
    "colab": {
      "machine_shape": "hm",
      "provenance": []
    },
    "gpuClass": "standard",
    "kernelspec": {
      "display_name": "Python 3 (ipykernel)",
      "language": "python",
      "name": "python3"
    },
    "language_info": {
      "codemirror_mode": {
        "name": "ipython",
        "version": 3
      },
      "file_extension": ".py",
      "mimetype": "text/x-python",
      "name": "python",
      "nbconvert_exporter": "python",
      "pygments_lexer": "ipython3",
      "version": "3.10.6"
    },
    "vscode": {
      "interpreter": {
        "hash": "916dbcbb3f70747c44a77c7bcd40155683ae19c65e1c03b4aa3499c5328201f1"
      }
    }
  },
  "nbformat": 4,
  "nbformat_minor": 0
}