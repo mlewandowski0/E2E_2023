{
 "cells": [
  {
   "cell_type": "markdown",
   "metadata": {
    "id": "HDTwBTzLcIPe"
   },
   "source": [
    "# Extra installs"
   ]
  },
  {
   "cell_type": "code",
   "execution_count": 1,
   "metadata": {
    "colab": {
     "base_uri": "https://localhost:8080/"
    },
    "executionInfo": {
     "elapsed": 22375,
     "status": "ok",
     "timestamp": 1680393017398,
     "user": {
      "displayName": "maciek lewandowski",
      "userId": "10601486516899378503"
     },
     "user_tz": -60
    },
    "id": "Wjufz_R5cKoF",
    "outputId": "44bb898b-f530-4ead-c64c-afc947db74ce"
   },
   "outputs": [
    {
     "name": "stdout",
     "output_type": "stream",
     "text": [
      "Looking in indexes: https://pypi.org/simple, https://us-python.pkg.dev/colab-wheels/public/simple/\n",
      "Requirement already satisfied: torchsummary in /usr/local/lib/python3.9/dist-packages (1.5.1)\n",
      "Looking in indexes: https://pypi.org/simple, https://us-python.pkg.dev/colab-wheels/public/simple/\n",
      "Collecting sparse\n",
      "  Downloading sparse-0.14.0-py2.py3-none-any.whl (80 kB)\n",
      "\u001b[2K     \u001b[90m━━━━━━━━━━━━━━━━━━━━━━━━━━━━━━━━━━━━━━━━\u001b[0m \u001b[32m81.0/81.0 KB\u001b[0m \u001b[31m2.5 MB/s\u001b[0m eta \u001b[36m0:00:00\u001b[0m\n",
      "\u001b[?25hRequirement already satisfied: numba>=0.49 in /usr/local/lib/python3.9/dist-packages (from sparse) (0.56.4)\n",
      "Requirement already satisfied: numpy>=1.17 in /usr/local/lib/python3.9/dist-packages (from sparse) (1.22.4)\n",
      "Requirement already satisfied: scipy>=0.19 in /usr/local/lib/python3.9/dist-packages (from sparse) (1.10.1)\n",
      "Requirement already satisfied: setuptools in /usr/local/lib/python3.9/dist-packages (from numba>=0.49->sparse) (67.6.1)\n",
      "Requirement already satisfied: llvmlite<0.40,>=0.39.0dev0 in /usr/local/lib/python3.9/dist-packages (from numba>=0.49->sparse) (0.39.1)\n",
      "Installing collected packages: sparse\n",
      "Successfully installed sparse-0.14.0\n",
      "Looking in indexes: https://pypi.org/simple, https://us-python.pkg.dev/colab-wheels/public/simple/\n",
      "Collecting timm\n",
      "  Downloading timm-0.6.13-py3-none-any.whl (549 kB)\n",
      "\u001b[2K     \u001b[90m━━━━━━━━━━━━━━━━━━━━━━━━━━━━━━━━━━━━━━\u001b[0m \u001b[32m549.1/549.1 KB\u001b[0m \u001b[31m21.9 MB/s\u001b[0m eta \u001b[36m0:00:00\u001b[0m\n",
      "\u001b[?25hCollecting huggingface-hub\n",
      "  Downloading huggingface_hub-0.13.3-py3-none-any.whl (199 kB)\n",
      "\u001b[2K     \u001b[90m━━━━━━━━━━━━━━━━━━━━━━━━━━━━━━━━━━━━━━\u001b[0m \u001b[32m199.8/199.8 KB\u001b[0m \u001b[31m25.7 MB/s\u001b[0m eta \u001b[36m0:00:00\u001b[0m\n",
      "\u001b[?25hRequirement already satisfied: torchvision in /usr/local/lib/python3.9/dist-packages (from timm) (0.14.1+cu116)\n",
      "Requirement already satisfied: torch>=1.7 in /usr/local/lib/python3.9/dist-packages (from timm) (1.13.1+cu116)\n",
      "Requirement already satisfied: pyyaml in /usr/local/lib/python3.9/dist-packages (from timm) (6.0)\n",
      "Requirement already satisfied: typing-extensions in /usr/local/lib/python3.9/dist-packages (from torch>=1.7->timm) (4.5.0)\n",
      "Requirement already satisfied: filelock in /usr/local/lib/python3.9/dist-packages (from huggingface-hub->timm) (3.10.7)\n",
      "Requirement already satisfied: packaging>=20.9 in /usr/local/lib/python3.9/dist-packages (from huggingface-hub->timm) (23.0)\n",
      "Requirement already satisfied: requests in /usr/local/lib/python3.9/dist-packages (from huggingface-hub->timm) (2.27.1)\n",
      "Requirement already satisfied: tqdm>=4.42.1 in /usr/local/lib/python3.9/dist-packages (from huggingface-hub->timm) (4.65.0)\n",
      "Requirement already satisfied: pillow!=8.3.*,>=5.3.0 in /usr/local/lib/python3.9/dist-packages (from torchvision->timm) (8.4.0)\n",
      "Requirement already satisfied: numpy in /usr/local/lib/python3.9/dist-packages (from torchvision->timm) (1.22.4)\n",
      "Requirement already satisfied: certifi>=2017.4.17 in /usr/local/lib/python3.9/dist-packages (from requests->huggingface-hub->timm) (2022.12.7)\n",
      "Requirement already satisfied: urllib3<1.27,>=1.21.1 in /usr/local/lib/python3.9/dist-packages (from requests->huggingface-hub->timm) (1.26.15)\n",
      "Requirement already satisfied: charset-normalizer~=2.0.0 in /usr/local/lib/python3.9/dist-packages (from requests->huggingface-hub->timm) (2.0.12)\n",
      "Requirement already satisfied: idna<4,>=2.5 in /usr/local/lib/python3.9/dist-packages (from requests->huggingface-hub->timm) (3.4)\n",
      "Installing collected packages: huggingface-hub, timm\n",
      "Successfully installed huggingface-hub-0.13.3 timm-0.6.13\n",
      "Looking in indexes: https://pypi.org/simple, https://us-python.pkg.dev/colab-wheels/public/simple/\n",
      "Collecting einops\n",
      "  Downloading einops-0.6.0-py3-none-any.whl (41 kB)\n",
      "\u001b[2K     \u001b[90m━━━━━━━━━━━━━━━━━━━━━━━━━━━━━━━━━━━━━━━━\u001b[0m \u001b[32m41.6/41.6 KB\u001b[0m \u001b[31m5.7 MB/s\u001b[0m eta \u001b[36m0:00:00\u001b[0m\n",
      "\u001b[?25hInstalling collected packages: einops\n",
      "Successfully installed einops-0.6.0\n"
     ]
    }
   ],
   "source": [
    "#!pip install cloud-tpu-client==0.10 torch==1.13.0 https://storage.googleapis.com/tpu-pytorch/wheels/colab/torch_xla-1.13-cp38-cp38-linux_x86_64.whl\n",
    "!pip install torchsummary\n",
    "!pip install sparse\n",
    "!pip install timm\n",
    "!pip install einops"
   ]
  },
  {
   "cell_type": "markdown",
   "metadata": {
    "id": "NlRKOenoEVbm"
   },
   "source": [
    "# Imports"
   ]
  },
  {
   "cell_type": "code",
   "execution_count": 2,
   "metadata": {
    "executionInfo": {
     "elapsed": 4416,
     "status": "ok",
     "timestamp": 1680393021809,
     "user": {
      "displayName": "maciek lewandowski",
      "userId": "10601486516899378503"
     },
     "user_tz": -60
    },
    "id": "wxuBCVTCEB50"
   },
   "outputs": [],
   "source": [
    "import os\n",
    "import time\n",
    "import gc\n",
    "import torch.nn as nn\n",
    "from tqdm import tqdm\n",
    "import pyarrow.parquet as pq\n",
    "from collections import defaultdict, Counter\n",
    "import numpy as np\n",
    "import matplotlib.pyplot as plt\n",
    "import torch\n",
    "import sparse\n",
    "import torchvision\n",
    "from torchvision.datasets.folder import DatasetFolder\n",
    "# imports the torch_xla package\n",
    "from sklearn.metrics import roc_auc_score\n",
    "import torch.nn.functional as F\n",
    "from torchsummary import summary\n",
    "import torch.optim as pt_optim\n",
    "import torch.optim.lr_scheduler as pt_lr_scheduler\n",
    "from tqdm import tqdm\n",
    "from einops import rearrange\n",
    "from einops.layers.torch import Rearrange\n"
   ]
  },
  {
   "cell_type": "markdown",
   "metadata": {
    "id": "b-5PTuyqEYjB"
   },
   "source": [
    "# Dataset"
   ]
  },
  {
   "cell_type": "code",
   "execution_count": 3,
   "metadata": {
    "colab": {
     "base_uri": "https://localhost:8080/"
    },
    "executionInfo": {
     "elapsed": 27750,
     "status": "ok",
     "timestamp": 1680393049555,
     "user": {
      "displayName": "maciek lewandowski",
      "userId": "10601486516899378503"
     },
     "user_tz": -60
    },
    "id": "sOML3_TBEYwz",
    "outputId": "9fcfd405-b1bc-4992-85bc-6f9b3855dba4"
   },
   "outputs": [
    {
     "name": "stdout",
     "output_type": "stream",
     "text": [
      "Mounted at /content/drive\n"
     ]
    }
   ],
   "source": [
    "try:\n",
    "  import google.colab\n",
    "  COLAB_ENV = True\n",
    "except:\n",
    "  COLAB_ENV = False\n",
    "\n",
    "\n",
    "if COLAB_ENV:\n",
    "  data_filepath = \"/\" + os.path.join(\"content\",\"drive\",\"MyDrive\",\"datasets\", \"ML4SCI_GSOC23\")\n",
    "  from google.colab import drive\n",
    "  drive.mount('/content/drive')\n",
    "else:\n",
    "  data_filepath = \"data\""
   ]
  },
  {
   "cell_type": "code",
   "execution_count": 4,
   "metadata": {
    "colab": {
     "base_uri": "https://localhost:8080/"
    },
    "executionInfo": {
     "elapsed": 823,
     "status": "ok",
     "timestamp": 1680393050375,
     "user": {
      "displayName": "maciek lewandowski",
      "userId": "10601486516899378503"
     },
     "user_tz": -60
    },
    "id": "6Ul4UZGfwI3R",
    "outputId": "4a0e6fbb-a86b-48e7-a7ec-601393956b4b"
   },
   "outputs": [
    {
     "name": "stdout",
     "output_type": "stream",
     "text": [
      "Task2_large.zip  Task2.zip\n"
     ]
    }
   ],
   "source": [
    "!ls /content/drive/MyDrive/datasets/ML4SCI_GSOC23/Task2"
   ]
  },
  {
   "cell_type": "code",
   "execution_count": 5,
   "metadata": {
    "colab": {
     "base_uri": "https://localhost:8080/"
    },
    "executionInfo": {
     "elapsed": 6044,
     "status": "ok",
     "timestamp": 1680393056415,
     "user": {
      "displayName": "maciek lewandowski",
      "userId": "10601486516899378503"
     },
     "user_tz": -60
    },
    "id": "cDH2rgT6v3n1",
    "outputId": "f342be28-2c82-47d0-b1cb-39f3e00db9c8"
   },
   "outputs": [
    {
     "name": "stdout",
     "output_type": "stream",
     "text": [
      "Task2_large.zip\n",
      "    511,755,972 100%   89.91MB/s    0:00:05 (xfr#1, to-chk=0/1)\n"
     ]
    }
   ],
   "source": [
    "!rsync -P /content/drive/MyDrive/datasets/ML4SCI_GSOC23/Task2/Task2_large.zip ."
   ]
  },
  {
   "cell_type": "code",
   "execution_count": 6,
   "metadata": {
    "executionInfo": {
     "elapsed": 12081,
     "status": "ok",
     "timestamp": 1680393068492,
     "user": {
      "displayName": "maciek lewandowski",
      "userId": "10601486516899378503"
     },
     "user_tz": -60
    },
    "id": "a7uyKx_c2icC"
   },
   "outputs": [],
   "source": [
    "!unzip -q Task2_large.zip"
   ]
  },
  {
   "cell_type": "code",
   "execution_count": 7,
   "metadata": {
    "colab": {
     "base_uri": "https://localhost:8080/"
    },
    "executionInfo": {
     "elapsed": 17,
     "status": "ok",
     "timestamp": 1680393068493,
     "user": {
      "displayName": "maciek lewandowski",
      "userId": "10601486516899378503"
     },
     "user_tz": -60
    },
    "id": "8LWGZOov2nja",
    "outputId": "e5f2f99f-cdda-4ccf-daaa-6aaa926fec77"
   },
   "outputs": [
    {
     "name": "stdout",
     "output_type": "stream",
     "text": [
      "Gluon  Quark\n"
     ]
    }
   ],
   "source": [
    "!ls data/Task2"
   ]
  },
  {
   "cell_type": "code",
   "execution_count": 8,
   "metadata": {
    "colab": {
     "base_uri": "https://localhost:8080/"
    },
    "executionInfo": {
     "elapsed": 13,
     "status": "ok",
     "timestamp": 1680393068493,
     "user": {
      "displayName": "maciek lewandowski",
      "userId": "10601486516899378503"
     },
     "user_tz": -60
    },
    "id": "O6SvBWEb27EV",
    "outputId": "b170a22e-df7c-4aad-8870-f6dddb1f13a3"
   },
   "outputs": [
    {
     "name": "stdout",
     "output_type": "stream",
     "text": [
      "['Quark', 'Gluon']\n"
     ]
    }
   ],
   "source": [
    "np_images_filepath = os.path.join(\"data\", \"Task2\")\n",
    "class_to_label = {0 : \"Gluon\",\n",
    "                  1 : \"Quark\"}\n",
    "\n",
    "model_save_folder = os.path.join(data_filepath, \"models\", \"Task2\")\n",
    "\n",
    "os.makedirs(model_save_folder, exist_ok=True)\n",
    "print(os.listdir(np_images_filepath))"
   ]
  },
  {
   "cell_type": "markdown",
   "metadata": {
    "id": "tEbv5XvQEbrI"
   },
   "source": [
    "# EDA"
   ]
  },
  {
   "cell_type": "code",
   "execution_count": 9,
   "metadata": {
    "colab": {
     "base_uri": "https://localhost:8080/",
     "height": 1000
    },
    "executionInfo": {
     "elapsed": 3208,
     "status": "ok",
     "timestamp": 1680393071690,
     "user": {
      "displayName": "maciek lewandowski",
      "userId": "10601486516899378503"
     },
     "user_tz": -60
    },
    "id": "fJ1dqLKKEcNE",
    "outputId": "601f62cc-18e9-4770-bc03-be74659bbad7"
   },
   "outputs": [
    {
     "name": "stderr",
     "output_type": "stream",
     "text": [
      "WARNING:matplotlib.image:Clipping input data to the valid range for imshow with RGB data ([0..1] for floats or [0..255] for integers).\n",
      "WARNING:matplotlib.image:Clipping input data to the valid range for imshow with RGB data ([0..1] for floats or [0..255] for integers).\n",
      "WARNING:matplotlib.image:Clipping input data to the valid range for imshow with RGB data ([0..1] for floats or [0..255] for integers).\n",
      "WARNING:matplotlib.image:Clipping input data to the valid range for imshow with RGB data ([0..1] for floats or [0..255] for integers).\n",
      "WARNING:matplotlib.image:Clipping input data to the valid range for imshow with RGB data ([0..1] for floats or [0..255] for integers).\n",
      "WARNING:matplotlib.image:Clipping input data to the valid range for imshow with RGB data ([0..1] for floats or [0..255] for integers).\n",
      "WARNING:matplotlib.image:Clipping input data to the valid range for imshow with RGB data ([0..1] for floats or [0..255] for integers).\n",
      "WARNING:matplotlib.image:Clipping input data to the valid range for imshow with RGB data ([0..1] for floats or [0..255] for integers).\n",
      "WARNING:matplotlib.image:Clipping input data to the valid range for imshow with RGB data ([0..1] for floats or [0..255] for integers).\n",
      "WARNING:matplotlib.image:Clipping input data to the valid range for imshow with RGB data ([0..1] for floats or [0..255] for integers).\n"
     ]
    },
    {
     "data": {
      "image/png": "[encoded data removed]",
      "text/plain": [
       "<Figure size 500x5000 with 10 Axes>"
      ]
     },
     "metadata": {},
     "output_type": "display_data"
    }
   ],
   "source": [
    "def get_n_random_from_class(_class : int, n : int) -> list:\n",
    "  class_filepath = os.path.join(np_images_filepath, class_to_label[_class])\n",
    "  files = [os.path.join(class_filepath, f) for f in os.listdir(class_filepath)]\n",
    "  idxes = np.random.permutation(np.arange(0, len(files)))[:n]\n",
    "\n",
    "  return [(_class, files[i]) for i in idxes]\n",
    "\n",
    "gluons = get_n_random_from_class(0, 5)\n",
    "quarks = get_n_random_from_class(1, 5)\n",
    "\n",
    "to_viz = gluons + quarks\n",
    "np.random.shuffle(to_viz)\n",
    "\n",
    "scale = 5\n",
    "n = len(to_viz)\n",
    "plt.figure(figsize=(scale, n* scale))\n",
    "for i, datapoint in enumerate(to_viz):\n",
    "  cls = datapoint[0]\n",
    "  #print(datapoint[1])\n",
    "  img = sparse.load_npz(datapoint[1]).todense()\n",
    "  plt.subplot(n, 1, i + 1)\n",
    "  plt.imshow(img)\n",
    "  plt.title(f\"class = {cls}\")\n",
    "\n",
    "plt.show()"
   ]
  },
  {
   "cell_type": "markdown",
   "metadata": {
    "id": "zJo13ugxZJ-S"
   },
   "source": [
    "# Pytorch Dataset Creation"
   ]
  },
  {
   "cell_type": "code",
   "execution_count": 10,
   "metadata": {
    "colab": {
     "base_uri": "https://localhost:8080/"
    },
    "executionInfo": {
     "elapsed": 7,
     "status": "ok",
     "timestamp": 1680393071690,
     "user": {
      "displayName": "maciek lewandowski",
      "userId": "10601486516899378503"
     },
     "user_tz": -60
    },
    "id": "VufqRQCjcXeP",
    "outputId": "cec47975-ab61-4030-aac4-4c816701bd01"
   },
   "outputs": [
    {
     "name": "stdout",
     "output_type": "stream",
     "text": [
      "Device Used : cuda:0\n"
     ]
    }
   ],
   "source": [
    "device = torch.device(\"cuda:0\" if torch.cuda.is_available() else \"cpu\")\n",
    "print(f\"Device Used : {device}\")"
   ]
  },
  {
   "cell_type": "code",
   "execution_count": 11,
   "metadata": {
    "executionInfo": {
     "elapsed": 325,
     "status": "ok",
     "timestamp": 1680393072010,
     "user": {
      "displayName": "maciek lewandowski",
      "userId": "10601486516899378503"
     },
     "user_tz": -60
    },
    "id": "RW3KcQ6UJV9T"
   },
   "outputs": [],
   "source": [
    "from torch.utils.data import DataLoader\n",
    "\n",
    "\"\"\"\n",
    "# For small dataset \n",
    "mean = np.array([0.00782386,0.00482207,0.00304506])\n",
    "std = np.array([0.63704916,0.18686025,0.04598732])\n",
    "\"\"\"\n",
    "\n",
    "# Large dataset\n",
    "mean = np.array([0.00793777, 0.00491434, 0.00303773])\n",
    "std = np.array([1.89825445, 0.18734633, 0.04594031])\n",
    "\n",
    "def load_npy(path : str) -> torch.Tensor:\n",
    "    # load from sparse representation\n",
    "    img = sparse.load_npz(path).todense()\n",
    "    \n",
    "    # normalize the image\n",
    "    img = (img - mean) / std\n",
    "\n",
    "    # convert to pytorch representation\n",
    "    img = img.transpose(2, 0, 1)\n",
    "    \n",
    "    return torch.from_numpy( img )\n",
    "\n",
    "train_ds = DatasetFolder(np_images_filepath, extensions=[\".npz\"], loader=load_npy)\n",
    "train_dl = DataLoader(train_ds, batch_size=32, shuffle=True)"
   ]
  },
  {
   "cell_type": "code",
   "execution_count": 12,
   "metadata": {
    "colab": {
     "base_uri": "https://localhost:8080/"
    },
    "executionInfo": {
     "elapsed": 5,
     "status": "ok",
     "timestamp": 1680393072010,
     "user": {
      "displayName": "maciek lewandowski",
      "userId": "10601486516899378503"
     },
     "user_tz": -60
    },
    "id": "ZgG2rchGb36P",
    "outputId": "a9535418-5f4f-4bd9-85a6-cb23dfab30b6"
   },
   "outputs": [
    {
     "data": {
      "text/plain": [
       "torch.Size([32, 3, 125, 125])"
      ]
     },
     "execution_count": 12,
     "metadata": {},
     "output_type": "execute_result"
    }
   ],
   "source": [
    "next(iter(train_dl))[0].shape"
   ]
  },
  {
   "cell_type": "markdown",
   "metadata": {
    "id": "pi-blR_ZbdZQ"
   },
   "source": [
    "# Test Run"
   ]
  },
  {
   "cell_type": "code",
   "execution_count": 13,
   "metadata": {
    "executionInfo": {
     "elapsed": 4,
     "status": "ok",
     "timestamp": 1680393072010,
     "user": {
      "displayName": "maciek lewandowski",
      "userId": "10601486516899378503"
     },
     "user_tz": -60
    },
    "id": "0acw14tpZ3N9"
   },
   "outputs": [],
   "source": [
    "def training_epoch(model, criterion, optimizer, scheduler, dataloader, dataset_size, saveTo, num_epochs=25):\n",
    "    since = time.time()\n",
    "\n",
    "    returnDict = {\"trainingLoss\" : [], \"trainingAccuracy\" : [], \"epochs\" : [], \"trainingAUC\" : []}\n",
    "    best_acc = 0.0\n",
    "\n",
    "    for epoch in range(num_epochs):\n",
    "        print(f'Epoch {epoch}/{num_epochs - 1}')\n",
    "        print('-' * 10)\n",
    "        returnDict[\"epochs\"].append(epoch)\n",
    "\n",
    "        since2 = time.time()\n",
    "        model.train()  # Set model to training mode\n",
    "\n",
    "        running_loss = 0.0\n",
    "        running_corrects = 0\n",
    "        y = torch.Tensor()\n",
    "        pred_y = torch.Tensor()\n",
    "\n",
    "        i = 0\n",
    "        # Iterate over data.\n",
    "        for inputs, labels in tqdm(dataloader):\n",
    "            i += 1\n",
    "            inputs = inputs.to(device).float()\n",
    "            labels = labels.to(device)\n",
    "            labels = labels.long()\n",
    "\n",
    "            y = torch.cat([y, labels.cpu()])\n",
    "            # zero the parameter gradients\n",
    "            optimizer.zero_grad()\n",
    "\n",
    "            # forward\n",
    "            # track history if only in train\n",
    "            with torch.set_grad_enabled(True):\n",
    "                outputs = model(inputs)\n",
    "                pred_labels = (outputs >= 0.5).reshape(-1)\n",
    "\n",
    "                #print(outputs.shape)\n",
    "                loss = criterion(outputs, labels.reshape(-1, 1).to(torch.float32))\n",
    "\n",
    "                pred_y = torch.cat([pred_y, outputs.cpu()])\n",
    "\n",
    "                # backward + optimize only if in training phase\n",
    "                loss.backward()\n",
    "                optimizer.step()\n",
    "\n",
    "            # statistics\n",
    "            running_loss += loss.item() * inputs.size(0)\n",
    "            running_corrects += torch.sum(pred_labels == labels.data)\n",
    "            if i % 25 == 0:\n",
    "              gc.collect()\n",
    "\n",
    "        scheduler.step()\n",
    "\n",
    "        epoch_loss = running_loss / dataset_size\n",
    "        epoch_acc = running_corrects.double() / dataset_size\n",
    "        AUC_ROC = roc_auc_score(y.detach().numpy(), pred_y.detach().numpy())  \n",
    "\n",
    "        returnDict[\"trainingLoss\"].append(epoch_loss)\n",
    "        returnDict[\"trainingAccuracy\"].append(epoch_acc.cpu().item())\n",
    "        returnDict[\"trainingAUC\"].append(AUC_ROC)\n",
    "\n",
    "        print(f'Loss: {epoch_loss:.4f} Acc: {epoch_acc:.4f} AUC ROC : {AUC_ROC:.4f} Time taken : {round(time.time() - since2, 2)}')\n",
    "        print()\n",
    "\n",
    "    time_elapsed = time.time() - since\n",
    "    print(f'Training complete in {time_elapsed // 60:.0f}m {time_elapsed % 60:.0f}s')\n",
    "\n",
    "    # load best model weights\n",
    "    returnDict[\"best_model\"] = model\n",
    "    return returnDict\n"
   ]
  },
  {
   "cell_type": "code",
   "execution_count": 14,
   "metadata": {
    "executionInfo": {
     "elapsed": 279,
     "status": "ok",
     "timestamp": 1680393096092,
     "user": {
      "displayName": "maciek lewandowski",
      "userId": "10601486516899378503"
     },
     "user_tz": -60
    },
    "id": "iUkVeaXCgkjp"
   },
   "outputs": [],
   "source": [
    "def plotResults(results):\n",
    "    plt.figure(figsize=(16,12))\n",
    "    plt.subplot(3,1, 1)\n",
    "    plt.plot(results['epochs'], results['trainingLoss'], label=\"training Loss\")\n",
    "    #plt.plot(results['epochs'], results['validationLoss'], label=\"validation Loss\")\n",
    "    plt.legend()\n",
    "\n",
    "    plt.subplot(3,1, 2)\n",
    "    plt.plot(results['epochs'], results['trainingAccuracy'], label=\"training Accuracy\")\n",
    "    #plt.plot(results['epochs'], results['validationAccuracy'], label=\"validation Accuracy\")\n",
    "    plt.legend()\n",
    "  \n",
    "  \n",
    "    plt.subplot(3,1, 3)\n",
    "    plt.plot(results['epochs'], results['trainingAUC'], label=\"training ROC\")\n",
    "    #plt.plot(results['epochs'], results['validationAUC'], label=\"validation AUC ROC\")\n",
    "    #plt.plot([0, results['epochs'][-1]], [0.8, 0.8], \"--\", color='black')\n",
    "    plt.legend()\n",
    "\n",
    "    plt.show()"
   ]
  },
  {
   "cell_type": "code",
   "execution_count": 15,
   "metadata": {
    "executionInfo": {
     "elapsed": 1,
     "status": "ok",
     "timestamp": 1680393097506,
     "user": {
      "displayName": "maciek lewandowski",
      "userId": "10601486516899378503"
     },
     "user_tz": -60
    },
    "id": "gJfoeoHNgKJ-"
   },
   "outputs": [],
   "source": [
    "def doExperiment(model_ft, epochs=10, learning_rate=1e-3, plot=True, _summary=True):\n",
    "  if _summary:\n",
    "    print(summary(model_ft, input_size=(3, 125, 125), device=\"cpu\"))\n",
    "  \n",
    "  model_ft = model_ft.to(device)\n",
    "  optim = pt_optim.Adam(model_ft.parameters(), lr=learning_rate)\n",
    "  lr_sched = pt_lr_scheduler.StepLR(optim, 10, 0.9)\n",
    "\n",
    "  dats = training_epoch(model_ft, F.binary_cross_entropy, optim, lr_sched, train_dl, \n",
    "                 len(train_ds) , \n",
    "                 os.path.join(model_save_folder, \"Simple.pt\"), \n",
    "                 num_epochs=epochs)\n",
    "  \n",
    "  if plot:\n",
    "    plotResults(dats)\n",
    "  return dats\n"
   ]
  },
  {
   "cell_type": "markdown",
   "metadata": {
    "id": "ww4IjNd8gK4Z"
   },
   "source": [
    "# Basic CNN"
   ]
  },
  {
   "cell_type": "code",
   "execution_count": null,
   "metadata": {
    "colab": {
     "base_uri": "https://localhost:8080/"
    },
    "id": "qngElFJqeJih",
    "outputId": "451a90e8-5a84-4b52-bed5-1833ebf1f06a"
   },
   "outputs": [
    {
     "name": "stdout",
     "output_type": "stream",
     "text": [
      "----------------------------------------------------------------\n",
      "        Layer (type)               Output Shape         Param #\n",
      "================================================================\n",
      "            Conv2d-1         [-1, 64, 121, 121]           4,800\n",
      "       BatchNorm2d-2         [-1, 64, 121, 121]             128\n",
      "            Conv2d-3         [-1, 64, 117, 117]         102,400\n",
      "       BatchNorm2d-4         [-1, 64, 117, 117]             128\n",
      "         MaxPool2d-5           [-1, 64, 58, 58]               0\n",
      "            Conv2d-6           [-1, 64, 54, 54]         102,400\n",
      "       BatchNorm2d-7           [-1, 64, 54, 54]             128\n",
      "            Conv2d-8           [-1, 64, 50, 50]         102,400\n",
      "       BatchNorm2d-9           [-1, 64, 50, 50]             128\n",
      "        MaxPool2d-10           [-1, 64, 25, 25]               0\n",
      "           Conv2d-11           [-1, 64, 21, 21]         102,400\n",
      "      BatchNorm2d-12           [-1, 64, 21, 21]             128\n",
      "           Conv2d-13           [-1, 64, 17, 17]         102,400\n",
      "      BatchNorm2d-14           [-1, 64, 17, 17]             128\n",
      "        MaxPool2d-15             [-1, 64, 8, 8]               0\n",
      "           Linear-16                   [-1, 64]         262,144\n",
      "           Linear-17                    [-1, 1]              64\n",
      "          Sigmoid-18                    [-1, 1]               0\n",
      "================================================================\n",
      "Total params: 779,776\n",
      "Trainable params: 779,776\n",
      "Non-trainable params: 0\n",
      "----------------------------------------------------------------\n",
      "Input size (MB): 0.18\n",
      "Forward/backward pass size (MB): 35.65\n",
      "Params size (MB): 2.97\n",
      "Estimated Total Size (MB): 38.80\n",
      "----------------------------------------------------------------\n",
      "None\n",
      "Epoch 0/9\n",
      "----------\n"
     ]
    },
    {
     "name": "stderr",
     "output_type": "stream",
     "text": [
      "100%|██████████| 4354/4354 [11:26<00:00,  6.34it/s]\n"
     ]
    },
    {
     "name": "stdout",
     "output_type": "stream",
     "text": [
      "Loss: 0.5710 Acc: 0.7121 AUC ROC : 0.7753 Time taken : 686.65\n",
      "\n",
      "Epoch 1/9\n",
      "----------\n"
     ]
    },
    {
     "name": "stderr",
     "output_type": "stream",
     "text": [
      "100%|██████████| 4354/4354 [11:15<00:00,  6.44it/s]\n"
     ]
    },
    {
     "name": "stdout",
     "output_type": "stream",
     "text": [
      "Loss: 0.5589 Acc: 0.7225 AUC ROC : 0.7869 Time taken : 675.8\n",
      "\n",
      "Epoch 2/9\n",
      "----------\n"
     ]
    },
    {
     "name": "stderr",
     "output_type": "stream",
     "text": [
      "100%|██████████| 4354/4354 [11:15<00:00,  6.45it/s]\n"
     ]
    },
    {
     "name": "stdout",
     "output_type": "stream",
     "text": [
      "Loss: 0.5554 Acc: 0.7239 AUC ROC : 0.7901 Time taken : 675.4\n",
      "\n",
      "Epoch 3/9\n",
      "----------\n"
     ]
    },
    {
     "name": "stderr",
     "output_type": "stream",
     "text": [
      " 39%|███▊      | 1687/4354 [04:17<06:34,  6.76it/s]"
     ]
    }
   ],
   "source": [
    "import torch.nn as nn\n",
    "\n",
    "class startingModel(nn.Module):\n",
    "    def __init__(self):\n",
    "        super(startingModel, self).__init__()\n",
    "        self.conv1 = nn.Conv2d(3, 64, 5, bias=False)       # output becomes 26x26\n",
    "        self.conv1_bn = nn.BatchNorm2d(64)\n",
    "        self.conv2 = nn.Conv2d(64, 64, 5, bias=False)      # output becomes 24x24\n",
    "        self.conv2_bn = nn.BatchNorm2d(64)\n",
    "        self.pool1 = nn.MaxPool2d(2)\n",
    "      \n",
    "        self.conv3 = nn.Conv2d(64, 64, 5, bias=False)      # output becomes 22x22\n",
    "        self.conv3_bn = nn.BatchNorm2d(64)\n",
    "        self.conv4 = nn.Conv2d(64, 64, 5, bias=False)      # output becomes 20x20\n",
    "        self.conv4_bn = nn.BatchNorm2d(64)\n",
    "        self.pool2 = nn.MaxPool2d(2)\n",
    "\n",
    "        self.conv5 = nn.Conv2d(64, 64, 5, bias=False)      # output becomes 22x22\n",
    "        self.conv5_bn = nn.BatchNorm2d(64)\n",
    "        self.conv6 = nn.Conv2d(64, 64, 5, bias=False)      # output becomes 20x20\n",
    "        self.conv6_bn = nn.BatchNorm2d(64)\n",
    "        self.pool3 = nn.MaxPool2d(2)\n",
    "\n",
    "        self.fc1 = nn.Linear(4096, 64, bias=False)\n",
    "        self.fc2 = nn.Linear(64, 1, bias=False)\n",
    "        self.sigmoid = nn.Sigmoid()\n",
    "    \n",
    "    def forward(self, x):\n",
    "        conv1 = F.relu(self.conv1_bn(self.conv1(x)))\n",
    "        conv2 = F.relu(self.conv2_bn(self.conv2(conv1)))\n",
    "        conv2 = self.pool1(conv2)\n",
    "\n",
    "        conv3 = F.relu(self.conv3_bn(self.conv3(conv2)))\n",
    "        conv4 = F.relu(self.conv4_bn(self.conv4(conv3)))\n",
    "        conv4 = self.pool2(conv4)\n",
    "\n",
    "        conv5 = F.relu(self.conv5_bn(self.conv5(conv4)))\n",
    "        conv6 = F.relu(self.conv6_bn(self.conv6(conv5)))\n",
    "        conv6 = self.pool3(conv6)\n",
    "\n",
    "        flat1 = torch.flatten(conv6.permute(0, 2, 3, 1), 1)\n",
    "        fc1 = F.relu(self.fc1(flat1))\n",
    "        logits = self.fc2(fc1)\n",
    "        return self.sigmoid(logits)\n",
    "\n",
    "\n",
    "doExperiment(startingModel())"
   ]
  },
  {
   "cell_type": "markdown",
   "metadata": {
    "id": "ejOTpEmCfpds"
   },
   "source": [
    "# Resnet"
   ]
  },
  {
   "cell_type": "markdown",
   "metadata": {
    "id": "0QyIUnEpcytk"
   },
   "source": [
    "## Architecture"
   ]
  },
  {
   "cell_type": "code",
   "execution_count": null,
   "metadata": {
    "id": "a0y13my9et7r"
   },
   "outputs": [],
   "source": [
    "from typing import Any, Callable, List, Optional, Type, Union\n",
    "from torch import Tensor\n",
    "\n",
    "\n",
    "def conv3x3(in_planes: int, out_planes: int, stride: int = 1, groups: int = 1, dilation: int = 1) -> nn.Conv2d:\n",
    "    \"\"\"3x3 convolution with padding\"\"\"\n",
    "    return nn.Conv2d(\n",
    "        in_planes,\n",
    "        out_planes,\n",
    "        kernel_size=3,\n",
    "        stride=stride,\n",
    "        padding=dilation,\n",
    "        groups=groups,\n",
    "        bias=False,\n",
    "        dilation=dilation,\n",
    "    )\n",
    "\n",
    "\n",
    "def conv1x1(in_planes: int, out_planes: int, stride: int = 1) -> nn.Conv2d:\n",
    "    \"\"\"1x1 convolution\"\"\"\n",
    "    return nn.Conv2d(in_planes, out_planes, kernel_size=1, stride=stride, bias=False)\n",
    "\n",
    "\n",
    "class BasicBlock(nn.Module):\n",
    "    expansion: int = 1\n",
    "\n",
    "    def __init__(\n",
    "        self,\n",
    "        inplanes: int,\n",
    "        planes: int,\n",
    "        stride: int = 1,\n",
    "        downsample: Optional[nn.Module] = None,\n",
    "        groups: int = 1,\n",
    "        base_width: int = 64,\n",
    "        dilation: int = 1,\n",
    "        norm_layer: Optional[Callable[..., nn.Module]] = None,\n",
    "    ) -> None:\n",
    "        super().__init__()\n",
    "        if norm_layer is None:\n",
    "            norm_layer = nn.BatchNorm2d\n",
    "        if groups != 1 or base_width != 64:\n",
    "            raise ValueError(\"BasicBlock only supports groups=1 and base_width=64\")\n",
    "        if dilation > 1:\n",
    "            raise NotImplementedError(\"Dilation > 1 not supported in BasicBlock\")\n",
    "        # Both self.conv1 and self.downsample layers downsample the input when stride != 1\n",
    "        self.conv1 = conv3x3(inplanes, planes, stride)\n",
    "        self.bn1 = norm_layer(planes)\n",
    "        self.relu = nn.ReLU(inplace=True)\n",
    "        self.conv2 = conv3x3(planes, planes)\n",
    "        self.bn2 = norm_layer(planes)\n",
    "        self.downsample = downsample\n",
    "        self.stride = stride\n",
    "\n",
    "    def forward(self, x: Tensor) -> Tensor:\n",
    "        identity = x\n",
    "\n",
    "        out = self.conv1(x)\n",
    "        out = self.bn1(out)\n",
    "        out = self.relu(out)\n",
    "\n",
    "        out = self.conv2(out)\n",
    "        out = self.bn2(out)\n",
    "\n",
    "        if self.downsample is not None:\n",
    "            identity = self.downsample(x)\n",
    "\n",
    "        out += identity\n",
    "        out = self.relu(out)\n",
    "\n",
    "        return out\n",
    "\n",
    "\n",
    "class Bottleneck(nn.Module):\n",
    "    # Bottleneck in torchvision places the stride for downsampling at 3x3 convolution(self.conv2)\n",
    "    # while original implementation places the stride at the first 1x1 convolution(self.conv1)\n",
    "    # according to \"Deep residual learning for image recognition\" https://arxiv.org/abs/1512.03385.\n",
    "    # This variant is also known as ResNet V1.5 and improves accuracy according to\n",
    "    # https://ngc.nvidia.com/catalog/model-scripts/nvidia:resnet_50_v1_5_for_pytorch.\n",
    "\n",
    "    expansion: int = 4\n",
    "\n",
    "    def __init__(\n",
    "        self,\n",
    "        inplanes: int,\n",
    "        planes: int,\n",
    "        stride: int = 1,\n",
    "        downsample: Optional[nn.Module] = None,\n",
    "        groups: int = 1,\n",
    "        base_width: int = 64,\n",
    "        dilation: int = 1,\n",
    "        norm_layer: Optional[Callable[..., nn.Module]] = None,\n",
    "    ) -> None:\n",
    "        super().__init__()\n",
    "        if norm_layer is None:\n",
    "            norm_layer = nn.BatchNorm2d\n",
    "        width = int(planes * (base_width / 64.0)) * groups\n",
    "        # Both self.conv2 and self.downsample layers downsample the input when stride != 1\n",
    "        self.conv1 = conv1x1(inplanes, width)\n",
    "        self.bn1 = norm_layer(width)\n",
    "        self.conv2 = conv3x3(width, width, stride, groups, dilation)\n",
    "        self.bn2 = norm_layer(width)\n",
    "        self.conv3 = conv1x1(width, planes * self.expansion)\n",
    "        self.bn3 = norm_layer(planes * self.expansion)\n",
    "        self.relu = nn.ReLU(inplace=True)\n",
    "        self.downsample = downsample\n",
    "        self.stride = stride\n",
    "\n",
    "    def forward(self, x: Tensor) -> Tensor:\n",
    "        identity = x\n",
    "\n",
    "        out = self.conv1(x)\n",
    "        out = self.bn1(out)\n",
    "        out = self.relu(out)\n",
    "\n",
    "        out = self.conv2(out)\n",
    "        out = self.bn2(out)\n",
    "        out = self.relu(out)\n",
    "\n",
    "        out = self.conv3(out)\n",
    "        out = self.bn3(out)\n",
    "\n",
    "        if self.downsample is not None:\n",
    "            identity = self.downsample(x)\n",
    "\n",
    "        out += identity\n",
    "        out = self.relu(out)\n",
    "\n",
    "        return \n",
    "\n",
    "class ResNet(nn.Module):\n",
    "    def __init__(\n",
    "        self,\n",
    "        block: Type[Union[BasicBlock, Bottleneck]],\n",
    "        layers: List[int],\n",
    "        zero_init_residual: bool = False,\n",
    "        groups: int = 1,\n",
    "        width_per_group: int = 64,\n",
    "        replace_stride_with_dilation: Optional[List[bool]] = None,\n",
    "        norm_layer: Optional[Callable[..., nn.Module]] = None,\n",
    "    ) -> None:\n",
    "        super().__init__()\n",
    "        if norm_layer is None:\n",
    "            norm_layer = nn.BatchNorm2d\n",
    "        self._norm_layer = norm_layer\n",
    "\n",
    "        self.inplanes = 64\n",
    "        self.dilation = 1\n",
    "        if replace_stride_with_dilation is None:\n",
    "            # each element in the tuple indicates if we should replace\n",
    "            # the 2x2 stride with a dilated convolution instead\n",
    "            replace_stride_with_dilation = [False, False, False]\n",
    "        if len(replace_stride_with_dilation) != 3:\n",
    "            raise ValueError(\n",
    "                \"replace_stride_with_dilation should be None \"\n",
    "                f\"or a 3-element tuple, got {replace_stride_with_dilation}\"\n",
    "            )\n",
    "        self.groups = groups\n",
    "        self.base_width = width_per_group\n",
    "        self.conv1 = nn.Conv2d(3, self.inplanes, kernel_size=7, stride=2, padding=3, bias=False)\n",
    "        self.bn1 = norm_layer(self.inplanes)\n",
    "        self.relu = nn.ReLU(inplace=True)\n",
    "        self.maxpool = nn.MaxPool2d(kernel_size=3, stride=2, padding=1)\n",
    "        self.layer1 = self._make_layer(block, 64, layers[0])\n",
    "        self.layer2 = self._make_layer(block, 128, layers[1], stride=2, dilate=replace_stride_with_dilation[0])\n",
    "        self.layer3 = self._make_layer(block, 256, layers[2], stride=2, dilate=replace_stride_with_dilation[1])\n",
    "        self.layer4 = self._make_layer(block, 512, layers[3], stride=2, dilate=replace_stride_with_dilation[2])\n",
    "        self.avgpool = nn.AdaptiveAvgPool2d((1, 1))\n",
    "        self.logits = nn.Linear(512 * block.expansion, 1)\n",
    "        self.activ_head = nn.Sigmoid()\n",
    "\n",
    "        for m in self.modules():\n",
    "            if isinstance(m, nn.Conv2d):\n",
    "                nn.init.kaiming_normal_(m.weight, mode=\"fan_out\", nonlinearity=\"relu\")\n",
    "            elif isinstance(m, (nn.BatchNorm2d, nn.GroupNorm)):\n",
    "                nn.init.constant_(m.weight, 1)\n",
    "                nn.init.constant_(m.bias, 0)\n",
    "\n",
    "        # Zero-initialize the last BN in each residual branch,\n",
    "        # so that the residual branch starts with zeros, and each residual block behaves like an identity.\n",
    "        # This improves the model by 0.2~0.3% according to https://arxiv.org/abs/1706.02677\n",
    "        if zero_init_residual:\n",
    "            for m in self.modules():\n",
    "                if isinstance(m, Bottleneck) and m.bn3.weight is not None:\n",
    "                    nn.init.constant_(m.bn3.weight, 0)  # type: ignore[arg-type]\n",
    "                elif isinstance(m, BasicBlock) and m.bn2.weight is not None:\n",
    "                    nn.init.constant_(m.bn2.weight, 0)  # type: ignore[arg-type]\n",
    "\n",
    "    def _make_layer(\n",
    "        self,\n",
    "        block: Type[Union[BasicBlock, Bottleneck]],\n",
    "        planes: int,\n",
    "        blocks: int,\n",
    "        stride: int = 1,\n",
    "        dilate: bool = False,\n",
    "    ) -> nn.Sequential:\n",
    "        norm_layer = self._norm_layer\n",
    "        downsample = None\n",
    "        previous_dilation = self.dilation\n",
    "        if dilate:\n",
    "            self.dilation *= stride\n",
    "            stride = 1\n",
    "        if stride != 1 or self.inplanes != planes * block.expansion:\n",
    "            downsample = nn.Sequential(\n",
    "                conv1x1(self.inplanes, planes * block.expansion, stride),\n",
    "                norm_layer(planes * block.expansion),\n",
    "            )\n",
    "\n",
    "        layers = []\n",
    "        layers.append(\n",
    "            block(\n",
    "                self.inplanes, planes, stride, downsample, self.groups, self.base_width, previous_dilation, norm_layer\n",
    "            )\n",
    "        )\n",
    "        self.inplanes = planes * block.expansion\n",
    "        for _ in range(1, blocks):\n",
    "            layers.append(\n",
    "                block(\n",
    "                    self.inplanes,\n",
    "                    planes,\n",
    "                    groups=self.groups,\n",
    "                    base_width=self.base_width,\n",
    "                    dilation=self.dilation,\n",
    "                    norm_layer=norm_layer,\n",
    "                )\n",
    "            )\n",
    "\n",
    "        return nn.Sequential(*layers)\n",
    "\n",
    "    def _forward_impl(self, x: Tensor) -> Tensor:\n",
    "        # See note [TorchScript super()]\n",
    "        x = self.conv1(x)\n",
    "        x = self.bn1(x)\n",
    "        x = self.relu(x)\n",
    "        x = self.maxpool(x)\n",
    "\n",
    "        x = self.layer1(x)\n",
    "        x = self.layer2(x)\n",
    "        x = self.layer3(x)\n",
    "        x = self.layer4(x)\n",
    "\n",
    "        x = self.avgpool(x)\n",
    "        x = torch.flatten(x, 1)\n",
    "        x = self.logits(x)\n",
    "\n",
    "        return x\n",
    "\n",
    "    def forward(self, x: Tensor) -> Tensor:\n",
    "        return self.activ_head(self._forward_impl(x))"
   ]
  },
  {
   "cell_type": "markdown",
   "metadata": {
    "id": "MtTb3yAQcuSt"
   },
   "source": [
    "## Experiments"
   ]
  },
  {
   "cell_type": "code",
   "execution_count": null,
   "metadata": {
    "id": "_enpLwUFcv-7"
   },
   "outputs": [],
   "source": [
    "doExperiment(ResNet(BasicBlock, [2, 2, 2, 2]))"
   ]
  },
  {
   "cell_type": "code",
   "execution_count": null,
   "metadata": {
    "colab": {
     "base_uri": "https://localhost:8080/",
     "height": 1000
    },
    "executionInfo": {
     "elapsed": 5145877,
     "status": "ok",
     "timestamp": 1678321488445,
     "user": {
      "displayName": "maciek lewandowski",
      "userId": "10601486516899378503"
     },
     "user_tz": 0
    },
    "id": "exKcbt9hcnkK",
    "outputId": "e0209228-3984-4611-fe05-fdef2f50ddc7"
   },
   "outputs": [
    {
     "name": "stdout",
     "output_type": "stream",
     "text": [
      "----------------------------------------------------------------\n",
      "        Layer (type)               Output Shape         Param #\n",
      "================================================================\n",
      "            Conv2d-1           [-1, 64, 63, 63]           9,408\n",
      "       BatchNorm2d-2           [-1, 64, 63, 63]             128\n",
      "              ReLU-3           [-1, 64, 63, 63]               0\n",
      "         MaxPool2d-4           [-1, 64, 32, 32]               0\n",
      "            Conv2d-5           [-1, 64, 32, 32]          36,864\n",
      "       BatchNorm2d-6           [-1, 64, 32, 32]             128\n",
      "              ReLU-7           [-1, 64, 32, 32]               0\n",
      "            Conv2d-8           [-1, 64, 32, 32]          36,864\n",
      "       BatchNorm2d-9           [-1, 64, 32, 32]             128\n",
      "             ReLU-10           [-1, 64, 32, 32]               0\n",
      "       BasicBlock-11           [-1, 64, 32, 32]               0\n",
      "           Conv2d-12           [-1, 64, 32, 32]          36,864\n",
      "      BatchNorm2d-13           [-1, 64, 32, 32]             128\n",
      "             ReLU-14           [-1, 64, 32, 32]               0\n",
      "           Conv2d-15           [-1, 64, 32, 32]          36,864\n",
      "      BatchNorm2d-16           [-1, 64, 32, 32]             128\n",
      "             ReLU-17           [-1, 64, 32, 32]               0\n",
      "       BasicBlock-18           [-1, 64, 32, 32]               0\n",
      "           Conv2d-19           [-1, 64, 32, 32]          36,864\n",
      "      BatchNorm2d-20           [-1, 64, 32, 32]             128\n",
      "             ReLU-21           [-1, 64, 32, 32]               0\n",
      "           Conv2d-22           [-1, 64, 32, 32]          36,864\n",
      "      BatchNorm2d-23           [-1, 64, 32, 32]             128\n",
      "             ReLU-24           [-1, 64, 32, 32]               0\n",
      "       BasicBlock-25           [-1, 64, 32, 32]               0\n",
      "           Conv2d-26          [-1, 128, 16, 16]          73,728\n",
      "      BatchNorm2d-27          [-1, 128, 16, 16]             256\n",
      "             ReLU-28          [-1, 128, 16, 16]               0\n",
      "           Conv2d-29          [-1, 128, 16, 16]         147,456\n",
      "      BatchNorm2d-30          [-1, 128, 16, 16]             256\n",
      "           Conv2d-31          [-1, 128, 16, 16]           8,192\n",
      "      BatchNorm2d-32          [-1, 128, 16, 16]             256\n",
      "             ReLU-33          [-1, 128, 16, 16]               0\n",
      "       BasicBlock-34          [-1, 128, 16, 16]               0\n",
      "           Conv2d-35          [-1, 128, 16, 16]         147,456\n",
      "      BatchNorm2d-36          [-1, 128, 16, 16]             256\n",
      "             ReLU-37          [-1, 128, 16, 16]               0\n",
      "           Conv2d-38          [-1, 128, 16, 16]         147,456\n",
      "      BatchNorm2d-39          [-1, 128, 16, 16]             256\n",
      "             ReLU-40          [-1, 128, 16, 16]               0\n",
      "       BasicBlock-41          [-1, 128, 16, 16]               0\n",
      "           Conv2d-42          [-1, 128, 16, 16]         147,456\n",
      "      BatchNorm2d-43          [-1, 128, 16, 16]             256\n",
      "             ReLU-44          [-1, 128, 16, 16]               0\n",
      "           Conv2d-45          [-1, 128, 16, 16]         147,456\n",
      "      BatchNorm2d-46          [-1, 128, 16, 16]             256\n",
      "             ReLU-47          [-1, 128, 16, 16]               0\n",
      "       BasicBlock-48          [-1, 128, 16, 16]               0\n",
      "           Conv2d-49            [-1, 256, 8, 8]         294,912\n",
      "      BatchNorm2d-50            [-1, 256, 8, 8]             512\n",
      "             ReLU-51            [-1, 256, 8, 8]               0\n",
      "           Conv2d-52            [-1, 256, 8, 8]         589,824\n",
      "      BatchNorm2d-53            [-1, 256, 8, 8]             512\n",
      "           Conv2d-54            [-1, 256, 8, 8]          32,768\n",
      "      BatchNorm2d-55            [-1, 256, 8, 8]             512\n",
      "             ReLU-56            [-1, 256, 8, 8]               0\n",
      "       BasicBlock-57            [-1, 256, 8, 8]               0\n",
      "           Conv2d-58            [-1, 256, 8, 8]         589,824\n",
      "      BatchNorm2d-59            [-1, 256, 8, 8]             512\n",
      "             ReLU-60            [-1, 256, 8, 8]               0\n",
      "           Conv2d-61            [-1, 256, 8, 8]         589,824\n",
      "      BatchNorm2d-62            [-1, 256, 8, 8]             512\n",
      "             ReLU-63            [-1, 256, 8, 8]               0\n",
      "       BasicBlock-64            [-1, 256, 8, 8]               0\n",
      "           Conv2d-65            [-1, 256, 8, 8]         589,824\n",
      "      BatchNorm2d-66            [-1, 256, 8, 8]             512\n",
      "             ReLU-67            [-1, 256, 8, 8]               0\n",
      "           Conv2d-68            [-1, 256, 8, 8]         589,824\n",
      "      BatchNorm2d-69            [-1, 256, 8, 8]             512\n",
      "             ReLU-70            [-1, 256, 8, 8]               0\n",
      "       BasicBlock-71            [-1, 256, 8, 8]               0\n",
      "           Conv2d-72            [-1, 512, 4, 4]       1,179,648\n",
      "      BatchNorm2d-73            [-1, 512, 4, 4]           1,024\n",
      "             ReLU-74            [-1, 512, 4, 4]               0\n",
      "           Conv2d-75            [-1, 512, 4, 4]       2,359,296\n",
      "      BatchNorm2d-76            [-1, 512, 4, 4]           1,024\n",
      "           Conv2d-77            [-1, 512, 4, 4]         131,072\n",
      "      BatchNorm2d-78            [-1, 512, 4, 4]           1,024\n",
      "             ReLU-79            [-1, 512, 4, 4]               0\n",
      "       BasicBlock-80            [-1, 512, 4, 4]               0\n",
      "           Conv2d-81            [-1, 512, 4, 4]       2,359,296\n",
      "      BatchNorm2d-82            [-1, 512, 4, 4]           1,024\n",
      "             ReLU-83            [-1, 512, 4, 4]               0\n",
      "           Conv2d-84            [-1, 512, 4, 4]       2,359,296\n",
      "      BatchNorm2d-85            [-1, 512, 4, 4]           1,024\n",
      "             ReLU-86            [-1, 512, 4, 4]               0\n",
      "       BasicBlock-87            [-1, 512, 4, 4]               0\n",
      "           Conv2d-88            [-1, 512, 4, 4]       2,359,296\n",
      "      BatchNorm2d-89            [-1, 512, 4, 4]           1,024\n",
      "             ReLU-90            [-1, 512, 4, 4]               0\n",
      "           Conv2d-91            [-1, 512, 4, 4]       2,359,296\n",
      "      BatchNorm2d-92            [-1, 512, 4, 4]           1,024\n",
      "             ReLU-93            [-1, 512, 4, 4]               0\n",
      "       BasicBlock-94            [-1, 512, 4, 4]               0\n",
      "AdaptiveAvgPool2d-95            [-1, 512, 1, 1]               0\n",
      "           Linear-96                    [-1, 1]             513\n",
      "          Sigmoid-97                    [-1, 1]               0\n",
      "================================================================\n",
      "Total params: 17,447,745\n",
      "Trainable params: 17,447,745\n",
      "Non-trainable params: 0\n",
      "----------------------------------------------------------------\n",
      "Input size (MB): 0.18\n",
      "Forward/backward pass size (MB): 26.88\n",
      "Params size (MB): 66.56\n",
      "Estimated Total Size (MB): 93.62\n",
      "----------------------------------------------------------------\n",
      "None\n",
      "Epoch 0/9\n",
      "----------\n"
     ]
    },
    {
     "name": "stderr",
     "output_type": "stream",
     "text": [
      "100%|██████████| 4354/4354 [08:48<00:00,  8.23it/s]\n"
     ]
    },
    {
     "name": "stdout",
     "output_type": "stream",
     "text": [
      "Loss: 0.5805 Acc: 0.7077 AUC ROC : 0.7682 Time taken : 528.8\n",
      "\n",
      "Epoch 1/9\n",
      "----------\n"
     ]
    },
    {
     "name": "stderr",
     "output_type": "stream",
     "text": [
      "100%|██████████| 4354/4354 [08:33<00:00,  8.48it/s]\n"
     ]
    },
    {
     "name": "stdout",
     "output_type": "stream",
     "text": [
      "Loss: 0.5616 Acc: 0.7200 AUC ROC : 0.7845 Time taken : 514.01\n",
      "\n",
      "Epoch 2/9\n",
      "----------\n"
     ]
    },
    {
     "name": "stderr",
     "output_type": "stream",
     "text": [
      "100%|██████████| 4354/4354 [08:33<00:00,  8.47it/s]\n"
     ]
    },
    {
     "name": "stdout",
     "output_type": "stream",
     "text": [
      "Loss: 0.5561 Acc: 0.7242 AUC ROC : 0.7898 Time taken : 514.33\n",
      "\n",
      "Epoch 3/9\n",
      "----------\n"
     ]
    },
    {
     "name": "stderr",
     "output_type": "stream",
     "text": [
      "100%|██████████| 4354/4354 [08:33<00:00,  8.48it/s]\n"
     ]
    },
    {
     "name": "stdout",
     "output_type": "stream",
     "text": [
      "Loss: 0.5515 Acc: 0.7284 AUC ROC : 0.7938 Time taken : 513.86\n",
      "\n",
      "Epoch 4/9\n",
      "----------\n"
     ]
    },
    {
     "name": "stderr",
     "output_type": "stream",
     "text": [
      "100%|██████████| 4354/4354 [08:32<00:00,  8.50it/s]\n"
     ]
    },
    {
     "name": "stdout",
     "output_type": "stream",
     "text": [
      "Loss: 0.5480 Acc: 0.7300 AUC ROC : 0.7971 Time taken : 512.47\n",
      "\n",
      "Epoch 5/9\n",
      "----------\n"
     ]
    },
    {
     "name": "stderr",
     "output_type": "stream",
     "text": [
      "100%|██████████| 4354/4354 [08:32<00:00,  8.50it/s]\n"
     ]
    },
    {
     "name": "stdout",
     "output_type": "stream",
     "text": [
      "Loss: 0.5448 Acc: 0.7335 AUC ROC : 0.7998 Time taken : 512.37\n",
      "\n",
      "Epoch 6/9\n",
      "----------\n"
     ]
    },
    {
     "name": "stderr",
     "output_type": "stream",
     "text": [
      "100%|██████████| 4354/4354 [08:31<00:00,  8.51it/s]\n"
     ]
    },
    {
     "name": "stdout",
     "output_type": "stream",
     "text": [
      "Loss: 0.5423 Acc: 0.7348 AUC ROC : 0.8022 Time taken : 512.13\n",
      "\n",
      "Epoch 7/9\n",
      "----------\n"
     ]
    },
    {
     "name": "stderr",
     "output_type": "stream",
     "text": [
      "100%|██████████| 4354/4354 [08:32<00:00,  8.50it/s]\n"
     ]
    },
    {
     "name": "stdout",
     "output_type": "stream",
     "text": [
      "Loss: 0.5391 Acc: 0.7370 AUC ROC : 0.8049 Time taken : 512.53\n",
      "\n",
      "Epoch 8/9\n",
      "----------\n"
     ]
    },
    {
     "name": "stderr",
     "output_type": "stream",
     "text": [
      "100%|██████████| 4354/4354 [08:31<00:00,  8.51it/s]\n"
     ]
    },
    {
     "name": "stdout",
     "output_type": "stream",
     "text": [
      "Loss: 0.5362 Acc: 0.7384 AUC ROC : 0.8075 Time taken : 512.01\n",
      "\n",
      "Epoch 9/9\n",
      "----------\n"
     ]
    },
    {
     "name": "stderr",
     "output_type": "stream",
     "text": [
      "100%|██████████| 4354/4354 [08:31<00:00,  8.51it/s]\n"
     ]
    },
    {
     "name": "stdout",
     "output_type": "stream",
     "text": [
      "Loss: 0.5328 Acc: 0.7422 AUC ROC : 0.8104 Time taken : 512.07\n",
      "\n",
      "Training complete in 85m 45s\n"
     ]
    },
    {
     "data": {
      "image/png": "[encoded data removed]",
      "text/plain": [
       "<Figure size 1152x864 with 3 Axes>"
      ]
     },
     "metadata": {
      "needs_background": "light"
     },
     "output_type": "display_data"
    },
    {
     "data": {
      "text/plain": [
       "{'trainingLoss': [0.5805357251020384,\n",
       "  0.5616318690789319,\n",
       "  0.5560785350607123,\n",
       "  0.55145961207782,\n",
       "  0.5480393777651388,\n",
       "  0.5448257686172663,\n",
       "  0.5422900571725806,\n",
       "  0.5391251381534843,\n",
       "  0.5361986446791882,\n",
       "  0.5328147655128774],\n",
       " 'trainingAccuracy': [0.7077441029101403,\n",
       "  0.7199618106901354,\n",
       "  0.7242329835039409,\n",
       "  0.7283964796921885,\n",
       "  0.7300044506338564,\n",
       "  0.7334788164185319,\n",
       "  0.734792471250341,\n",
       "  0.7370034312951345,\n",
       "  0.7383601567771668,\n",
       "  0.7421503739968128],\n",
       " 'epochs': [0, 1, 2, 3, 4, 5, 6, 7, 8, 9],\n",
       " 'trainingAUC': [0.7682292630369391,\n",
       "  0.7845396399129527,\n",
       "  0.7897735672554717,\n",
       "  0.7938428021449466,\n",
       "  0.7971436525244038,\n",
       "  0.7997973373161696,\n",
       "  0.8021896958294509,\n",
       "  0.8048617578771979,\n",
       "  0.8075342481394552,\n",
       "  0.8104394284145393],\n",
       " 'best_model': ResNet(\n",
       "   (conv1): Conv2d(3, 64, kernel_size=(7, 7), stride=(2, 2), padding=(3, 3), bias=False)\n",
       "   (bn1): BatchNorm2d(64, eps=1e-05, momentum=0.1, affine=True, track_running_stats=True)\n",
       "   (relu): ReLU(inplace=True)\n",
       "   (maxpool): MaxPool2d(kernel_size=3, stride=2, padding=1, dilation=1, ceil_mode=False)\n",
       "   (layer1): Sequential(\n",
       "     (0): BasicBlock(\n",
       "       (conv1): Conv2d(64, 64, kernel_size=(3, 3), stride=(1, 1), padding=(1, 1), bias=False)\n",
       "       (bn1): BatchNorm2d(64, eps=1e-05, momentum=0.1, affine=True, track_running_stats=True)\n",
       "       (relu): ReLU(inplace=True)\n",
       "       (conv2): Conv2d(64, 64, kernel_size=(3, 3), stride=(1, 1), padding=(1, 1), bias=False)\n",
       "       (bn2): BatchNorm2d(64, eps=1e-05, momentum=0.1, affine=True, track_running_stats=True)\n",
       "     )\n",
       "     (1): BasicBlock(\n",
       "       (conv1): Conv2d(64, 64, kernel_size=(3, 3), stride=(1, 1), padding=(1, 1), bias=False)\n",
       "       (bn1): BatchNorm2d(64, eps=1e-05, momentum=0.1, affine=True, track_running_stats=True)\n",
       "       (relu): ReLU(inplace=True)\n",
       "       (conv2): Conv2d(64, 64, kernel_size=(3, 3), stride=(1, 1), padding=(1, 1), bias=False)\n",
       "       (bn2): BatchNorm2d(64, eps=1e-05, momentum=0.1, affine=True, track_running_stats=True)\n",
       "     )\n",
       "     (2): BasicBlock(\n",
       "       (conv1): Conv2d(64, 64, kernel_size=(3, 3), stride=(1, 1), padding=(1, 1), bias=False)\n",
       "       (bn1): BatchNorm2d(64, eps=1e-05, momentum=0.1, affine=True, track_running_stats=True)\n",
       "       (relu): ReLU(inplace=True)\n",
       "       (conv2): Conv2d(64, 64, kernel_size=(3, 3), stride=(1, 1), padding=(1, 1), bias=False)\n",
       "       (bn2): BatchNorm2d(64, eps=1e-05, momentum=0.1, affine=True, track_running_stats=True)\n",
       "     )\n",
       "   )\n",
       "   (layer2): Sequential(\n",
       "     (0): BasicBlock(\n",
       "       (conv1): Conv2d(64, 128, kernel_size=(3, 3), stride=(2, 2), padding=(1, 1), bias=False)\n",
       "       (bn1): BatchNorm2d(128, eps=1e-05, momentum=0.1, affine=True, track_running_stats=True)\n",
       "       (relu): ReLU(inplace=True)\n",
       "       (conv2): Conv2d(128, 128, kernel_size=(3, 3), stride=(1, 1), padding=(1, 1), bias=False)\n",
       "       (bn2): BatchNorm2d(128, eps=1e-05, momentum=0.1, affine=True, track_running_stats=True)\n",
       "       (downsample): Sequential(\n",
       "         (0): Conv2d(64, 128, kernel_size=(1, 1), stride=(2, 2), bias=False)\n",
       "         (1): BatchNorm2d(128, eps=1e-05, momentum=0.1, affine=True, track_running_stats=True)\n",
       "       )\n",
       "     )\n",
       "     (1): BasicBlock(\n",
       "       (conv1): Conv2d(128, 128, kernel_size=(3, 3), stride=(1, 1), padding=(1, 1), bias=False)\n",
       "       (bn1): BatchNorm2d(128, eps=1e-05, momentum=0.1, affine=True, track_running_stats=True)\n",
       "       (relu): ReLU(inplace=True)\n",
       "       (conv2): Conv2d(128, 128, kernel_size=(3, 3), stride=(1, 1), padding=(1, 1), bias=False)\n",
       "       (bn2): BatchNorm2d(128, eps=1e-05, momentum=0.1, affine=True, track_running_stats=True)\n",
       "     )\n",
       "     (2): BasicBlock(\n",
       "       (conv1): Conv2d(128, 128, kernel_size=(3, 3), stride=(1, 1), padding=(1, 1), bias=False)\n",
       "       (bn1): BatchNorm2d(128, eps=1e-05, momentum=0.1, affine=True, track_running_stats=True)\n",
       "       (relu): ReLU(inplace=True)\n",
       "       (conv2): Conv2d(128, 128, kernel_size=(3, 3), stride=(1, 1), padding=(1, 1), bias=False)\n",
       "       (bn2): BatchNorm2d(128, eps=1e-05, momentum=0.1, affine=True, track_running_stats=True)\n",
       "     )\n",
       "   )\n",
       "   (layer3): Sequential(\n",
       "     (0): BasicBlock(\n",
       "       (conv1): Conv2d(128, 256, kernel_size=(3, 3), stride=(2, 2), padding=(1, 1), bias=False)\n",
       "       (bn1): BatchNorm2d(256, eps=1e-05, momentum=0.1, affine=True, track_running_stats=True)\n",
       "       (relu): ReLU(inplace=True)\n",
       "       (conv2): Conv2d(256, 256, kernel_size=(3, 3), stride=(1, 1), padding=(1, 1), bias=False)\n",
       "       (bn2): BatchNorm2d(256, eps=1e-05, momentum=0.1, affine=True, track_running_stats=True)\n",
       "       (downsample): Sequential(\n",
       "         (0): Conv2d(128, 256, kernel_size=(1, 1), stride=(2, 2), bias=False)\n",
       "         (1): BatchNorm2d(256, eps=1e-05, momentum=0.1, affine=True, track_running_stats=True)\n",
       "       )\n",
       "     )\n",
       "     (1): BasicBlock(\n",
       "       (conv1): Conv2d(256, 256, kernel_size=(3, 3), stride=(1, 1), padding=(1, 1), bias=False)\n",
       "       (bn1): BatchNorm2d(256, eps=1e-05, momentum=0.1, affine=True, track_running_stats=True)\n",
       "       (relu): ReLU(inplace=True)\n",
       "       (conv2): Conv2d(256, 256, kernel_size=(3, 3), stride=(1, 1), padding=(1, 1), bias=False)\n",
       "       (bn2): BatchNorm2d(256, eps=1e-05, momentum=0.1, affine=True, track_running_stats=True)\n",
       "     )\n",
       "     (2): BasicBlock(\n",
       "       (conv1): Conv2d(256, 256, kernel_size=(3, 3), stride=(1, 1), padding=(1, 1), bias=False)\n",
       "       (bn1): BatchNorm2d(256, eps=1e-05, momentum=0.1, affine=True, track_running_stats=True)\n",
       "       (relu): ReLU(inplace=True)\n",
       "       (conv2): Conv2d(256, 256, kernel_size=(3, 3), stride=(1, 1), padding=(1, 1), bias=False)\n",
       "       (bn2): BatchNorm2d(256, eps=1e-05, momentum=0.1, affine=True, track_running_stats=True)\n",
       "     )\n",
       "   )\n",
       "   (layer4): Sequential(\n",
       "     (0): BasicBlock(\n",
       "       (conv1): Conv2d(256, 512, kernel_size=(3, 3), stride=(2, 2), padding=(1, 1), bias=False)\n",
       "       (bn1): BatchNorm2d(512, eps=1e-05, momentum=0.1, affine=True, track_running_stats=True)\n",
       "       (relu): ReLU(inplace=True)\n",
       "       (conv2): Conv2d(512, 512, kernel_size=(3, 3), stride=(1, 1), padding=(1, 1), bias=False)\n",
       "       (bn2): BatchNorm2d(512, eps=1e-05, momentum=0.1, affine=True, track_running_stats=True)\n",
       "       (downsample): Sequential(\n",
       "         (0): Conv2d(256, 512, kernel_size=(1, 1), stride=(2, 2), bias=False)\n",
       "         (1): BatchNorm2d(512, eps=1e-05, momentum=0.1, affine=True, track_running_stats=True)\n",
       "       )\n",
       "     )\n",
       "     (1): BasicBlock(\n",
       "       (conv1): Conv2d(512, 512, kernel_size=(3, 3), stride=(1, 1), padding=(1, 1), bias=False)\n",
       "       (bn1): BatchNorm2d(512, eps=1e-05, momentum=0.1, affine=True, track_running_stats=True)\n",
       "       (relu): ReLU(inplace=True)\n",
       "       (conv2): Conv2d(512, 512, kernel_size=(3, 3), stride=(1, 1), padding=(1, 1), bias=False)\n",
       "       (bn2): BatchNorm2d(512, eps=1e-05, momentum=0.1, affine=True, track_running_stats=True)\n",
       "     )\n",
       "     (2): BasicBlock(\n",
       "       (conv1): Conv2d(512, 512, kernel_size=(3, 3), stride=(1, 1), padding=(1, 1), bias=False)\n",
       "       (bn1): BatchNorm2d(512, eps=1e-05, momentum=0.1, affine=True, track_running_stats=True)\n",
       "       (relu): ReLU(inplace=True)\n",
       "       (conv2): Conv2d(512, 512, kernel_size=(3, 3), stride=(1, 1), padding=(1, 1), bias=False)\n",
       "       (bn2): BatchNorm2d(512, eps=1e-05, momentum=0.1, affine=True, track_running_stats=True)\n",
       "     )\n",
       "   )\n",
       "   (avgpool): AdaptiveAvgPool2d(output_size=(1, 1))\n",
       "   (logits): Linear(in_features=512, out_features=1, bias=True)\n",
       "   (activ_head): Sigmoid()\n",
       " )}"
      ]
     },
     "execution_count": 20,
     "metadata": {},
     "output_type": "execute_result"
    }
   ],
   "source": [
    "doExperiment(ResNet(BasicBlock, [3, 3, 3, 3]))"
   ]
  },
  {
   "cell_type": "markdown",
   "metadata": {
    "id": "jBCn1h8sHCH8"
   },
   "source": [
    "# ConvNext"
   ]
  },
  {
   "cell_type": "code",
   "execution_count": null,
   "metadata": {
    "colab": {
     "background_save": true,
     "base_uri": "https://localhost:8080/"
    },
    "id": "BXMdSclqpIYt",
    "outputId": "c7ec9dd2-160f-4453-f203-09b65c083479"
   },
   "outputs": [
    {
     "name": "stdout",
     "output_type": "stream",
     "text": [
      "----------------------------------------------------------------\n",
      "        Layer (type)               Output Shape         Param #\n",
      "================================================================\n",
      "            Conv2d-1           [-1, 64, 62, 62]           1,792\n",
      "         LayerNorm-2           [-1, 64, 62, 62]             128\n",
      "            Conv2d-3           [-1, 64, 62, 62]             640\n",
      "         LayerNorm-4           [-1, 62, 62, 64]             128\n",
      "            Linear-5          [-1, 62, 62, 256]          16,640\n",
      "              GELU-6          [-1, 62, 62, 256]               0\n",
      "            Linear-7           [-1, 62, 62, 64]          16,448\n",
      "          Identity-8           [-1, 64, 62, 62]               0\n",
      "             Block-9           [-1, 64, 62, 62]               0\n",
      "           Conv2d-10           [-1, 64, 62, 62]             640\n",
      "        LayerNorm-11           [-1, 62, 62, 64]             128\n",
      "           Linear-12          [-1, 62, 62, 256]          16,640\n",
      "             GELU-13          [-1, 62, 62, 256]               0\n",
      "           Linear-14           [-1, 62, 62, 64]          16,448\n",
      "         Identity-15           [-1, 64, 62, 62]               0\n",
      "            Block-16           [-1, 64, 62, 62]               0\n",
      "        LayerNorm-17           [-1, 64, 62, 62]             128\n",
      "           Conv2d-18          [-1, 128, 31, 31]          32,896\n",
      "           Conv2d-19          [-1, 128, 31, 31]           1,280\n",
      "        LayerNorm-20          [-1, 31, 31, 128]             256\n",
      "           Linear-21          [-1, 31, 31, 512]          66,048\n",
      "             GELU-22          [-1, 31, 31, 512]               0\n",
      "           Linear-23          [-1, 31, 31, 128]          65,664\n",
      "         Identity-24          [-1, 128, 31, 31]               0\n",
      "            Block-25          [-1, 128, 31, 31]               0\n",
      "           Conv2d-26          [-1, 128, 31, 31]           1,280\n",
      "        LayerNorm-27          [-1, 31, 31, 128]             256\n",
      "           Linear-28          [-1, 31, 31, 512]          66,048\n",
      "             GELU-29          [-1, 31, 31, 512]               0\n",
      "           Linear-30          [-1, 31, 31, 128]          65,664\n",
      "         Identity-31          [-1, 128, 31, 31]               0\n",
      "            Block-32          [-1, 128, 31, 31]               0\n",
      "        LayerNorm-33          [-1, 128, 31, 31]             256\n",
      "           Conv2d-34          [-1, 128, 15, 15]          65,664\n",
      "           Conv2d-35          [-1, 128, 15, 15]           1,280\n",
      "        LayerNorm-36          [-1, 15, 15, 128]             256\n",
      "           Linear-37          [-1, 15, 15, 512]          66,048\n",
      "             GELU-38          [-1, 15, 15, 512]               0\n",
      "           Linear-39          [-1, 15, 15, 128]          65,664\n",
      "         Identity-40          [-1, 128, 15, 15]               0\n",
      "            Block-41          [-1, 128, 15, 15]               0\n",
      "           Conv2d-42          [-1, 128, 15, 15]           1,280\n",
      "        LayerNorm-43          [-1, 15, 15, 128]             256\n",
      "           Linear-44          [-1, 15, 15, 512]          66,048\n",
      "             GELU-45          [-1, 15, 15, 512]               0\n",
      "           Linear-46          [-1, 15, 15, 128]          65,664\n",
      "         Identity-47          [-1, 128, 15, 15]               0\n",
      "            Block-48          [-1, 128, 15, 15]               0\n",
      "           Conv2d-49          [-1, 128, 15, 15]           1,280\n",
      "        LayerNorm-50          [-1, 15, 15, 128]             256\n",
      "           Linear-51          [-1, 15, 15, 512]          66,048\n",
      "             GELU-52          [-1, 15, 15, 512]               0\n",
      "           Linear-53          [-1, 15, 15, 128]          65,664\n",
      "         Identity-54          [-1, 128, 15, 15]               0\n",
      "            Block-55          [-1, 128, 15, 15]               0\n",
      "        LayerNorm-56          [-1, 128, 15, 15]             256\n",
      "           Conv2d-57            [-1, 256, 7, 7]         131,328\n",
      "           Conv2d-58            [-1, 256, 7, 7]           2,560\n",
      "        LayerNorm-59            [-1, 7, 7, 256]             512\n",
      "           Linear-60           [-1, 7, 7, 1024]         263,168\n",
      "             GELU-61           [-1, 7, 7, 1024]               0\n",
      "           Linear-62            [-1, 7, 7, 256]         262,400\n",
      "         Identity-63            [-1, 256, 7, 7]               0\n",
      "            Block-64            [-1, 256, 7, 7]               0\n",
      "           Conv2d-65            [-1, 256, 7, 7]           2,560\n",
      "        LayerNorm-66            [-1, 7, 7, 256]             512\n",
      "           Linear-67           [-1, 7, 7, 1024]         263,168\n",
      "             GELU-68           [-1, 7, 7, 1024]               0\n",
      "           Linear-69            [-1, 7, 7, 256]         262,400\n",
      "         Identity-70            [-1, 256, 7, 7]               0\n",
      "            Block-71            [-1, 256, 7, 7]               0\n",
      "        LayerNorm-72                  [-1, 256]             512\n",
      "           Linear-73                    [-1, 1]             257\n",
      "          Sigmoid-74                    [-1, 1]               0\n",
      "================================================================\n",
      "Total params: 2,024,449\n",
      "Trainable params: 2,024,449\n",
      "Non-trainable params: 0\n",
      "----------------------------------------------------------------\n",
      "Input size (MB): 0.18\n",
      "Forward/backward pass size (MB): 92.30\n",
      "Params size (MB): 7.72\n",
      "Estimated Total Size (MB): 100.21\n",
      "----------------------------------------------------------------\n",
      "None\n",
      "Epoch 0/9\n",
      "----------\n"
     ]
    },
    {
     "name": "stderr",
     "output_type": "stream",
     "text": [
      "100%|██████████| 4354/4354 [13:22<00:00,  5.43it/s]\n"
     ]
    },
    {
     "name": "stdout",
     "output_type": "stream",
     "text": [
      "Loss: 0.6386 Acc: 0.6261 AUC ROC : 0.6839 Time taken : 802.67\n",
      "\n",
      "Epoch 1/9\n",
      "----------\n"
     ]
    },
    {
     "name": "stderr",
     "output_type": "stream",
     "text": [
      "100%|██████████| 4354/4354 [13:08<00:00,  5.52it/s]\n"
     ]
    },
    {
     "name": "stdout",
     "output_type": "stream",
     "text": [
      "Loss: 0.6004 Acc: 0.6841 AUC ROC : 0.7410 Time taken : 789.56\n",
      "\n",
      "Epoch 2/9\n",
      "----------\n"
     ]
    },
    {
     "name": "stderr",
     "output_type": "stream",
     "text": [
      "100%|██████████| 4354/4354 [12:57<00:00,  5.60it/s]\n"
     ]
    },
    {
     "name": "stdout",
     "output_type": "stream",
     "text": [
      "Loss: 0.5908 Acc: 0.6935 AUC ROC : 0.7523 Time taken : 778.43\n",
      "\n",
      "Epoch 3/9\n",
      "----------\n"
     ]
    },
    {
     "name": "stderr",
     "output_type": "stream",
     "text": [
      "100%|██████████| 4354/4354 [12:51<00:00,  5.65it/s]\n"
     ]
    },
    {
     "name": "stdout",
     "output_type": "stream",
     "text": [
      "Loss: 0.5826 Acc: 0.7022 AUC ROC : 0.7617 Time taken : 771.55\n",
      "\n",
      "Epoch 4/9\n",
      "----------\n"
     ]
    },
    {
     "name": "stderr",
     "output_type": "stream",
     "text": [
      "100%|██████████| 4354/4354 [12:45<00:00,  5.68it/s]\n"
     ]
    },
    {
     "name": "stdout",
     "output_type": "stream",
     "text": [
      "Loss: 0.5747 Acc: 0.7088 AUC ROC : 0.7703 Time taken : 766.48\n",
      "\n",
      "Epoch 5/9\n",
      "----------\n"
     ]
    },
    {
     "name": "stderr",
     "output_type": "stream",
     "text": [
      "100%|██████████| 4354/4354 [12:42<00:00,  5.71it/s]\n"
     ]
    },
    {
     "name": "stdout",
     "output_type": "stream",
     "text": [
      "Loss: 0.5686 Acc: 0.7138 AUC ROC : 0.7765 Time taken : 763.32\n",
      "\n",
      "Epoch 6/9\n",
      "----------\n"
     ]
    },
    {
     "name": "stderr",
     "output_type": "stream",
     "text": [
      "100%|██████████| 4354/4354 [12:36<00:00,  5.76it/s]\n"
     ]
    },
    {
     "name": "stdout",
     "output_type": "stream",
     "text": [
      "Loss: 0.5628 Acc: 0.7191 AUC ROC : 0.7824 Time taken : 757.02\n",
      "\n",
      "Epoch 7/9\n",
      "----------\n"
     ]
    },
    {
     "name": "stderr",
     "output_type": "stream",
     "text": [
      "100%|██████████| 4354/4354 [12:36<00:00,  5.76it/s]\n"
     ]
    },
    {
     "name": "stdout",
     "output_type": "stream",
     "text": [
      "Loss: 0.5597 Acc: 0.7215 AUC ROC : 0.7856 Time taken : 756.8\n",
      "\n",
      "Epoch 8/9\n",
      "----------\n"
     ]
    },
    {
     "name": "stderr",
     "output_type": "stream",
     "text": [
      "100%|██████████| 4354/4354 [12:36<00:00,  5.75it/s]\n"
     ]
    },
    {
     "name": "stdout",
     "output_type": "stream",
     "text": [
      "Loss: 0.5562 Acc: 0.7248 AUC ROC : 0.7889 Time taken : 757.1\n",
      "\n",
      "Epoch 9/9\n",
      "----------\n"
     ]
    },
    {
     "name": "stderr",
     "output_type": "stream",
     "text": [
      "100%|██████████| 4354/4354 [12:37<00:00,  5.75it/s]\n"
     ]
    },
    {
     "name": "stdout",
     "output_type": "stream",
     "text": [
      "Loss: 0.5528 Acc: 0.7268 AUC ROC : 0.7921 Time taken : 757.87\n",
      "\n",
      "Training complete in 128m 21s\n"
     ]
    },
    {
     "data": {
      "image/png": "[encoded data removed]",
      "text/plain": [
       "<Figure size 1152x864 with 3 Axes>"
      ]
     },
     "metadata": {},
     "output_type": "display_data"
    },
    {
     "data": {
      "text/plain": [
       "{'trainingLoss': [0.6386335267939575,\n",
       "  0.6003672644884682,\n",
       "  0.5908436682676684,\n",
       "  0.5826167675315245,\n",
       "  0.5747268379240329,\n",
       "  0.5685971404695477,\n",
       "  0.5628115967579922,\n",
       "  0.5596840803393657,\n",
       "  0.556231440619714,\n",
       "  0.5528305794895504],\n",
       " 'trainingAccuracy': [0.6261108638536746,\n",
       "  0.6841342081460957,\n",
       "  0.6934948961279486,\n",
       "  0.7022095243564528,\n",
       "  0.7087562631903866,\n",
       "  0.7137955292665069,\n",
       "  0.7190932192439665,\n",
       "  0.7215195325398763,\n",
       "  0.7248000803985472,\n",
       "  0.7267956871922243],\n",
       " 'epochs': [0, 1, 2, 3, 4, 5, 6, 7, 8, 9],\n",
       " 'trainingAUC': [0.6838913252881451,\n",
       "  0.7410255352775729,\n",
       "  0.7522591958071022,\n",
       "  0.7617429543912102,\n",
       "  0.7702606284733101,\n",
       "  0.7765332434439176,\n",
       "  0.7824389748373628,\n",
       "  0.7855667711083885,\n",
       "  0.7888583795778088,\n",
       "  0.7921355530443032],\n",
       " 'best_model': ConvNeXt(\n",
       "   (downsample_layers): ModuleList(\n",
       "     (0): Sequential(\n",
       "       (0): Conv2d(3, 64, kernel_size=(3, 3), stride=(2, 2))\n",
       "       (1): LayerNorm()\n",
       "     )\n",
       "     (1): Sequential(\n",
       "       (0): LayerNorm()\n",
       "       (1): Conv2d(64, 128, kernel_size=(2, 2), stride=(2, 2))\n",
       "     )\n",
       "     (2): Sequential(\n",
       "       (0): LayerNorm()\n",
       "       (1): Conv2d(128, 128, kernel_size=(2, 2), stride=(2, 2))\n",
       "     )\n",
       "     (3): Sequential(\n",
       "       (0): LayerNorm()\n",
       "       (1): Conv2d(128, 256, kernel_size=(2, 2), stride=(2, 2))\n",
       "     )\n",
       "   )\n",
       "   (stages): ModuleList(\n",
       "     (0): Sequential(\n",
       "       (0): Block(\n",
       "         (dwconv): Conv2d(64, 64, kernel_size=(3, 3), stride=(1, 1), padding=(1, 1), groups=64)\n",
       "         (norm): LayerNorm()\n",
       "         (pwconv1): Linear(in_features=64, out_features=256, bias=True)\n",
       "         (act): GELU(approximate='none')\n",
       "         (pwconv2): Linear(in_features=256, out_features=64, bias=True)\n",
       "         (drop_path): Identity()\n",
       "       )\n",
       "       (1): Block(\n",
       "         (dwconv): Conv2d(64, 64, kernel_size=(3, 3), stride=(1, 1), padding=(1, 1), groups=64)\n",
       "         (norm): LayerNorm()\n",
       "         (pwconv1): Linear(in_features=64, out_features=256, bias=True)\n",
       "         (act): GELU(approximate='none')\n",
       "         (pwconv2): Linear(in_features=256, out_features=64, bias=True)\n",
       "         (drop_path): Identity()\n",
       "       )\n",
       "     )\n",
       "     (1): Sequential(\n",
       "       (0): Block(\n",
       "         (dwconv): Conv2d(128, 128, kernel_size=(3, 3), stride=(1, 1), padding=(1, 1), groups=128)\n",
       "         (norm): LayerNorm()\n",
       "         (pwconv1): Linear(in_features=128, out_features=512, bias=True)\n",
       "         (act): GELU(approximate='none')\n",
       "         (pwconv2): Linear(in_features=512, out_features=128, bias=True)\n",
       "         (drop_path): Identity()\n",
       "       )\n",
       "       (1): Block(\n",
       "         (dwconv): Conv2d(128, 128, kernel_size=(3, 3), stride=(1, 1), padding=(1, 1), groups=128)\n",
       "         (norm): LayerNorm()\n",
       "         (pwconv1): Linear(in_features=128, out_features=512, bias=True)\n",
       "         (act): GELU(approximate='none')\n",
       "         (pwconv2): Linear(in_features=512, out_features=128, bias=True)\n",
       "         (drop_path): Identity()\n",
       "       )\n",
       "     )\n",
       "     (2): Sequential(\n",
       "       (0): Block(\n",
       "         (dwconv): Conv2d(128, 128, kernel_size=(3, 3), stride=(1, 1), padding=(1, 1), groups=128)\n",
       "         (norm): LayerNorm()\n",
       "         (pwconv1): Linear(in_features=128, out_features=512, bias=True)\n",
       "         (act): GELU(approximate='none')\n",
       "         (pwconv2): Linear(in_features=512, out_features=128, bias=True)\n",
       "         (drop_path): Identity()\n",
       "       )\n",
       "       (1): Block(\n",
       "         (dwconv): Conv2d(128, 128, kernel_size=(3, 3), stride=(1, 1), padding=(1, 1), groups=128)\n",
       "         (norm): LayerNorm()\n",
       "         (pwconv1): Linear(in_features=128, out_features=512, bias=True)\n",
       "         (act): GELU(approximate='none')\n",
       "         (pwconv2): Linear(in_features=512, out_features=128, bias=True)\n",
       "         (drop_path): Identity()\n",
       "       )\n",
       "       (2): Block(\n",
       "         (dwconv): Conv2d(128, 128, kernel_size=(3, 3), stride=(1, 1), padding=(1, 1), groups=128)\n",
       "         (norm): LayerNorm()\n",
       "         (pwconv1): Linear(in_features=128, out_features=512, bias=True)\n",
       "         (act): GELU(approximate='none')\n",
       "         (pwconv2): Linear(in_features=512, out_features=128, bias=True)\n",
       "         (drop_path): Identity()\n",
       "       )\n",
       "     )\n",
       "     (3): Sequential(\n",
       "       (0): Block(\n",
       "         (dwconv): Conv2d(256, 256, kernel_size=(3, 3), stride=(1, 1), padding=(1, 1), groups=256)\n",
       "         (norm): LayerNorm()\n",
       "         (pwconv1): Linear(in_features=256, out_features=1024, bias=True)\n",
       "         (act): GELU(approximate='none')\n",
       "         (pwconv2): Linear(in_features=1024, out_features=256, bias=True)\n",
       "         (drop_path): Identity()\n",
       "       )\n",
       "       (1): Block(\n",
       "         (dwconv): Conv2d(256, 256, kernel_size=(3, 3), stride=(1, 1), padding=(1, 1), groups=256)\n",
       "         (norm): LayerNorm()\n",
       "         (pwconv1): Linear(in_features=256, out_features=1024, bias=True)\n",
       "         (act): GELU(approximate='none')\n",
       "         (pwconv2): Linear(in_features=1024, out_features=256, bias=True)\n",
       "         (drop_path): Identity()\n",
       "       )\n",
       "     )\n",
       "   )\n",
       "   (norm): LayerNorm((256,), eps=1e-06, elementwise_affine=True)\n",
       "   (head): Linear(in_features=256, out_features=1, bias=True)\n",
       "   (head_activation): Sigmoid()\n",
       " )}"
      ]
     },
     "execution_count": 23,
     "metadata": {},
     "output_type": "execute_result"
    }
   ],
   "source": [
    "import torch\n",
    "import torch.nn as nn\n",
    "import torch.nn.functional as F\n",
    "from timm.models.layers import trunc_normal_, DropPath\n",
    "from timm.models.registry import register_model\n",
    "from torchsummary import summary\n",
    "\n",
    "class Block(nn.Module):\n",
    "    r\"\"\" ConvNeXt Block. There are two equivalent implementations:\n",
    "    (1) DwConv -> LayerNorm (channels_first) -> 1x1 Conv -> GELU -> 1x1 Conv; all in (N, C, H, W)\n",
    "    (2) DwConv -> Permute to (N, H, W, C); LayerNorm (channels_last) -> Linear -> GELU -> Linear; Permute back\n",
    "    We use (2) as we find it slightly faster in PyTorch\n",
    "\n",
    "    Args:\n",
    "        dim (int): Number of input channels.\n",
    "        drop_path (float): Stochastic depth rate. Default: 0.0\n",
    "        layer_scale_init_value (float): Init value for Layer Scale. Default: 1e-6.\n",
    "    \"\"\"\n",
    "    def __init__(self, dim, drop_path=0., layer_scale_init_value=1e-6):\n",
    "        super().__init__()\n",
    "        self.dwconv = nn.Conv2d(dim, dim, kernel_size=3, padding=1, groups=dim) # depthwise conv\n",
    "        self.norm = LayerNorm(dim, eps=1e-6)\n",
    "        self.pwconv1 = nn.Linear(dim, 4 * dim) # pointwise/1x1 convs, implemented with linear layers\n",
    "        self.act = nn.GELU()\n",
    "        self.pwconv2 = nn.Linear(4 * dim, dim)\n",
    "        self.gamma = nn.Parameter(layer_scale_init_value * torch.ones((dim)),\n",
    "                                    requires_grad=True) if layer_scale_init_value > 0 else None\n",
    "        self.drop_path = DropPath(drop_path) if drop_path > 0. else nn.Identity()\n",
    "\n",
    "    def forward(self, x):\n",
    "        input = x\n",
    "        x = self.dwconv(x)\n",
    "        x = x.permute(0, 2, 3, 1) # (N, C, H, W) -> (N, H, W, C)\n",
    "        x = self.norm(x)\n",
    "        x = self.pwconv1(x)\n",
    "        x = self.act(x)\n",
    "        x = self.pwconv2(x)\n",
    "        if self.gamma is not None:\n",
    "            x = self.gamma * x\n",
    "        x = x.permute(0, 3, 1, 2) # (N, H, W, C) -> (N, C, H, W)\n",
    "\n",
    "        x = input + self.drop_path(x)\n",
    "        return x\n",
    "\n",
    "class ConvNeXt(nn.Module):\n",
    "    r\"\"\" ConvNeXt\n",
    "        A PyTorch impl of : `A ConvNet for the 2020s`  -\n",
    "          https://arxiv.org/pdf/2201.03545.pdf\n",
    "    Args:\n",
    "        in_chans (int): Number of input image channels. Default: 3\n",
    "        num_classes (int): Number of classes for classification head. Default: 1000\n",
    "        depths (tuple(int)): Number of blocks at each stage. Default: [3, 3, 9, 3]\n",
    "        dims (int): Feature dimension at each stage. Default: [96, 192, 384, 768]\n",
    "        drop_path_rate (float): Stochastic depth rate. Default: 0.\n",
    "        layer_scale_init_value (float): Init value for Layer Scale. Default: 1e-6.\n",
    "        head_init_scale (float): Init scaling value for classifier weights and biases. Default: 1.\n",
    "    \"\"\"\n",
    "    def __init__(self, in_chans=3, num_classes=1000,\n",
    "                 depths=[3, 3, 9, 3], dims=[96, 192, 384, 768], drop_path_rate=0.,\n",
    "                 layer_scale_init_value=1e-6, head_init_scale=1.,\n",
    "                 ):\n",
    "        super().__init__()\n",
    "\n",
    "        self.downsample_layers = nn.ModuleList() # stem and 3 intermediate downsampling conv layers\n",
    "        stem = nn.Sequential(\n",
    "            nn.Conv2d(in_chans, dims[0], kernel_size=3, stride=2),\n",
    "            LayerNorm(dims[0], eps=1e-6, data_format=\"channels_first\")\n",
    "        )\n",
    "        self.downsample_layers.append(stem)\n",
    "        for i in range(3):\n",
    "            downsample_layer = nn.Sequential(\n",
    "                    LayerNorm(dims[i], eps=1e-6, data_format=\"channels_first\"),\n",
    "                    nn.Conv2d(dims[i], dims[i+1], kernel_size=2, stride=2),\n",
    "            )\n",
    "            self.downsample_layers.append(downsample_layer)\n",
    "\n",
    "        self.stages = nn.ModuleList() # 4 feature resolution stages, each consisting of multiple residual blocks\n",
    "        dp_rates=[x.item() for x in torch.linspace(0, drop_path_rate, sum(depths))]\n",
    "        cur = 0\n",
    "        for i in range(4):\n",
    "            stage = nn.Sequential(\n",
    "                *[Block(dim=dims[i], drop_path=dp_rates[cur + j],\n",
    "                layer_scale_init_value=layer_scale_init_value) for j in range(depths[i])]\n",
    "            )\n",
    "            self.stages.append(stage)\n",
    "            cur += depths[i]\n",
    "\n",
    "        self.norm = nn.LayerNorm(dims[-1], eps=1e-6) # final norm layer\n",
    "        self.head = nn.Linear(dims[-1], num_classes)\n",
    "        self.head_activation = nn.Sigmoid()\n",
    "\n",
    "        self.apply(self._init_weights)\n",
    "        self.head.weight.data.mul_(head_init_scale)\n",
    "        self.head.bias.data.mul_(head_init_scale)\n",
    "\n",
    "    def _init_weights(self, m):\n",
    "        if isinstance(m, (nn.Conv2d, nn.Linear)):\n",
    "            trunc_normal_(m.weight, std=.02)\n",
    "            nn.init.constant_(m.bias, 0)\n",
    "\n",
    "    def forward_features(self, x):\n",
    "        for i in range(4):\n",
    "            x = self.downsample_layers[i](x)\n",
    "            x = self.stages[i](x)\n",
    "        return self.norm(x.mean([-2, -1])) # global average pooling, (N, C, H, W) -> (N, C)\n",
    "\n",
    "    def forward(self, x):\n",
    "        x = self.forward_features(x)\n",
    "        x = self.head(x)\n",
    "        return self.head_activation(x)\n",
    "\n",
    "class LayerNorm(nn.Module):\n",
    "    r\"\"\" LayerNorm that supports two data formats: channels_last (default) or channels_first.\n",
    "    The ordering of the dimensions in the inputs. channels_last corresponds to inputs with\n",
    "    shape (batch_size, height, width, channels) while channels_first corresponds to inputs\n",
    "    with shape (batch_size, channels, height, width).\n",
    "    \"\"\"\n",
    "    def __init__(self, normalized_shape, eps=1e-6, data_format=\"channels_last\"):\n",
    "        super().__init__()\n",
    "        self.weight = nn.Parameter(torch.ones(normalized_shape))\n",
    "        self.bias = nn.Parameter(torch.zeros(normalized_shape))\n",
    "        self.eps = eps\n",
    "        self.data_format = data_format\n",
    "        if self.data_format not in [\"channels_last\", \"channels_first\"]:\n",
    "            raise NotImplementedError\n",
    "        self.normalized_shape = (normalized_shape, )\n",
    "\n",
    "    def forward(self, x):\n",
    "        if self.data_format == \"channels_last\":\n",
    "            return F.layer_norm(x, self.normalized_shape, self.weight, self.bias, self.eps)\n",
    "        elif self.data_format == \"channels_first\":\n",
    "            u = x.mean(1, keepdim=True)\n",
    "            s = (x - u).pow(2).mean(1, keepdim=True)\n",
    "            x = (x - u) / torch.sqrt(s + self.eps)\n",
    "            x = self.weight[:, None, None] * x + self.bias[:, None, None]\n",
    "            return x\n",
    "\n",
    "\n",
    "doExperiment(ConvNeXt(in_chans=3, num_classes=1, depths=[2,2,3,2], dims=[64, 128, 128, 256]))"
   ]
  },
  {
   "cell_type": "markdown",
   "metadata": {
    "id": "CaTuHA1FvcWX"
   },
   "source": [
    "# Inception"
   ]
  },
  {
   "cell_type": "markdown",
   "metadata": {},
   "source": []
  },
  {
   "cell_type": "code",
   "execution_count": null,
   "metadata": {
    "id": "Hg0qWMpavd75"
   },
   "outputs": [],
   "source": []
  },
  {
   "cell_type": "markdown",
   "metadata": {
    "id": "ZUA7V-dFw1d3"
   },
   "source": [
    "# Vision Transformer\n",
    "\n"
   ]
  },
  {
   "cell_type": "code",
   "execution_count": null,
   "metadata": {
    "colab": {
     "base_uri": "https://localhost:8080/"
    },
    "executionInfo": {
     "elapsed": 3843373,
     "status": "ok",
     "timestamp": 1678308879308,
     "user": {
      "displayName": "maciek lewandowski",
      "userId": "10601486516899378503"
     },
     "user_tz": 0
    },
    "id": "PPGs_rZyw10w",
    "outputId": "49ec8eec-e831-4c28-8e0e-0f4463267bae"
   },
   "outputs": [
    {
     "name": "stdout",
     "output_type": "stream",
     "text": [
      "----------------------------------------------------------------\n",
      "        Layer (type)               Output Shape         Param #\n",
      "================================================================\n",
      "         Rearrange-1           [-1, 5, 5, 1875]               0\n",
      "            Linear-2            [-1, 5, 5, 256]         480,256\n",
      "         LayerNorm-3              [-1, 25, 256]             512\n",
      "            Linear-4             [-1, 25, 1536]         393,216\n",
      "           Softmax-5            [-1, 8, 25, 25]               0\n",
      "            Linear-6              [-1, 25, 256]         131,072\n",
      "         Attention-7              [-1, 25, 256]               0\n",
      "         LayerNorm-8              [-1, 25, 256]             512\n",
      "            Linear-9              [-1, 25, 256]          65,792\n",
      "             GELU-10              [-1, 25, 256]               0\n",
      "           Linear-11              [-1, 25, 256]          65,792\n",
      "      FeedForward-12              [-1, 25, 256]               0\n",
      "        LayerNorm-13              [-1, 25, 256]             512\n",
      "           Linear-14             [-1, 25, 1536]         393,216\n",
      "          Softmax-15            [-1, 8, 25, 25]               0\n",
      "           Linear-16              [-1, 25, 256]         131,072\n",
      "        Attention-17              [-1, 25, 256]               0\n",
      "        LayerNorm-18              [-1, 25, 256]             512\n",
      "           Linear-19              [-1, 25, 256]          65,792\n",
      "             GELU-20              [-1, 25, 256]               0\n",
      "           Linear-21              [-1, 25, 256]          65,792\n",
      "      FeedForward-22              [-1, 25, 256]               0\n",
      "        LayerNorm-23              [-1, 25, 256]             512\n",
      "           Linear-24             [-1, 25, 1536]         393,216\n",
      "          Softmax-25            [-1, 8, 25, 25]               0\n",
      "           Linear-26              [-1, 25, 256]         131,072\n",
      "        Attention-27              [-1, 25, 256]               0\n",
      "        LayerNorm-28              [-1, 25, 256]             512\n",
      "           Linear-29              [-1, 25, 256]          65,792\n",
      "             GELU-30              [-1, 25, 256]               0\n",
      "           Linear-31              [-1, 25, 256]          65,792\n",
      "      FeedForward-32              [-1, 25, 256]               0\n",
      "        LayerNorm-33              [-1, 25, 256]             512\n",
      "           Linear-34             [-1, 25, 1536]         393,216\n",
      "          Softmax-35            [-1, 8, 25, 25]               0\n",
      "           Linear-36              [-1, 25, 256]         131,072\n",
      "        Attention-37              [-1, 25, 256]               0\n",
      "        LayerNorm-38              [-1, 25, 256]             512\n",
      "           Linear-39              [-1, 25, 256]          65,792\n",
      "             GELU-40              [-1, 25, 256]               0\n",
      "           Linear-41              [-1, 25, 256]          65,792\n",
      "      FeedForward-42              [-1, 25, 256]               0\n",
      "      Transformer-43              [-1, 25, 256]               0\n",
      "         Identity-44                  [-1, 256]               0\n",
      "        LayerNorm-45                  [-1, 256]             512\n",
      "           Linear-46                    [-1, 1]             257\n",
      "          Sigmoid-47                    [-1, 1]               0\n",
      "================================================================\n",
      "Total params: 3,108,609\n",
      "Trainable params: 3,108,609\n",
      "Non-trainable params: 0\n",
      "----------------------------------------------------------------\n",
      "Input size (MB): 0.18\n",
      "Forward/backward pass size (MB): 3.35\n",
      "Params size (MB): 11.86\n",
      "Estimated Total Size (MB): 15.38\n",
      "----------------------------------------------------------------\n",
      "None\n",
      "Epoch 0/9\n",
      "----------\n"
     ]
    },
    {
     "name": "stderr",
     "output_type": "stream",
     "text": [
      "100%|██████████| 4354/4354 [06:29<00:00, 11.18it/s]\n"
     ]
    },
    {
     "name": "stdout",
     "output_type": "stream",
     "text": [
      "Loss: 0.6328 Acc: 0.6485 AUC ROC : 0.6976 Time taken : 389.59\n",
      "\n",
      "Epoch 1/9\n",
      "----------\n"
     ]
    },
    {
     "name": "stderr",
     "output_type": "stream",
     "text": [
      "100%|██████████| 4354/4354 [06:21<00:00, 11.41it/s]\n"
     ]
    },
    {
     "name": "stdout",
     "output_type": "stream",
     "text": [
      "Loss: 0.6404 Acc: 0.6347 AUC ROC : 0.6826 Time taken : 382.08\n",
      "\n",
      "Epoch 2/9\n",
      "----------\n"
     ]
    },
    {
     "name": "stderr",
     "output_type": "stream",
     "text": [
      "100%|██████████| 4354/4354 [06:19<00:00, 11.46it/s]\n"
     ]
    },
    {
     "name": "stdout",
     "output_type": "stream",
     "text": [
      "Loss: 0.6469 Acc: 0.6248 AUC ROC : 0.6690 Time taken : 380.22\n",
      "\n",
      "Epoch 3/9\n",
      "----------\n"
     ]
    },
    {
     "name": "stderr",
     "output_type": "stream",
     "text": [
      "100%|██████████| 4354/4354 [06:25<00:00, 11.29it/s]\n"
     ]
    },
    {
     "name": "stdout",
     "output_type": "stream",
     "text": [
      "Loss: 0.6451 Acc: 0.6275 AUC ROC : 0.6725 Time taken : 386.26\n",
      "\n",
      "Epoch 4/9\n",
      "----------\n"
     ]
    },
    {
     "name": "stderr",
     "output_type": "stream",
     "text": [
      "100%|██████████| 4354/4354 [06:29<00:00, 11.19it/s]\n"
     ]
    },
    {
     "name": "stdout",
     "output_type": "stream",
     "text": [
      "Loss: 0.6323 Acc: 0.6464 AUC ROC : 0.6964 Time taken : 389.45\n",
      "\n",
      "Epoch 5/9\n",
      "----------\n"
     ]
    },
    {
     "name": "stderr",
     "output_type": "stream",
     "text": [
      "100%|██████████| 4354/4354 [06:26<00:00, 11.27it/s]\n"
     ]
    },
    {
     "name": "stdout",
     "output_type": "stream",
     "text": [
      "Loss: 0.6327 Acc: 0.6464 AUC ROC : 0.6956 Time taken : 386.87\n",
      "\n",
      "Epoch 6/9\n",
      "----------\n"
     ]
    },
    {
     "name": "stderr",
     "output_type": "stream",
     "text": [
      "100%|██████████| 4354/4354 [06:22<00:00, 11.39it/s]\n"
     ]
    },
    {
     "name": "stdout",
     "output_type": "stream",
     "text": [
      "Loss: 0.6314 Acc: 0.6477 AUC ROC : 0.6974 Time taken : 382.79\n",
      "\n",
      "Epoch 7/9\n",
      "----------\n"
     ]
    },
    {
     "name": "stderr",
     "output_type": "stream",
     "text": [
      "100%|██████████| 4354/4354 [06:17<00:00, 11.55it/s]\n"
     ]
    },
    {
     "name": "stdout",
     "output_type": "stream",
     "text": [
      "Loss: 0.6311 Acc: 0.6485 AUC ROC : 0.6982 Time taken : 377.55\n",
      "\n",
      "Epoch 8/9\n",
      "----------\n"
     ]
    },
    {
     "name": "stderr",
     "output_type": "stream",
     "text": [
      "100%|██████████| 4354/4354 [06:22<00:00, 11.39it/s]\n"
     ]
    },
    {
     "name": "stdout",
     "output_type": "stream",
     "text": [
      "Loss: 0.6343 Acc: 0.6435 AUC ROC : 0.6930 Time taken : 382.61\n",
      "\n",
      "Epoch 9/9\n",
      "----------\n"
     ]
    },
    {
     "name": "stderr",
     "output_type": "stream",
     "text": [
      "100%|██████████| 4354/4354 [06:23<00:00, 11.34it/s]\n"
     ]
    },
    {
     "name": "stdout",
     "output_type": "stream",
     "text": [
      "Loss: 0.6450 Acc: 0.6275 AUC ROC : 0.6730 Time taken : 384.39\n",
      "\n",
      "Training complete in 64m 2s\n"
     ]
    },
    {
     "data": {
      "image/png": "[encoded data removed]",
      "text/plain": [
       "<Figure size 1152x864 with 3 Axes>"
      ]
     },
     "metadata": {
      "needs_background": "light"
     },
     "output_type": "display_data"
    },
    {
     "data": {
      "text/plain": [
       "{'trainingLoss': [0.632789227145539,\n",
       "  0.6403671823874236,\n",
       "  0.6469213506883571,\n",
       "  0.6450628852390013,\n",
       "  0.6322835919090387,\n",
       "  0.6327029273686021,\n",
       "  0.631356706777557,\n",
       "  0.6311475518827913,\n",
       "  0.6342914471718291,\n",
       "  0.6450269147399654],\n",
       " 'trainingAccuracy': [0.6485004235280606,\n",
       "  0.6346747448063974,\n",
       "  0.6248187443469772,\n",
       "  0.6275106599859303,\n",
       "  0.6463756047837136,\n",
       "  0.6464186754339368,\n",
       "  0.6477251518240421,\n",
       "  0.6484573528778373,\n",
       "  0.6435114065438675,\n",
       "  0.6274604108940032],\n",
       " 'epochs': [0, 1, 2, 3, 4, 5, 6, 7, 8, 9],\n",
       " 'trainingAUC': [0.6975834733277186,\n",
       "  0.682626798667153,\n",
       "  0.6690148134144913,\n",
       "  0.6724885557889209,\n",
       "  0.6963592559659539,\n",
       "  0.6955526623544196,\n",
       "  0.6974164280324766,\n",
       "  0.6981813438503712,\n",
       "  0.6930344901925767,\n",
       "  0.6730162255152722],\n",
       " 'best_model': SimpleViT(\n",
       "   (to_patch_embedding): Sequential(\n",
       "     (0): Rearrange('b c (h p1) (w p2) -> b h w (p1 p2 c)', p1=25, p2=25)\n",
       "     (1): Linear(in_features=1875, out_features=256, bias=True)\n",
       "   )\n",
       "   (transformer): Transformer(\n",
       "     (layers): ModuleList(\n",
       "       (0): ModuleList(\n",
       "         (0): Attention(\n",
       "           (norm): LayerNorm((256,), eps=1e-05, elementwise_affine=True)\n",
       "           (attend): Softmax(dim=-1)\n",
       "           (to_qkv): Linear(in_features=256, out_features=1536, bias=False)\n",
       "           (to_out): Linear(in_features=512, out_features=256, bias=False)\n",
       "         )\n",
       "         (1): FeedForward(\n",
       "           (net): Sequential(\n",
       "             (0): LayerNorm((256,), eps=1e-05, elementwise_affine=True)\n",
       "             (1): Linear(in_features=256, out_features=256, bias=True)\n",
       "             (2): GELU(approximate='none')\n",
       "             (3): Linear(in_features=256, out_features=256, bias=True)\n",
       "           )\n",
       "         )\n",
       "       )\n",
       "       (1): ModuleList(\n",
       "         (0): Attention(\n",
       "           (norm): LayerNorm((256,), eps=1e-05, elementwise_affine=True)\n",
       "           (attend): Softmax(dim=-1)\n",
       "           (to_qkv): Linear(in_features=256, out_features=1536, bias=False)\n",
       "           (to_out): Linear(in_features=512, out_features=256, bias=False)\n",
       "         )\n",
       "         (1): FeedForward(\n",
       "           (net): Sequential(\n",
       "             (0): LayerNorm((256,), eps=1e-05, elementwise_affine=True)\n",
       "             (1): Linear(in_features=256, out_features=256, bias=True)\n",
       "             (2): GELU(approximate='none')\n",
       "             (3): Linear(in_features=256, out_features=256, bias=True)\n",
       "           )\n",
       "         )\n",
       "       )\n",
       "       (2): ModuleList(\n",
       "         (0): Attention(\n",
       "           (norm): LayerNorm((256,), eps=1e-05, elementwise_affine=True)\n",
       "           (attend): Softmax(dim=-1)\n",
       "           (to_qkv): Linear(in_features=256, out_features=1536, bias=False)\n",
       "           (to_out): Linear(in_features=512, out_features=256, bias=False)\n",
       "         )\n",
       "         (1): FeedForward(\n",
       "           (net): Sequential(\n",
       "             (0): LayerNorm((256,), eps=1e-05, elementwise_affine=True)\n",
       "             (1): Linear(in_features=256, out_features=256, bias=True)\n",
       "             (2): GELU(approximate='none')\n",
       "             (3): Linear(in_features=256, out_features=256, bias=True)\n",
       "           )\n",
       "         )\n",
       "       )\n",
       "       (3): ModuleList(\n",
       "         (0): Attention(\n",
       "           (norm): LayerNorm((256,), eps=1e-05, elementwise_affine=True)\n",
       "           (attend): Softmax(dim=-1)\n",
       "           (to_qkv): Linear(in_features=256, out_features=1536, bias=False)\n",
       "           (to_out): Linear(in_features=512, out_features=256, bias=False)\n",
       "         )\n",
       "         (1): FeedForward(\n",
       "           (net): Sequential(\n",
       "             (0): LayerNorm((256,), eps=1e-05, elementwise_affine=True)\n",
       "             (1): Linear(in_features=256, out_features=256, bias=True)\n",
       "             (2): GELU(approximate='none')\n",
       "             (3): Linear(in_features=256, out_features=256, bias=True)\n",
       "           )\n",
       "         )\n",
       "       )\n",
       "     )\n",
       "   )\n",
       "   (to_latent): Identity()\n",
       "   (linear_head): Sequential(\n",
       "     (0): LayerNorm((256,), eps=1e-05, elementwise_affine=True)\n",
       "     (1): Linear(in_features=256, out_features=1, bias=True)\n",
       "     (2): Sigmoid()\n",
       "   )\n",
       " )}"
      ]
     },
     "execution_count": 29,
     "metadata": {},
     "output_type": "execute_result"
    }
   ],
   "source": [
    "# helpers\n",
    "def pair(t):\n",
    "    return t if isinstance(t, tuple) else (t,t)\n",
    "\n",
    "def posemb_sincos_2d(patches, temperature=10000, dtype=torch.float32):\n",
    "    _, h, w, dim, device, dtype = *patches.shape, patches.device, patches.dtype\n",
    "\n",
    "    y, x = torch.meshgrid(torch.arange(h, device=device), torch.arange(w, device=device), indexing='ij')\n",
    "    assert (dim % 4) == 0, 'feature dimension must be multiple of 4 for sincos emb'\n",
    "\n",
    "    omega = torch.arange(dim // 4, device=device) / (dim // 4 - 1)\n",
    "    omega = 1. / (temperature**omega)\n",
    "\n",
    "    y = y.flatten()[:, None] * omega[None, :]\n",
    "    x = x.flatten()[:, None] * omega[None, :]\n",
    "    pe = torch.cat((x.sin(), x.cos(), y.sin(), y.cos()), dim=1)\n",
    "    return pe.type(dtype)\n",
    "\n",
    "\n",
    "# Classes\n",
    "class FeedForward(nn.Module):\n",
    "    def __init__(self, dim, hidden_dim):\n",
    "        super().__init__()\n",
    "        self.net = nn.Sequential(\n",
    "            nn.LayerNorm(dim),\n",
    "            nn.Linear(dim, hidden_dim),\n",
    "            nn.GELU(),\n",
    "            nn.Linear(hidden_dim, dim)\n",
    "        )\n",
    "\n",
    "    def forward(self, x):\n",
    "        return self.net(x)\n",
    "\n",
    "class Attention(nn.Module):\n",
    "    def __init__(self, dim, heads = 8, dim_head = 64):\n",
    "        super().__init__()\n",
    "        inner_dim = dim_head * heads\n",
    "        self.heads = heads\n",
    "        self.scale = dim_head ** -0.5\n",
    "        self.norm = nn.LayerNorm(dim)\n",
    "\n",
    "        self.attend = nn.Softmax(dim=-1)\n",
    "        self.to_qkv = nn.Linear(dim, 3 * inner_dim, bias=False)\n",
    "        self.to_out = nn.Linear(inner_dim, dim, bias=False)\n",
    "\n",
    "    def forward(self, x):\n",
    "        x = self.norm(x)\n",
    "\n",
    "        qkv = self.to_qkv(x).chunk(3, dim=-1)\n",
    "        q, k, v = map(lambda t: rearrange(t, 'b n (h d) -> b h n d', h = self.heads), qkv)\n",
    "\n",
    "        dots = torch.matmul(q, k.transpose(-1, -2)) * self.scale\n",
    "\n",
    "        attn = self.attend(dots)\n",
    "\n",
    "        out = torch.matmul(attn, v)\n",
    "        out = rearrange(out, 'b h n d -> b n (h d)')\n",
    "        return self.to_out(out)\n",
    "\n",
    "class Transformer(nn.Module):\n",
    "    def __init__(self, dim, depth, heads, dim_head, mlp_dim):\n",
    "        super().__init__()\n",
    "        self.layers = nn.ModuleList([])\n",
    "\n",
    "        for _ in range(depth):\n",
    "            self.layers.append(nn.ModuleList([\n",
    "                Attention(dim, heads=heads, dim_head=dim_head),\n",
    "                FeedForward(dim, mlp_dim)\n",
    "            ]))\n",
    "\n",
    "    def forward(self, x):\n",
    "        for attn, ff in self.layers:\n",
    "            x = attn(x) + x\n",
    "            x = ff(x) + x\n",
    "        return x\n",
    "\n",
    "class SimpleViT(nn.Module):\n",
    "    def __init__(self, *, image_size, patch_size, num_classes, dim, depth, heads, mlp_dim, channels = 3,  dim_head = 64, out_sigmoid=True):\n",
    "        super().__init__()\n",
    "        image_height, image_width = pair(image_size)\n",
    "        patch_height, patch_width = pair(patch_size)\n",
    "\n",
    "        assert image_height % patch_height == 0 and image_width % patch_width == 0, 'Image dimensions must be divisible by the patch size.'\n",
    "\n",
    "        num_patches = (image_height // patch_height) * (image_width // patch_width)\n",
    "        patch_dim = channels * patch_height * patch_width\n",
    "\n",
    "        self.to_patch_embedding = nn.Sequential(\n",
    "            Rearrange('b c (h p1) (w p2) -> b h w (p1 p2 c)', p1 = patch_height, p2 = patch_width),\n",
    "            nn.Linear(patch_dim, dim),\n",
    "        )\n",
    "\n",
    "        self.transformer = Transformer(dim, depth, heads, dim_head, mlp_dim)\n",
    "\n",
    "        self.to_latent = nn.Identity()\n",
    "        self.linear_head = nn.ModuleList([])\n",
    "\n",
    "        if out_sigmoid:\n",
    "            self.linear_head = nn.Sequential(\n",
    "                nn.LayerNorm(dim),\n",
    "                nn.Linear(dim, num_classes),\n",
    "                nn.Sigmoid()\n",
    "            )\n",
    "        else:\n",
    "            self.linear_head = nn.Sequential(\n",
    "                nn.LayerNorm(dim),\n",
    "                nn.Linear(dim, num_classes)\n",
    "            )\n",
    "\n",
    "\n",
    "    def forward(self, img):\n",
    "        *_, h, w, dtype = *img.shape, img.dtype\n",
    "\n",
    "        x = self.to_patch_embedding(img)\n",
    "        pe = posemb_sincos_2d(x)\n",
    "        x = x = rearrange(x, 'b ... d -> b (...) d') + pe\n",
    "\n",
    "        x = self.transformer(x)\n",
    "        x = x.mean(dim=1)\n",
    "\n",
    "        x = self.to_latent(x)\n",
    "        return self.linear_head(x)\n",
    "\n",
    "doExperiment(SimpleViT(image_size=125, patch_size=25, num_classes=1, dim=256, \n",
    "                     depth=4, heads=8, mlp_dim=256, channels=3,out_sigmoid=True))"
   ]
  },
  {
   "cell_type": "code",
   "execution_count": null,
   "metadata": {
    "id": "52uitka8w4C_"
   },
   "outputs": [],
   "source": []
  }
 ],
 "metadata": {
  "accelerator": "GPU",
  "colab": {
   "authorship_tag": "ABX9TyMbCQBHBqx6IEhJBxzphOiL",
   "collapsed_sections": [
    "ww4IjNd8gK4Z",
    "0QyIUnEpcytk",
    "jBCn1h8sHCH8",
    "ZUA7V-dFw1d3"
   ],
   "machine_shape": "hm",
   "provenance": []
  },
  "gpuClass": "standard",
  "kernelspec": {
   "display_name": "Python 3 (ipykernel)",
   "language": "python",
   "name": "python3"
  },
  "language_info": {
   "codemirror_mode": {
    "name": "ipython",
    "version": 3
   },
   "file_extension": ".py",
   "mimetype": "text/x-python",
   "name": "python",
   "nbconvert_exporter": "python",
   "pygments_lexer": "ipython3",
   "version": "3.9.13"
  }
 },
 "nbformat": 4,
 "nbformat_minor": 1
}
