{
 "cells": [
  {
   "cell_type": "code",
   "execution_count": 10,
   "metadata": {
    "collapsed": true
   },
   "outputs": [],
   "source": [
    "\n",
    "import torch\n",
    "from torch import nn\n",
    "import numpy as np\n",
    "from torchsummary import summary\n",
    "from torch import optim\n",
    "from torch.optim import lr_scheduler\n",
    "from sklearn.metrics import roc_auc_score\n",
    "import matplotlib.pyplot as plt\n",
    "from vit_pytorch import ViT\n",
    "from math import sqrt\n",
    "import torch\n",
    "from torch.utils.tensorboard import SummaryWriter\n",
    "\n",
    "\n",
    "\n",
    "from torchviz import make_dot\n",
    "\n",
    "class smallModelForEnsemble(nn.Module):\n",
    "    def __init__(self):\n",
    "        super(smallModelForEnsemble, self).__init__()\n",
    "        self.conv1 = nn.Conv2d(2, 32, 1, bias=False)       # output becomes 26x26\n",
    "        self.conv1_bn = nn.BatchNorm2d(32)\n",
    "        self.activation1 = nn.ReLU()\n",
    "\n",
    "        self.conv2 = nn.Conv2d(32, 32, 2, bias=False)      # output becomes 24x24\n",
    "        self.conv2_bn = nn.BatchNorm2d(32)\n",
    "        self.activation2 = nn.ReLU()\n",
    "\n",
    "        self.conv3 = nn.Conv2d(32, 48, 2, bias=False)      # output becomes 24x24\n",
    "        self.conv3_bn = nn.BatchNorm2d(48)\n",
    "        self.activation3 = nn.ReLU()\n",
    "\n",
    "        self.conv4 = nn.Conv2d(48, 48, 3, bias=False)      # output becomes 22x22\n",
    "        self.conv4_bn = nn.BatchNorm2d(48)\n",
    "        self.activation4 = nn.ReLU()\n",
    "\n",
    "        self.conv5 = nn.Conv2d(48, 64, 5, bias=False)      # output becomes 22x22\n",
    "        self.conv5_bn = nn.BatchNorm2d(64)\n",
    "        self.activation5 = nn.ReLU()\n",
    "\n",
    "        self.conv6 = nn.Conv2d(64, 64, 5, bias=False)      # output becomes 22x22\n",
    "        self.conv6_bn = nn.BatchNorm2d(64)\n",
    "        self.activation6 = nn.ReLU()\n",
    "\n",
    "        self.conv7 = nn.Conv2d(64, 64, 5, bias=False)      # output becomes 22x22\n",
    "        self.conv7_bn = nn.BatchNorm2d(64)\n",
    "        self.activation7 = nn.ReLU()\n",
    "        self.max_pool2 = nn.MaxPool2d(2)\n",
    "\n",
    "    def forward(self, x):\n",
    "        conv1 = self.activation1(self.conv1_bn(self.conv1(x)))\n",
    "        conv2 = self.activation2(self.conv2_bn(self.conv2(conv1)))\n",
    "        conv3 = self.activation3(self.conv3_bn(self.conv3(conv2)))\n",
    "        conv4 = self.activation4(self.conv4_bn(self.conv4(conv3)))\n",
    "        conv5 = self.activation5(self.conv5_bn(self.conv5(conv4)))\n",
    "        conv6 = self.activation6(self.conv6_bn(self.conv6(conv5)))\n",
    "        conv7 = self.activation7(self.conv7_bn(self.conv7(conv6)))\n",
    "        conv7 = self.max_pool2(conv7)\n",
    "\n",
    "        flattened = torch.flatten(conv7.permute(0, 2, 3, 1), 1)\n",
    "        return flattened\n",
    "\n",
    "\n",
    "class EnsembleModel(nn.Module):\n",
    "    def __init__(self, model, n, inp):\n",
    "        super(EnsembleModel, self).__init__()\n",
    "        self.models = [model() for _ in range(n)]\n",
    "        self.logits = nn.Linear(n * self.models[0](inp).shape[-1], 1)\n",
    "        self.ret_func = nn.Sigmoid()\n",
    "\n",
    "    def forward(self, x):\n",
    "        outs = []\n",
    "        for model in self.models:\n",
    "            outs.append(model(x))\n",
    "\n",
    "        layers = torch.cat(outs, dim=-1)\n",
    "        return self.ret_func(self.logits(layers))\n"
   ]
  },
  {
   "cell_type": "code",
   "execution_count": 15,
   "outputs": [
    {
     "name": "stdout",
     "output_type": "stream",
     "text": [
      "Device Used : cuda:0\n",
      "tensor([[0.5014]], device='cuda:0', grad_fn=<SigmoidBackward0>)\n"
     ]
    }
   ],
   "source": [
    "device = torch.device(\"cuda:0\" if torch.cuda.is_available() else \"cpu\")\n",
    "print(f\"Device Used : {device}\")\n",
    "\n",
    "model_ft = EnsembleModel(smallModelForEnsemble, 5, torch.Tensor(1,2,32,32))\n",
    "model_ft = model_ft.to(device)\n",
    "for i in range(len(model_ft.models)):\n",
    "    model_ft.models[i] = model_ft.models[i].to(device)\n",
    "\n",
    "inp = torch.zeros((1,2, 32, 32)).to(device)\n",
    "\n",
    "\n",
    "print(model_ft(inp))"
   ],
   "metadata": {
    "collapsed": false
   }
  },
  {
   "cell_type": "code",
   "execution_count": null,
   "outputs": [],
   "source": [],
   "metadata": {
    "collapsed": false
   }
  }
 ],
 "metadata": {
  "kernelspec": {
   "display_name": "Python 3",
   "language": "python",
   "name": "python3"
  },
  "language_info": {
   "codemirror_mode": {
    "name": "ipython",
    "version": 2
   },
   "file_extension": ".py",
   "mimetype": "text/x-python",
   "name": "python",
   "nbconvert_exporter": "python",
   "pygments_lexer": "ipython2",
   "version": "2.7.6"
  }
 },
 "nbformat": 4,
 "nbformat_minor": 0
}
