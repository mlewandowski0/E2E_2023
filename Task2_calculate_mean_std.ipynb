{
 "cells": [
  {
   "cell_type": "code",
   "execution_count": 9,
   "metadata": {},
   "outputs": [],
   "source": [
    "import os \n",
    "from tqdm import tqdm\n",
    "import sparse\n",
    "import numpy as np"
   ]
  },
  {
   "cell_type": "code",
   "execution_count": 2,
   "metadata": {},
   "outputs": [],
   "source": [
    "names = []\n",
    "for root, dirs, files in os.walk(\"data/Task2\", topdown=False):\n",
    "   for name in files:\n",
    "      names.append(os.path.join(root, name))"
   ]
  },
  {
   "cell_type": "code",
   "execution_count": 5,
   "metadata": {},
   "outputs": [
    {
     "name": "stdout",
     "output_type": "stream",
     "text": [
      "data/Task2/Quark/13211.npz\n",
      "36272\n"
     ]
    }
   ],
   "source": [
    "print(names[0])\n",
    "print(len(names))"
   ]
  },
  {
   "attachments": {},
   "cell_type": "markdown",
   "metadata": {},
   "source": [
    "Golden for small : \n",
    "-  mean = np.array([0.00782386,0.00482207,0.00304506])\n",
    "- std = np.array([0.63704916,0.18686025,0.04598732])\n"
   ]
  },
  {
   "attachments": {},
   "cell_type": "markdown",
   "metadata": {},
   "source": [
    "### Calculate Mean ( small memory footprint)"
   ]
  },
  {
   "cell_type": "code",
   "execution_count": 10,
   "metadata": {},
   "outputs": [
    {
     "name": "stderr",
     "output_type": "stream",
     "text": [
      "100%|██████████| 36272/36272 [00:44<00:00, 812.13it/s]"
     ]
    },
    {
     "name": "stdout",
     "output_type": "stream",
     "text": [
      "[0.00782386 0.00482207 0.00304506]\n"
     ]
    },
    {
     "name": "stderr",
     "output_type": "stream",
     "text": [
      "\n"
     ]
    }
   ],
   "source": [
    "counts = 0\n",
    "means = 0\n",
    "for f in tqdm(names):\n",
    "    mat = sparse.load_npz(f).todense()\n",
    "\n",
    "    v=  mat.shape[0] * mat.shape[1]\n",
    "    counts += np.array([v, v, v])\n",
    "    means += np.sum(mat.reshape(-1, 3), axis=0)\n",
    "\n",
    "means = means / counts\n",
    "print(means)"
   ]
  },
  {
   "attachments": {},
   "cell_type": "markdown",
   "metadata": {},
   "source": [
    "### Calculate std (small memory footprint)\n",
    "\n",
    "$$ \\sqrt{\\frac{ \\sum_{i}^{N} (x_{i} - \\bar{x})^{2} }{N}} $$"
   ]
  },
  {
   "cell_type": "code",
   "execution_count": 12,
   "metadata": {},
   "outputs": [
    {
     "name": "stderr",
     "output_type": "stream",
     "text": [
      "100%|██████████| 36272/36272 [00:48<00:00, 742.12it/s]"
     ]
    },
    {
     "name": "stdout",
     "output_type": "stream",
     "text": [
      "[0.63704916 0.18686025 0.04598732]\n"
     ]
    },
    {
     "name": "stderr",
     "output_type": "stream",
     "text": [
      "\n"
     ]
    }
   ],
   "source": [
    "stds = 0\n",
    "for f in tqdm(names):\n",
    "    mat = sparse.load_npz(f).todense()\n",
    "    stds += np.sum( (mat.reshape(-1, 3) - means)**2, axis=0)\n",
    "\n",
    "print( np.sqrt( stds / counts ) )"
   ]
  },
  {
   "attachments": {},
   "cell_type": "markdown",
   "metadata": {},
   "source": [
    "### Final"
   ]
  },
  {
   "cell_type": "code",
   "execution_count": 14,
   "metadata": {},
   "outputs": [],
   "source": [
    "def calculate_mean_std_2pass_low_memory(directory):\n",
    "    names = []\n",
    "    for root, dirs, files in os.walk(directory, topdown=False):\n",
    "        for name in files:\n",
    "            names.append(os.path.join(root, name))\n",
    "\n",
    "    counts = 0\n",
    "    means = 0\n",
    "    for f in tqdm(names):\n",
    "        mat = sparse.load_npz(f).todense()\n",
    "\n",
    "        v=  mat.shape[0] * mat.shape[1]\n",
    "        counts += np.array([v, v, v])\n",
    "        means += np.sum(mat.reshape(-1, 3), axis=0)\n",
    "    means = means / counts\n",
    "\n",
    "    stds = 0\n",
    "    for f in tqdm(names):\n",
    "        mat = sparse.load_npz(f).todense()\n",
    "        stds += np.sum( (mat.reshape(-1, 3) - means)**2, axis=0)\n",
    "\n",
    "    stds = np.sqrt( stds / counts ) \n",
    "\n",
    "    return means, stds"
   ]
  },
  {
   "cell_type": "code",
   "execution_count": 15,
   "metadata": {},
   "outputs": [
    {
     "name": "stderr",
     "output_type": "stream",
     "text": [
      "100%|██████████| 36272/36272 [00:42<00:00, 844.71it/s]\n",
      "100%|██████████| 36272/36272 [00:51<00:00, 705.82it/s]\n"
     ]
    },
    {
     "data": {
      "text/plain": [
       "(array([0.00782386, 0.00482207, 0.00304506]),\n",
       " array([0.63704916, 0.18686025, 0.04598732]))"
      ]
     },
     "execution_count": 15,
     "metadata": {},
     "output_type": "execute_result"
    }
   ],
   "source": [
    "calculate_mean_std_2pass_low_memory(\"data/Task2_small\")"
   ]
  },
  {
   "cell_type": "code",
   "execution_count": 16,
   "metadata": {},
   "outputs": [
    {
     "name": "stderr",
     "output_type": "stream",
     "text": [
      "100%|██████████| 139306/139306 [02:52<00:00, 805.96it/s]\n",
      "100%|██████████| 139306/139306 [03:11<00:00, 728.10it/s]\n"
     ]
    },
    {
     "data": {
      "text/plain": [
       "(array([0.00793777, 0.00491434, 0.00303773]),\n",
       " array([1.89825445, 0.18734633, 0.04594031]))"
      ]
     },
     "execution_count": 16,
     "metadata": {},
     "output_type": "execute_result"
    }
   ],
   "source": [
    "calculate_mean_std_2pass_low_memory(\"data/Task2_large\")"
   ]
  },
  {
   "cell_type": "code",
   "execution_count": null,
   "metadata": {},
   "outputs": [],
   "source": []
  }
 ],
 "metadata": {
  "kernelspec": {
   "display_name": "Python 3",
   "language": "python",
   "name": "python3"
  },
  "language_info": {
   "codemirror_mode": {
    "name": "ipython",
    "version": 3
   },
   "file_extension": ".py",
   "mimetype": "text/x-python",
   "name": "python",
   "nbconvert_exporter": "python",
   "pygments_lexer": "ipython3",
   "version": "3.10.6"
  },
  "orig_nbformat": 4
 },
 "nbformat": 4,
 "nbformat_minor": 2
}
